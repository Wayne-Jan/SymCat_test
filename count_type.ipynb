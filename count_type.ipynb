{
 "cells": [
  {
   "cell_type": "code",
   "execution_count": 2,
   "metadata": {},
   "outputs": [
    {
     "data": {
      "text/html": [
       "<pre style=\"white-space:pre;overflow-x:auto;line-height:normal;font-family:Menlo,'DejaVu Sans Mono',consolas,'Courier New',monospace\"><span style=\"font-weight: bold\">開始分析NCHU_sorted_data.json中的SymCat和SymTags分佈</span><span style=\"color: #808000; text-decoration-color: #808000; font-weight: bold\">...</span>\n",
       "</pre>\n"
      ],
      "text/plain": [
       "\u001b[1m開始分析NCHU_sorted_data.json中的SymCat和SymTags分佈\u001b[0m\u001b[1;33m...\u001b[0m\n"
      ]
     },
     "metadata": {},
     "output_type": "display_data"
    },
    {
     "data": {
      "text/html": [
       "<pre style=\"white-space:pre;overflow-x:auto;line-height:normal;font-family:Menlo,'DejaVu Sans Mono',consolas,'Courier New',monospace\">Error parsing label_str: Expecting <span style=\"color: #008000; text-decoration-color: #008000\">','</span> delimiter: line <span style=\"color: #008080; text-decoration-color: #008080; font-weight: bold\">1</span> column <span style=\"color: #008080; text-decoration-color: #008080; font-weight: bold\">222</span> <span style=\"font-weight: bold\">(</span>char <span style=\"color: #008080; text-decoration-color: #008080; font-weight: bold\">221</span><span style=\"font-weight: bold\">)</span>\n",
       "</pre>\n"
      ],
      "text/plain": [
       "Error parsing label_str: Expecting \u001b[32m','\u001b[0m delimiter: line \u001b[1;36m1\u001b[0m column \u001b[1;36m222\u001b[0m \u001b[1m(\u001b[0mchar \u001b[1;36m221\u001b[0m\u001b[1m)\u001b[0m\n"
      ]
     },
     "metadata": {},
     "output_type": "display_data"
    },
    {
     "data": {
      "text/html": [
       "<pre style=\"white-space:pre;overflow-x:auto;line-height:normal;font-family:Menlo,'DejaVu Sans Mono',consolas,'Courier New',monospace\">Error parsing label_str: Expecting value: line <span style=\"color: #008080; text-decoration-color: #008080; font-weight: bold\">1</span> column <span style=\"color: #008080; text-decoration-color: #008080; font-weight: bold\">212</span> <span style=\"font-weight: bold\">(</span>char <span style=\"color: #008080; text-decoration-color: #008080; font-weight: bold\">211</span><span style=\"font-weight: bold\">)</span>\n",
       "</pre>\n"
      ],
      "text/plain": [
       "Error parsing label_str: Expecting value: line \u001b[1;36m1\u001b[0m column \u001b[1;36m212\u001b[0m \u001b[1m(\u001b[0mchar \u001b[1;36m211\u001b[0m\u001b[1m)\u001b[0m\n"
      ]
     },
     "metadata": {},
     "output_type": "display_data"
    },
    {
     "data": {
      "text/html": [
       "<pre style=\"white-space:pre;overflow-x:auto;line-height:normal;font-family:Menlo,'DejaVu Sans Mono',consolas,'Courier New',monospace\">Error parsing label_str: Expecting value: line <span style=\"color: #008080; text-decoration-color: #008080; font-weight: bold\">1</span> column <span style=\"color: #008080; text-decoration-color: #008080; font-weight: bold\">205</span> <span style=\"font-weight: bold\">(</span>char <span style=\"color: #008080; text-decoration-color: #008080; font-weight: bold\">204</span><span style=\"font-weight: bold\">)</span>\n",
       "</pre>\n"
      ],
      "text/plain": [
       "Error parsing label_str: Expecting value: line \u001b[1;36m1\u001b[0m column \u001b[1;36m205\u001b[0m \u001b[1m(\u001b[0mchar \u001b[1;36m204\u001b[0m\u001b[1m)\u001b[0m\n"
      ]
     },
     "metadata": {},
     "output_type": "display_data"
    },
    {
     "data": {
      "text/html": [
       "<pre style=\"white-space:pre;overflow-x:auto;line-height:normal;font-family:Menlo,'DejaVu Sans Mono',consolas,'Courier New',monospace\">Error parsing label_str: Expecting value: line <span style=\"color: #008080; text-decoration-color: #008080; font-weight: bold\">1</span> column <span style=\"color: #008080; text-decoration-color: #008080; font-weight: bold\">205</span> <span style=\"font-weight: bold\">(</span>char <span style=\"color: #008080; text-decoration-color: #008080; font-weight: bold\">204</span><span style=\"font-weight: bold\">)</span>\n",
       "</pre>\n"
      ],
      "text/plain": [
       "Error parsing label_str: Expecting value: line \u001b[1;36m1\u001b[0m column \u001b[1;36m205\u001b[0m \u001b[1m(\u001b[0mchar \u001b[1;36m204\u001b[0m\u001b[1m)\u001b[0m\n"
      ]
     },
     "metadata": {},
     "output_type": "display_data"
    },
    {
     "data": {
      "text/html": [
       "<pre style=\"white-space:pre;overflow-x:auto;line-height:normal;font-family:Menlo,'DejaVu Sans Mono',consolas,'Courier New',monospace\">\n",
       "<span style=\"color: #008080; text-decoration-color: #008080; font-weight: bold\">== symptomCategories 分佈 ==</span>\n",
       "</pre>\n"
      ],
      "text/plain": [
       "\n",
       "\u001b[1;36m== symptomCategories 分佈 ==\u001b[0m\n"
      ]
     },
     "metadata": {},
     "output_type": "display_data"
    },
    {
     "data": {
      "text/html": [
       "<pre style=\"white-space:pre;overflow-x:auto;line-height:normal;font-family:Menlo,'DejaVu Sans Mono',consolas,'Courier New',monospace\"><span style=\"color: #008080; text-decoration-color: #008080; font-weight: bold\">33</span>% 百分位數: <span style=\"color: #008080; text-decoration-color: #008080; font-weight: bold\">98.97</span>\n",
       "</pre>\n"
      ],
      "text/plain": [
       "\u001b[1;36m33\u001b[0m% 百分位數: \u001b[1;36m98.97\u001b[0m\n"
      ]
     },
     "metadata": {},
     "output_type": "display_data"
    },
    {
     "data": {
      "text/html": [
       "<pre style=\"white-space:pre;overflow-x:auto;line-height:normal;font-family:Menlo,'DejaVu Sans Mono',consolas,'Courier New',monospace\"><span style=\"color: #008080; text-decoration-color: #008080; font-weight: bold\">67</span>% 百分位數: <span style=\"color: #008080; text-decoration-color: #008080; font-weight: bold\">446.86</span>\n",
       "</pre>\n"
      ],
      "text/plain": [
       "\u001b[1;36m67\u001b[0m% 百分位數: \u001b[1;36m446.86\u001b[0m\n"
      ]
     },
     "metadata": {},
     "output_type": "display_data"
    },
    {
     "data": {
      "text/html": [
       "<pre style=\"white-space:pre;overflow-x:auto;line-height:normal;font-family:Menlo,'DejaVu Sans Mono',consolas,'Courier New',monospace\"><span style=\"font-style: italic\">                             symptomCategories - HEAD                             </span>\n",
       "┏━━━━━━━━━━━━┳━━━━━━━━━━━━━━━━━━━━━━━━━━━━━━━━━━━━━━━━━━━━━━━━━━━━━━━━┳━━━━━━━━━━┓\n",
       "┃<span style=\"font-weight: bold\"> ID         </span>┃<span style=\"font-weight: bold\"> 描述                                                   </span>┃<span style=\"font-weight: bold\"> 出現次數 </span>┃\n",
       "┡━━━━━━━━━━━━╇━━━━━━━━━━━━━━━━━━━━━━━━━━━━━━━━━━━━━━━━━━━━━━━━━━━━━━━━╇━━━━━━━━━━┩\n",
       "│<span style=\"color: #7f7f7f; text-decoration-color: #7f7f7f\"> SYM_CAT_01 </span>│<span style=\"color: #008000; text-decoration-color: #008000\"> 葉斑/病斑 (Leaf Spot/Lesion)                           </span>│<span style=\"color: #008080; text-decoration-color: #008080\">     1326 </span>│\n",
       "│<span style=\"color: #7f7f7f; text-decoration-color: #7f7f7f\"> SYM_CAT_04 </span>│<span style=\"color: #008000; text-decoration-color: #008000\"> 葉片組織損傷 (Leaf Tissue Damage)                      </span>│<span style=\"color: #008080; text-decoration-color: #008080\">      850 </span>│\n",
       "│<span style=\"color: #7f7f7f; text-decoration-color: #7f7f7f\"> SYM_CAT_02 </span>│<span style=\"color: #008000; text-decoration-color: #008000\"> 病斑周圍特徵 (Lesion Borders/Halos)                    </span>│<span style=\"color: #008080; text-decoration-color: #008080\">      542 </span>│\n",
       "│<span style=\"color: #7f7f7f; text-decoration-color: #7f7f7f\"> SYM_CAT_06 </span>│<span style=\"color: #008000; text-decoration-color: #008000\"> 葉面附著物/生長物 (Substances/Growths on Leaf Surface) </span>│<span style=\"color: #008080; text-decoration-color: #008080\">      496 </span>│\n",
       "└────────────┴────────────────────────────────────────────────────────┴──────────┘\n",
       "</pre>\n"
      ],
      "text/plain": [
       "\u001b[3m                             symptomCategories - HEAD                             \u001b[0m\n",
       "┏━━━━━━━━━━━━┳━━━━━━━━━━━━━━━━━━━━━━━━━━━━━━━━━━━━━━━━━━━━━━━━━━━━━━━━┳━━━━━━━━━━┓\n",
       "┃\u001b[1m \u001b[0m\u001b[1mID        \u001b[0m\u001b[1m \u001b[0m┃\u001b[1m \u001b[0m\u001b[1m描述                                                  \u001b[0m\u001b[1m \u001b[0m┃\u001b[1m \u001b[0m\u001b[1m出現次數\u001b[0m\u001b[1m \u001b[0m┃\n",
       "┡━━━━━━━━━━━━╇━━━━━━━━━━━━━━━━━━━━━━━━━━━━━━━━━━━━━━━━━━━━━━━━━━━━━━━━╇━━━━━━━━━━┩\n",
       "│\u001b[2m \u001b[0m\u001b[2mSYM_CAT_01\u001b[0m\u001b[2m \u001b[0m│\u001b[32m \u001b[0m\u001b[32m葉斑/病斑 (Leaf Spot/Lesion)                          \u001b[0m\u001b[32m \u001b[0m│\u001b[36m \u001b[0m\u001b[36m    1326\u001b[0m\u001b[36m \u001b[0m│\n",
       "│\u001b[2m \u001b[0m\u001b[2mSYM_CAT_04\u001b[0m\u001b[2m \u001b[0m│\u001b[32m \u001b[0m\u001b[32m葉片組織損傷 (Leaf Tissue Damage)                     \u001b[0m\u001b[32m \u001b[0m│\u001b[36m \u001b[0m\u001b[36m     850\u001b[0m\u001b[36m \u001b[0m│\n",
       "│\u001b[2m \u001b[0m\u001b[2mSYM_CAT_02\u001b[0m\u001b[2m \u001b[0m│\u001b[32m \u001b[0m\u001b[32m病斑周圍特徵 (Lesion Borders/Halos)                   \u001b[0m\u001b[32m \u001b[0m│\u001b[36m \u001b[0m\u001b[36m     542\u001b[0m\u001b[36m \u001b[0m│\n",
       "│\u001b[2m \u001b[0m\u001b[2mSYM_CAT_06\u001b[0m\u001b[2m \u001b[0m│\u001b[32m \u001b[0m\u001b[32m葉面附著物/生長物 (Substances/Growths on Leaf Surface)\u001b[0m\u001b[32m \u001b[0m│\u001b[36m \u001b[0m\u001b[36m     496\u001b[0m\u001b[36m \u001b[0m│\n",
       "└────────────┴────────────────────────────────────────────────────────┴──────────┘\n"
      ]
     },
     "metadata": {},
     "output_type": "display_data"
    },
    {
     "data": {
      "text/html": [
       "<pre style=\"white-space:pre;overflow-x:auto;line-height:normal;font-family:Menlo,'DejaVu Sans Mono',consolas,'Courier New',monospace\"><span style=\"font-style: italic\">共 </span><span style=\"color: #008080; text-decoration-color: #008080; font-weight: bold; font-style: italic\">4</span><span style=\"font-style: italic\"> 個head類標籤</span>\n",
       "\n",
       "</pre>\n"
      ],
      "text/plain": [
       "\u001b[3m共 \u001b[0m\u001b[1;3;36m4\u001b[0m\u001b[3m 個head類標籤\u001b[0m\n",
       "\n"
      ]
     },
     "metadata": {},
     "output_type": "display_data"
    },
    {
     "data": {
      "text/html": [
       "<pre style=\"white-space:pre;overflow-x:auto;line-height:normal;font-family:Menlo,'DejaVu Sans Mono',consolas,'Courier New',monospace\"><span style=\"font-style: italic\">                              symptomCategories - MEDIUM                              </span>\n",
       "┏━━━━━━━━━━━━┳━━━━━━━━━━━━━━━━━━━━━━━━━━━━━━━━━━━━━━━━━━━━━━━━━━━━━━━━━━━━┳━━━━━━━━━━┓\n",
       "┃<span style=\"font-weight: bold\"> ID         </span>┃<span style=\"font-weight: bold\"> 描述                                                       </span>┃<span style=\"font-weight: bold\"> 出現次數 </span>┃\n",
       "┡━━━━━━━━━━━━╇━━━━━━━━━━━━━━━━━━━━━━━━━━━━━━━━━━━━━━━━━━━━━━━━━━━━━━━━━━━━╇━━━━━━━━━━┩\n",
       "│<span style=\"color: #7f7f7f; text-decoration-color: #7f7f7f\"> SYM_CAT_03 </span>│<span style=\"color: #008000; text-decoration-color: #008000\"> 葉色變化 (Leaf Color Change)                               </span>│<span style=\"color: #008080; text-decoration-color: #008080\">      418 </span>│\n",
       "│<span style=\"color: #7f7f7f; text-decoration-color: #7f7f7f\"> SYM_CAT_10 </span>│<span style=\"color: #008000; text-decoration-color: #008000\"> 果實/穀粒斑點/病斑 (Fruit/Grain Spot/Lesion)               </span>│<span style=\"color: #008080; text-decoration-color: #008080\">      288 </span>│\n",
       "│<span style=\"color: #7f7f7f; text-decoration-color: #7f7f7f\"> SYM_CAT_11 </span>│<span style=\"color: #008000; text-decoration-color: #008000\"> 果實/穀粒腐爛/變質 (Fruit Rot/Deterioration)               </span>│<span style=\"color: #008080; text-decoration-color: #008080\">      239 </span>│\n",
       "│<span style=\"color: #7f7f7f; text-decoration-color: #7f7f7f\"> SYM_CAT_12 </span>│<span style=\"color: #008000; text-decoration-color: #008000\"> 果實/穀粒附著物/生長物 (Substances/Growths on Fruit/Grain) </span>│<span style=\"color: #008080; text-decoration-color: #008080\">      106 </span>│\n",
       "└────────────┴────────────────────────────────────────────────────────────┴──────────┘\n",
       "</pre>\n"
      ],
      "text/plain": [
       "\u001b[3m                              symptomCategories - MEDIUM                              \u001b[0m\n",
       "┏━━━━━━━━━━━━┳━━━━━━━━━━━━━━━━━━━━━━━━━━━━━━━━━━━━━━━━━━━━━━━━━━━━━━━━━━━━┳━━━━━━━━━━┓\n",
       "┃\u001b[1m \u001b[0m\u001b[1mID        \u001b[0m\u001b[1m \u001b[0m┃\u001b[1m \u001b[0m\u001b[1m描述                                                      \u001b[0m\u001b[1m \u001b[0m┃\u001b[1m \u001b[0m\u001b[1m出現次數\u001b[0m\u001b[1m \u001b[0m┃\n",
       "┡━━━━━━━━━━━━╇━━━━━━━━━━━━━━━━━━━━━━━━━━━━━━━━━━━━━━━━━━━━━━━━━━━━━━━━━━━━╇━━━━━━━━━━┩\n",
       "│\u001b[2m \u001b[0m\u001b[2mSYM_CAT_03\u001b[0m\u001b[2m \u001b[0m│\u001b[32m \u001b[0m\u001b[32m葉色變化 (Leaf Color Change)                              \u001b[0m\u001b[32m \u001b[0m│\u001b[36m \u001b[0m\u001b[36m     418\u001b[0m\u001b[36m \u001b[0m│\n",
       "│\u001b[2m \u001b[0m\u001b[2mSYM_CAT_10\u001b[0m\u001b[2m \u001b[0m│\u001b[32m \u001b[0m\u001b[32m果實/穀粒斑點/病斑 (Fruit/Grain Spot/Lesion)              \u001b[0m\u001b[32m \u001b[0m│\u001b[36m \u001b[0m\u001b[36m     288\u001b[0m\u001b[36m \u001b[0m│\n",
       "│\u001b[2m \u001b[0m\u001b[2mSYM_CAT_11\u001b[0m\u001b[2m \u001b[0m│\u001b[32m \u001b[0m\u001b[32m果實/穀粒腐爛/變質 (Fruit Rot/Deterioration)              \u001b[0m\u001b[32m \u001b[0m│\u001b[36m \u001b[0m\u001b[36m     239\u001b[0m\u001b[36m \u001b[0m│\n",
       "│\u001b[2m \u001b[0m\u001b[2mSYM_CAT_12\u001b[0m\u001b[2m \u001b[0m│\u001b[32m \u001b[0m\u001b[32m果實/穀粒附著物/生長物 (Substances/Growths on Fruit/Grain)\u001b[0m\u001b[32m \u001b[0m│\u001b[36m \u001b[0m\u001b[36m     106\u001b[0m\u001b[36m \u001b[0m│\n",
       "└────────────┴────────────────────────────────────────────────────────────┴──────────┘\n"
      ]
     },
     "metadata": {},
     "output_type": "display_data"
    },
    {
     "data": {
      "text/html": [
       "<pre style=\"white-space:pre;overflow-x:auto;line-height:normal;font-family:Menlo,'DejaVu Sans Mono',consolas,'Courier New',monospace\"><span style=\"font-style: italic\">共 </span><span style=\"color: #008080; text-decoration-color: #008080; font-weight: bold; font-style: italic\">4</span><span style=\"font-style: italic\"> 個medium類標籤</span>\n",
       "\n",
       "</pre>\n"
      ],
      "text/plain": [
       "\u001b[3m共 \u001b[0m\u001b[1;3;36m4\u001b[0m\u001b[3m 個medium類標籤\u001b[0m\n",
       "\n"
      ]
     },
     "metadata": {},
     "output_type": "display_data"
    },
    {
     "data": {
      "text/html": [
       "<pre style=\"white-space:pre;overflow-x:auto;line-height:normal;font-family:Menlo,'DejaVu Sans Mono',consolas,'Courier New',monospace\"><span style=\"font-style: italic\">                             symptomCategories - TAIL                              </span>\n",
       "┏━━━━━━━━━━━━┳━━━━━━━━━━━━━━━━━━━━━━━━━━━━━━━━━━━━━━━━━━━━━━━━━━━━━━━━━┳━━━━━━━━━━┓\n",
       "┃<span style=\"font-weight: bold\"> ID         </span>┃<span style=\"font-weight: bold\"> 描述                                                    </span>┃<span style=\"font-weight: bold\"> 出現次數 </span>┃\n",
       "┡━━━━━━━━━━━━╇━━━━━━━━━━━━━━━━━━━━━━━━━━━━━━━━━━━━━━━━━━━━━━━━━━━━━━━━━╇━━━━━━━━━━┩\n",
       "│<span style=\"color: #7f7f7f; text-decoration-color: #7f7f7f\"> SYM_CAT_05 </span>│<span style=\"color: #008000; text-decoration-color: #008000\"> 葉片變形 (Leaf Deformation)                             </span>│<span style=\"color: #008080; text-decoration-color: #008080\">       87 </span>│\n",
       "│<span style=\"color: #7f7f7f; text-decoration-color: #7f7f7f\"> SYM_CAT_09 </span>│<span style=\"color: #008000; text-decoration-color: #008000\"> 莖/枝條附著物/生長物 (Substances/Growths on Stem/Shoot) </span>│<span style=\"color: #008080; text-decoration-color: #008080\">       73 </span>│\n",
       "│<span style=\"color: #7f7f7f; text-decoration-color: #7f7f7f\"> SYM_CAT_07 </span>│<span style=\"color: #008000; text-decoration-color: #008000\"> 莖節/穗頸/枝條病變 (Node/Neck/Shoot Lesion)             </span>│<span style=\"color: #008080; text-decoration-color: #008080\">       68 </span>│\n",
       "│<span style=\"color: #7f7f7f; text-decoration-color: #7f7f7f\"> SYM_CAT_08 </span>│<span style=\"color: #008000; text-decoration-color: #008000\"> 葉鞘病變 (Sheath Lesion)                                </span>│<span style=\"color: #008080; text-decoration-color: #008080\">       63 </span>│\n",
       "└────────────┴─────────────────────────────────────────────────────────┴──────────┘\n",
       "</pre>\n"
      ],
      "text/plain": [
       "\u001b[3m                             symptomCategories - TAIL                              \u001b[0m\n",
       "┏━━━━━━━━━━━━┳━━━━━━━━━━━━━━━━━━━━━━━━━━━━━━━━━━━━━━━━━━━━━━━━━━━━━━━━━┳━━━━━━━━━━┓\n",
       "┃\u001b[1m \u001b[0m\u001b[1mID        \u001b[0m\u001b[1m \u001b[0m┃\u001b[1m \u001b[0m\u001b[1m描述                                                   \u001b[0m\u001b[1m \u001b[0m┃\u001b[1m \u001b[0m\u001b[1m出現次數\u001b[0m\u001b[1m \u001b[0m┃\n",
       "┡━━━━━━━━━━━━╇━━━━━━━━━━━━━━━━━━━━━━━━━━━━━━━━━━━━━━━━━━━━━━━━━━━━━━━━━╇━━━━━━━━━━┩\n",
       "│\u001b[2m \u001b[0m\u001b[2mSYM_CAT_05\u001b[0m\u001b[2m \u001b[0m│\u001b[32m \u001b[0m\u001b[32m葉片變形 (Leaf Deformation)                            \u001b[0m\u001b[32m \u001b[0m│\u001b[36m \u001b[0m\u001b[36m      87\u001b[0m\u001b[36m \u001b[0m│\n",
       "│\u001b[2m \u001b[0m\u001b[2mSYM_CAT_09\u001b[0m\u001b[2m \u001b[0m│\u001b[32m \u001b[0m\u001b[32m莖/枝條附著物/生長物 (Substances/Growths on Stem/Shoot)\u001b[0m\u001b[32m \u001b[0m│\u001b[36m \u001b[0m\u001b[36m      73\u001b[0m\u001b[36m \u001b[0m│\n",
       "│\u001b[2m \u001b[0m\u001b[2mSYM_CAT_07\u001b[0m\u001b[2m \u001b[0m│\u001b[32m \u001b[0m\u001b[32m莖節/穗頸/枝條病變 (Node/Neck/Shoot Lesion)            \u001b[0m\u001b[32m \u001b[0m│\u001b[36m \u001b[0m\u001b[36m      68\u001b[0m\u001b[36m \u001b[0m│\n",
       "│\u001b[2m \u001b[0m\u001b[2mSYM_CAT_08\u001b[0m\u001b[2m \u001b[0m│\u001b[32m \u001b[0m\u001b[32m葉鞘病變 (Sheath Lesion)                               \u001b[0m\u001b[32m \u001b[0m│\u001b[36m \u001b[0m\u001b[36m      63\u001b[0m\u001b[36m \u001b[0m│\n",
       "└────────────┴─────────────────────────────────────────────────────────┴──────────┘\n"
      ]
     },
     "metadata": {},
     "output_type": "display_data"
    },
    {
     "data": {
      "text/html": [
       "<pre style=\"white-space:pre;overflow-x:auto;line-height:normal;font-family:Menlo,'DejaVu Sans Mono',consolas,'Courier New',monospace\"><span style=\"font-style: italic\">共 </span><span style=\"color: #008080; text-decoration-color: #008080; font-weight: bold; font-style: italic\">4</span><span style=\"font-style: italic\"> 個tail類標籤</span>\n",
       "\n",
       "</pre>\n"
      ],
      "text/plain": [
       "\u001b[3m共 \u001b[0m\u001b[1;3;36m4\u001b[0m\u001b[3m 個tail類標籤\u001b[0m\n",
       "\n"
      ]
     },
     "metadata": {},
     "output_type": "display_data"
    },
    {
     "data": {
      "text/html": [
       "<pre style=\"white-space:pre;overflow-x:auto;line-height:normal;font-family:Menlo,'DejaVu Sans Mono',consolas,'Courier New',monospace\">\n",
       "<span style=\"color: #008080; text-decoration-color: #008080; font-weight: bold\">== symptomTags 分佈 ==</span>\n",
       "</pre>\n"
      ],
      "text/plain": [
       "\n",
       "\u001b[1;36m== symptomTags 分佈 ==\u001b[0m\n"
      ]
     },
     "metadata": {},
     "output_type": "display_data"
    },
    {
     "data": {
      "text/html": [
       "<pre style=\"white-space:pre;overflow-x:auto;line-height:normal;font-family:Menlo,'DejaVu Sans Mono',consolas,'Courier New',monospace\"><span style=\"color: #008080; text-decoration-color: #008080; font-weight: bold\">33</span>% 百分位數: <span style=\"color: #008080; text-decoration-color: #008080; font-weight: bold\">51.720000000000006</span>\n",
       "</pre>\n"
      ],
      "text/plain": [
       "\u001b[1;36m33\u001b[0m% 百分位數: \u001b[1;36m51.720000000000006\u001b[0m\n"
      ]
     },
     "metadata": {},
     "output_type": "display_data"
    },
    {
     "data": {
      "text/html": [
       "<pre style=\"white-space:pre;overflow-x:auto;line-height:normal;font-family:Menlo,'DejaVu Sans Mono',consolas,'Courier New',monospace\"><span style=\"color: #008080; text-decoration-color: #008080; font-weight: bold\">67</span>% 百分位數: <span style=\"color: #008080; text-decoration-color: #008080; font-weight: bold\">114.74000000000001</span>\n",
       "</pre>\n"
      ],
      "text/plain": [
       "\u001b[1;36m67\u001b[0m% 百分位數: \u001b[1;36m114.74000000000001\u001b[0m\n"
      ]
     },
     "metadata": {},
     "output_type": "display_data"
    },
    {
     "data": {
      "text/html": [
       "<pre style=\"white-space:pre;overflow-x:auto;line-height:normal;font-family:Menlo,'DejaVu Sans Mono',consolas,'Courier New',monospace\"><span style=\"font-style: italic\">                                       symptomTags - HEAD                                        </span>\n",
       "┏━━━━━━━━━━━━━━┳━━━━━━━━━━━━━━━━━━━━━━━━━━━━━━━━━━━━━━━━━━━━━━━━━━━━━━━━━━━━━━━━━━━━━┳━━━━━━━━━━┓\n",
       "┃<span style=\"font-weight: bold\"> ID           </span>┃<span style=\"font-weight: bold\"> 描述                                                                </span>┃<span style=\"font-weight: bold\"> 出現次數 </span>┃\n",
       "┡━━━━━━━━━━━━━━╇━━━━━━━━━━━━━━━━━━━━━━━━━━━━━━━━━━━━━━━━━━━━━━━━━━━━━━━━━━━━━━━━━━━━━╇━━━━━━━━━━┩\n",
       "│<span style=\"color: #7f7f7f; text-decoration-color: #7f7f7f\"> SYM_TAG_0103 </span>│<span style=\"color: #008000; text-decoration-color: #008000\"> 褐色/紅褐色/暗褐色病斑 (Brown/Reddish-Brown/Dark Brown Lesion/Spot) </span>│<span style=\"color: #008080; text-decoration-color: #008080\">     1047 </span>│\n",
       "│<span style=\"color: #7f7f7f; text-decoration-color: #7f7f7f\"> SYM_TAG_0401 </span>│<span style=\"color: #008000; text-decoration-color: #008000\"> 葉片枯萎/乾枯 (Leaf Wilting/Drying/Necrosis)                        </span>│<span style=\"color: #008080; text-decoration-color: #008080\">      672 </span>│\n",
       "│<span style=\"color: #7f7f7f; text-decoration-color: #7f7f7f\"> SYM_TAG_0201 </span>│<span style=\"color: #008000; text-decoration-color: #008000\"> 病斑邊緣褐化/深色 (Lesion Border Browning/Darkening)                </span>│<span style=\"color: #008080; text-decoration-color: #008080\">      473 </span>│\n",
       "│<span style=\"color: #7f7f7f; text-decoration-color: #7f7f7f\"> SYM_TAG_0110 </span>│<span style=\"color: #008000; text-decoration-color: #008000\"> 圓形病斑 (Round Lesion)                                             </span>│<span style=\"color: #008080; text-decoration-color: #008080\">      400 </span>│\n",
       "│<span style=\"color: #7f7f7f; text-decoration-color: #7f7f7f\"> SYM_TAG_0301 </span>│<span style=\"color: #008000; text-decoration-color: #008000\"> 葉片黃化 (Leaf Yellowing/Chlorosis)                                 </span>│<span style=\"color: #008080; text-decoration-color: #008080\">      370 </span>│\n",
       "│<span style=\"color: #7f7f7f; text-decoration-color: #7f7f7f\"> SYM_TAG_0102 </span>│<span style=\"color: #008000; text-decoration-color: #008000\"> 黃色/黃綠色病斑 (Yellow/Yellowish-Green Lesion/Spot)                </span>│<span style=\"color: #008080; text-decoration-color: #008080\">      332 </span>│\n",
       "│<span style=\"color: #7f7f7f; text-decoration-color: #7f7f7f\"> SYM_TAG_0203 </span>│<span style=\"color: #008000; text-decoration-color: #008000\"> 病斑中央灰白/壞死 (Lesion Center Grayish-White/Necrotic)            </span>│<span style=\"color: #008080; text-decoration-color: #008080\">      301 </span>│\n",
       "│<span style=\"color: #7f7f7f; text-decoration-color: #7f7f7f\"> SYM_TAG_1003 </span>│<span style=\"color: #008000; text-decoration-color: #008000\"> 暗褐色/黑褐色斑點 (Fruit/Grain Dark Brown/Blackish-Brown Spot)      </span>│<span style=\"color: #008080; text-decoration-color: #008080\">      273 </span>│\n",
       "│<span style=\"color: #7f7f7f; text-decoration-color: #7f7f7f\"> SYM_TAG_0114 </span>│<span style=\"color: #008000; text-decoration-color: #008000\"> 雲紋狀/虎斑狀/不規則病斑 (Cloud-like/Tiger-stripe/Irregular Lesion) </span>│<span style=\"color: #008080; text-decoration-color: #008080\">      245 </span>│\n",
       "│<span style=\"color: #7f7f7f; text-decoration-color: #7f7f7f\"> SYM_TAG_0601 </span>│<span style=\"color: #008000; text-decoration-color: #008000\"> 白色黴狀物/粉狀物 (White Moldy/Powdery Growth)                      </span>│<span style=\"color: #008080; text-decoration-color: #008080\">      243 </span>│\n",
       "│<span style=\"color: #7f7f7f; text-decoration-color: #7f7f7f\"> SYM_TAG_0402 </span>│<span style=\"color: #008000; text-decoration-color: #008000\"> 葉片穿孔/破裂 (Leaf Shot Hole/Perforation)                          </span>│<span style=\"color: #008080; text-decoration-color: #008080\">      223 </span>│\n",
       "│<span style=\"color: #7f7f7f; text-decoration-color: #7f7f7f\"> SYM_TAG_0104 </span>│<span style=\"color: #008000; text-decoration-color: #008000\"> 灰白色病斑 (Grayish-White Lesion/Spot)                              </span>│<span style=\"color: #008080; text-decoration-color: #008080\">      157 </span>│\n",
       "│<span style=\"color: #7f7f7f; text-decoration-color: #7f7f7f\"> SYM_TAG_1005 </span>│<span style=\"color: #008000; text-decoration-color: #008000\"> 鳥眼狀病斑 (Fruit Bird's Eye Lesion)                                </span>│<span style=\"color: #008080; text-decoration-color: #008080\">      143 </span>│\n",
       "│<span style=\"color: #7f7f7f; text-decoration-color: #7f7f7f\"> SYM_TAG_1107 </span>│<span style=\"color: #008000; text-decoration-color: #008000\"> 變色 (Grain Discoloration)                                          </span>│<span style=\"color: #008080; text-decoration-color: #008080\">      130 </span>│\n",
       "│<span style=\"color: #7f7f7f; text-decoration-color: #7f7f7f\"> SYM_TAG_1106 </span>│<span style=\"color: #008000; text-decoration-color: #008000\"> 畸形/不飽滿/空粒 (Grain Deformed/Unfilled/Empty)                    </span>│<span style=\"color: #008080; text-decoration-color: #008080\">      120 </span>│\n",
       "│<span style=\"color: #7f7f7f; text-decoration-color: #7f7f7f\"> SYM_TAG_0115 </span>│<span style=\"color: #008000; text-decoration-color: #008000\"> 鳥眼狀病斑 (Bird's Eye Lesion)                                      </span>│<span style=\"color: #008080; text-decoration-color: #008080\">      116 </span>│\n",
       "└──────────────┴─────────────────────────────────────────────────────────────────────┴──────────┘\n",
       "</pre>\n"
      ],
      "text/plain": [
       "\u001b[3m                                       symptomTags - HEAD                                        \u001b[0m\n",
       "┏━━━━━━━━━━━━━━┳━━━━━━━━━━━━━━━━━━━━━━━━━━━━━━━━━━━━━━━━━━━━━━━━━━━━━━━━━━━━━━━━━━━━━┳━━━━━━━━━━┓\n",
       "┃\u001b[1m \u001b[0m\u001b[1mID          \u001b[0m\u001b[1m \u001b[0m┃\u001b[1m \u001b[0m\u001b[1m描述                                                               \u001b[0m\u001b[1m \u001b[0m┃\u001b[1m \u001b[0m\u001b[1m出現次數\u001b[0m\u001b[1m \u001b[0m┃\n",
       "┡━━━━━━━━━━━━━━╇━━━━━━━━━━━━━━━━━━━━━━━━━━━━━━━━━━━━━━━━━━━━━━━━━━━━━━━━━━━━━━━━━━━━━╇━━━━━━━━━━┩\n",
       "│\u001b[2m \u001b[0m\u001b[2mSYM_TAG_0103\u001b[0m\u001b[2m \u001b[0m│\u001b[32m \u001b[0m\u001b[32m褐色/紅褐色/暗褐色病斑 (Brown/Reddish-Brown/Dark Brown Lesion/Spot)\u001b[0m\u001b[32m \u001b[0m│\u001b[36m \u001b[0m\u001b[36m    1047\u001b[0m\u001b[36m \u001b[0m│\n",
       "│\u001b[2m \u001b[0m\u001b[2mSYM_TAG_0401\u001b[0m\u001b[2m \u001b[0m│\u001b[32m \u001b[0m\u001b[32m葉片枯萎/乾枯 (Leaf Wilting/Drying/Necrosis)                       \u001b[0m\u001b[32m \u001b[0m│\u001b[36m \u001b[0m\u001b[36m     672\u001b[0m\u001b[36m \u001b[0m│\n",
       "│\u001b[2m \u001b[0m\u001b[2mSYM_TAG_0201\u001b[0m\u001b[2m \u001b[0m│\u001b[32m \u001b[0m\u001b[32m病斑邊緣褐化/深色 (Lesion Border Browning/Darkening)               \u001b[0m\u001b[32m \u001b[0m│\u001b[36m \u001b[0m\u001b[36m     473\u001b[0m\u001b[36m \u001b[0m│\n",
       "│\u001b[2m \u001b[0m\u001b[2mSYM_TAG_0110\u001b[0m\u001b[2m \u001b[0m│\u001b[32m \u001b[0m\u001b[32m圓形病斑 (Round Lesion)                                            \u001b[0m\u001b[32m \u001b[0m│\u001b[36m \u001b[0m\u001b[36m     400\u001b[0m\u001b[36m \u001b[0m│\n",
       "│\u001b[2m \u001b[0m\u001b[2mSYM_TAG_0301\u001b[0m\u001b[2m \u001b[0m│\u001b[32m \u001b[0m\u001b[32m葉片黃化 (Leaf Yellowing/Chlorosis)                                \u001b[0m\u001b[32m \u001b[0m│\u001b[36m \u001b[0m\u001b[36m     370\u001b[0m\u001b[36m \u001b[0m│\n",
       "│\u001b[2m \u001b[0m\u001b[2mSYM_TAG_0102\u001b[0m\u001b[2m \u001b[0m│\u001b[32m \u001b[0m\u001b[32m黃色/黃綠色病斑 (Yellow/Yellowish-Green Lesion/Spot)               \u001b[0m\u001b[32m \u001b[0m│\u001b[36m \u001b[0m\u001b[36m     332\u001b[0m\u001b[36m \u001b[0m│\n",
       "│\u001b[2m \u001b[0m\u001b[2mSYM_TAG_0203\u001b[0m\u001b[2m \u001b[0m│\u001b[32m \u001b[0m\u001b[32m病斑中央灰白/壞死 (Lesion Center Grayish-White/Necrotic)           \u001b[0m\u001b[32m \u001b[0m│\u001b[36m \u001b[0m\u001b[36m     301\u001b[0m\u001b[36m \u001b[0m│\n",
       "│\u001b[2m \u001b[0m\u001b[2mSYM_TAG_1003\u001b[0m\u001b[2m \u001b[0m│\u001b[32m \u001b[0m\u001b[32m暗褐色/黑褐色斑點 (Fruit/Grain Dark Brown/Blackish-Brown Spot)     \u001b[0m\u001b[32m \u001b[0m│\u001b[36m \u001b[0m\u001b[36m     273\u001b[0m\u001b[36m \u001b[0m│\n",
       "│\u001b[2m \u001b[0m\u001b[2mSYM_TAG_0114\u001b[0m\u001b[2m \u001b[0m│\u001b[32m \u001b[0m\u001b[32m雲紋狀/虎斑狀/不規則病斑 (Cloud-like/Tiger-stripe/Irregular Lesion)\u001b[0m\u001b[32m \u001b[0m│\u001b[36m \u001b[0m\u001b[36m     245\u001b[0m\u001b[36m \u001b[0m│\n",
       "│\u001b[2m \u001b[0m\u001b[2mSYM_TAG_0601\u001b[0m\u001b[2m \u001b[0m│\u001b[32m \u001b[0m\u001b[32m白色黴狀物/粉狀物 (White Moldy/Powdery Growth)                     \u001b[0m\u001b[32m \u001b[0m│\u001b[36m \u001b[0m\u001b[36m     243\u001b[0m\u001b[36m \u001b[0m│\n",
       "│\u001b[2m \u001b[0m\u001b[2mSYM_TAG_0402\u001b[0m\u001b[2m \u001b[0m│\u001b[32m \u001b[0m\u001b[32m葉片穿孔/破裂 (Leaf Shot Hole/Perforation)                         \u001b[0m\u001b[32m \u001b[0m│\u001b[36m \u001b[0m\u001b[36m     223\u001b[0m\u001b[36m \u001b[0m│\n",
       "│\u001b[2m \u001b[0m\u001b[2mSYM_TAG_0104\u001b[0m\u001b[2m \u001b[0m│\u001b[32m \u001b[0m\u001b[32m灰白色病斑 (Grayish-White Lesion/Spot)                             \u001b[0m\u001b[32m \u001b[0m│\u001b[36m \u001b[0m\u001b[36m     157\u001b[0m\u001b[36m \u001b[0m│\n",
       "│\u001b[2m \u001b[0m\u001b[2mSYM_TAG_1005\u001b[0m\u001b[2m \u001b[0m│\u001b[32m \u001b[0m\u001b[32m鳥眼狀病斑 (Fruit Bird's Eye Lesion)                               \u001b[0m\u001b[32m \u001b[0m│\u001b[36m \u001b[0m\u001b[36m     143\u001b[0m\u001b[36m \u001b[0m│\n",
       "│\u001b[2m \u001b[0m\u001b[2mSYM_TAG_1107\u001b[0m\u001b[2m \u001b[0m│\u001b[32m \u001b[0m\u001b[32m變色 (Grain Discoloration)                                         \u001b[0m\u001b[32m \u001b[0m│\u001b[36m \u001b[0m\u001b[36m     130\u001b[0m\u001b[36m \u001b[0m│\n",
       "│\u001b[2m \u001b[0m\u001b[2mSYM_TAG_1106\u001b[0m\u001b[2m \u001b[0m│\u001b[32m \u001b[0m\u001b[32m畸形/不飽滿/空粒 (Grain Deformed/Unfilled/Empty)                   \u001b[0m\u001b[32m \u001b[0m│\u001b[36m \u001b[0m\u001b[36m     120\u001b[0m\u001b[36m \u001b[0m│\n",
       "│\u001b[2m \u001b[0m\u001b[2mSYM_TAG_0115\u001b[0m\u001b[2m \u001b[0m│\u001b[32m \u001b[0m\u001b[32m鳥眼狀病斑 (Bird's Eye Lesion)                                     \u001b[0m\u001b[32m \u001b[0m│\u001b[36m \u001b[0m\u001b[36m     116\u001b[0m\u001b[36m \u001b[0m│\n",
       "└──────────────┴─────────────────────────────────────────────────────────────────────┴──────────┘\n"
      ]
     },
     "metadata": {},
     "output_type": "display_data"
    },
    {
     "data": {
      "text/html": [
       "<pre style=\"white-space:pre;overflow-x:auto;line-height:normal;font-family:Menlo,'DejaVu Sans Mono',consolas,'Courier New',monospace\"><span style=\"font-style: italic\">共 </span><span style=\"color: #008080; text-decoration-color: #008080; font-weight: bold; font-style: italic\">16</span><span style=\"font-style: italic\"> 個head類標籤</span>\n",
       "\n",
       "</pre>\n"
      ],
      "text/plain": [
       "\u001b[3m共 \u001b[0m\u001b[1;3;36m16\u001b[0m\u001b[3m 個head類標籤\u001b[0m\n",
       "\n"
      ]
     },
     "metadata": {},
     "output_type": "display_data"
    },
    {
     "data": {
      "text/html": [
       "<pre style=\"white-space:pre;overflow-x:auto;line-height:normal;font-family:Menlo,'DejaVu Sans Mono',consolas,'Courier New',monospace\"><span style=\"font-style: italic\">                                               symptomTags - MEDIUM                                                </span>\n",
       "┏━━━━━━━━━━━━━━┳━━━━━━━━━━━━━━━━━━━━━━━━━━━━━━━━━━━━━━━━━━━━━━━━━━━━━━━━━━━━━━━━━━━━━━━━━━━━━━━━━━━━━━━┳━━━━━━━━━━┓\n",
       "┃<span style=\"font-weight: bold\"> ID           </span>┃<span style=\"font-weight: bold\"> 描述                                                                                  </span>┃<span style=\"font-weight: bold\"> 出現次數 </span>┃\n",
       "┡━━━━━━━━━━━━━━╇━━━━━━━━━━━━━━━━━━━━━━━━━━━━━━━━━━━━━━━━━━━━━━━━━━━━━━━━━━━━━━━━━━━━━━━━━━━━━━━━━━━━━━━╇━━━━━━━━━━┩\n",
       "│<span style=\"color: #7f7f7f; text-decoration-color: #7f7f7f\"> SYM_TAG_0602 </span>│<span style=\"color: #008000; text-decoration-color: #008000\"> 黃色粉狀物 (Yellow Powdery Growth)                                                    </span>│<span style=\"color: #008080; text-decoration-color: #008080\">      109 </span>│\n",
       "│<span style=\"color: #7f7f7f; text-decoration-color: #7f7f7f\"> SYM_TAG_1207 </span>│<span style=\"color: #008000; text-decoration-color: #008000\"> 穀粒橘孢子 (Orange Spores on Grain)                                                   </span>│<span style=\"color: #008080; text-decoration-color: #008080\">      104 </span>│\n",
       "│<span style=\"color: #7f7f7f; text-decoration-color: #7f7f7f\"> SYM_TAG_0603 </span>│<span style=\"color: #008000; text-decoration-color: #008000\"> 黑色黴狀物/絨毛狀/煤煙狀 (Black Moldy/Velvety/Sooty Growth)                           </span>│<span style=\"color: #008080; text-decoration-color: #008080\">       99 </span>│\n",
       "│<span style=\"color: #7f7f7f; text-decoration-color: #7f7f7f\"> SYM_TAG_0109 </span>│<span style=\"color: #008000; text-decoration-color: #008000\"> 紡錘形病斑 (Spindle-shaped Lesion)                                                    </span>│<span style=\"color: #008080; text-decoration-color: #008080\">       93 </span>│\n",
       "│<span style=\"color: #7f7f7f; text-decoration-color: #7f7f7f\"> SYM_TAG_0113 </span>│<span style=\"color: #008000; text-decoration-color: #008000\"> 網紋狀病斑 (Net-like/Reticulated Lesion)                                              </span>│<span style=\"color: #008080; text-decoration-color: #008080\">       92 </span>│\n",
       "│<span style=\"color: #7f7f7f; text-decoration-color: #7f7f7f\"> SYM_TAG_0202 </span>│<span style=\"color: #008000; text-decoration-color: #008000\"> 病斑周圍黃暈 (Yellow Halo around Lesion)                                              </span>│<span style=\"color: #008080; text-decoration-color: #008080\">       90 </span>│\n",
       "│<span style=\"color: #7f7f7f; text-decoration-color: #7f7f7f\"> SYM_TAG_0403 </span>│<span style=\"color: #008000; text-decoration-color: #008000\"> 葉緣焦枯 (Leaf Margin Scorch)                                                         </span>│<span style=\"color: #008080; text-decoration-color: #008080\">       87 </span>│\n",
       "│<span style=\"color: #7f7f7f; text-decoration-color: #7f7f7f\"> SYM_TAG_0501 </span>│<span style=\"color: #008000; text-decoration-color: #008000\"> 葉片扭曲/變形 (Leaf Distortion/Twisting)                                              </span>│<span style=\"color: #008080; text-decoration-color: #008080\">       86 </span>│\n",
       "│<span style=\"color: #7f7f7f; text-decoration-color: #7f7f7f\"> SYM_TAG_0108 </span>│<span style=\"color: #008000; text-decoration-color: #008000\"> 細點狀/針點狀病斑 (Speckled/Pinpoint Lesion)                                          </span>│<span style=\"color: #008080; text-decoration-color: #008080\">       85 </span>│\n",
       "│<span style=\"color: #7f7f7f; text-decoration-color: #7f7f7f\"> SYM_TAG_1104 </span>│<span style=\"color: #008000; text-decoration-color: #008000\"> 龜裂 (Fruit/Grain Cracking)                                                           </span>│<span style=\"color: #008080; text-decoration-color: #008080\">       78 </span>│\n",
       "│<span style=\"color: #7f7f7f; text-decoration-color: #7f7f7f\"> SYM_TAG_0905 </span>│<span style=\"color: #008000; text-decoration-color: #008000\"> 枝條黑色菌索/絲狀物 (Black Mycelial Strands/Rhizomorphs on Shoot)                     </span>│<span style=\"color: #008080; text-decoration-color: #008080\">       73 </span>│\n",
       "│<span style=\"color: #7f7f7f; text-decoration-color: #7f7f7f\"> SYM_TAG_1103 </span>│<span style=\"color: #008000; text-decoration-color: #008000\"> 乾枯/木乃伊化 (Fruit Shriveling/Mummification)                                        </span>│<span style=\"color: #008080; text-decoration-color: #008080\">       68 </span>│\n",
       "│<span style=\"color: #7f7f7f; text-decoration-color: #7f7f7f\"> SYM_TAG_0801 </span>│<span style=\"color: #008000; text-decoration-color: #008000\"> 葉鞘水浸狀/灰綠/灰白褐邊病斑 (Sheath Water-soaked/Grayish-Green/Gray-White            </span>│<span style=\"color: #008080; text-decoration-color: #008080\">       61 </span>│\n",
       "│<span style=\"color: #7f7f7f; text-decoration-color: #7f7f7f\">              </span>│<span style=\"color: #008000; text-decoration-color: #008000\"> Brown-Border Lesion)                                                                  </span>│<span style=\"color: #008080; text-decoration-color: #008080\">          </span>│\n",
       "│<span style=\"color: #7f7f7f; text-decoration-color: #7f7f7f\"> SYM_TAG_1102 </span>│<span style=\"color: #008000; text-decoration-color: #008000\"> 褐腐 (Fruit Brown Rot)                                                                </span>│<span style=\"color: #008080; text-decoration-color: #008080\">       58 </span>│\n",
       "│<span style=\"color: #7f7f7f; text-decoration-color: #7f7f7f\"> SYM_TAG_0802 </span>│<span style=\"color: #008000; text-decoration-color: #008000\"> 葉鞘褐變/枯死 (Sheath Browning/Necrosis)                                              </span>│<span style=\"color: #008080; text-decoration-color: #008080\">       55 </span>│\n",
       "└──────────────┴───────────────────────────────────────────────────────────────────────────────────────┴──────────┘\n",
       "</pre>\n"
      ],
      "text/plain": [
       "\u001b[3m                                               symptomTags - MEDIUM                                                \u001b[0m\n",
       "┏━━━━━━━━━━━━━━┳━━━━━━━━━━━━━━━━━━━━━━━━━━━━━━━━━━━━━━━━━━━━━━━━━━━━━━━━━━━━━━━━━━━━━━━━━━━━━━━━━━━━━━━┳━━━━━━━━━━┓\n",
       "┃\u001b[1m \u001b[0m\u001b[1mID          \u001b[0m\u001b[1m \u001b[0m┃\u001b[1m \u001b[0m\u001b[1m描述                                                                                 \u001b[0m\u001b[1m \u001b[0m┃\u001b[1m \u001b[0m\u001b[1m出現次數\u001b[0m\u001b[1m \u001b[0m┃\n",
       "┡━━━━━━━━━━━━━━╇━━━━━━━━━━━━━━━━━━━━━━━━━━━━━━━━━━━━━━━━━━━━━━━━━━━━━━━━━━━━━━━━━━━━━━━━━━━━━━━━━━━━━━━╇━━━━━━━━━━┩\n",
       "│\u001b[2m \u001b[0m\u001b[2mSYM_TAG_0602\u001b[0m\u001b[2m \u001b[0m│\u001b[32m \u001b[0m\u001b[32m黃色粉狀物 (Yellow Powdery Growth)                                                   \u001b[0m\u001b[32m \u001b[0m│\u001b[36m \u001b[0m\u001b[36m     109\u001b[0m\u001b[36m \u001b[0m│\n",
       "│\u001b[2m \u001b[0m\u001b[2mSYM_TAG_1207\u001b[0m\u001b[2m \u001b[0m│\u001b[32m \u001b[0m\u001b[32m穀粒橘孢子 (Orange Spores on Grain)                                                  \u001b[0m\u001b[32m \u001b[0m│\u001b[36m \u001b[0m\u001b[36m     104\u001b[0m\u001b[36m \u001b[0m│\n",
       "│\u001b[2m \u001b[0m\u001b[2mSYM_TAG_0603\u001b[0m\u001b[2m \u001b[0m│\u001b[32m \u001b[0m\u001b[32m黑色黴狀物/絨毛狀/煤煙狀 (Black Moldy/Velvety/Sooty Growth)                          \u001b[0m\u001b[32m \u001b[0m│\u001b[36m \u001b[0m\u001b[36m      99\u001b[0m\u001b[36m \u001b[0m│\n",
       "│\u001b[2m \u001b[0m\u001b[2mSYM_TAG_0109\u001b[0m\u001b[2m \u001b[0m│\u001b[32m \u001b[0m\u001b[32m紡錘形病斑 (Spindle-shaped Lesion)                                                   \u001b[0m\u001b[32m \u001b[0m│\u001b[36m \u001b[0m\u001b[36m      93\u001b[0m\u001b[36m \u001b[0m│\n",
       "│\u001b[2m \u001b[0m\u001b[2mSYM_TAG_0113\u001b[0m\u001b[2m \u001b[0m│\u001b[32m \u001b[0m\u001b[32m網紋狀病斑 (Net-like/Reticulated Lesion)                                             \u001b[0m\u001b[32m \u001b[0m│\u001b[36m \u001b[0m\u001b[36m      92\u001b[0m\u001b[36m \u001b[0m│\n",
       "│\u001b[2m \u001b[0m\u001b[2mSYM_TAG_0202\u001b[0m\u001b[2m \u001b[0m│\u001b[32m \u001b[0m\u001b[32m病斑周圍黃暈 (Yellow Halo around Lesion)                                             \u001b[0m\u001b[32m \u001b[0m│\u001b[36m \u001b[0m\u001b[36m      90\u001b[0m\u001b[36m \u001b[0m│\n",
       "│\u001b[2m \u001b[0m\u001b[2mSYM_TAG_0403\u001b[0m\u001b[2m \u001b[0m│\u001b[32m \u001b[0m\u001b[32m葉緣焦枯 (Leaf Margin Scorch)                                                        \u001b[0m\u001b[32m \u001b[0m│\u001b[36m \u001b[0m\u001b[36m      87\u001b[0m\u001b[36m \u001b[0m│\n",
       "│\u001b[2m \u001b[0m\u001b[2mSYM_TAG_0501\u001b[0m\u001b[2m \u001b[0m│\u001b[32m \u001b[0m\u001b[32m葉片扭曲/變形 (Leaf Distortion/Twisting)                                             \u001b[0m\u001b[32m \u001b[0m│\u001b[36m \u001b[0m\u001b[36m      86\u001b[0m\u001b[36m \u001b[0m│\n",
       "│\u001b[2m \u001b[0m\u001b[2mSYM_TAG_0108\u001b[0m\u001b[2m \u001b[0m│\u001b[32m \u001b[0m\u001b[32m細點狀/針點狀病斑 (Speckled/Pinpoint Lesion)                                         \u001b[0m\u001b[32m \u001b[0m│\u001b[36m \u001b[0m\u001b[36m      85\u001b[0m\u001b[36m \u001b[0m│\n",
       "│\u001b[2m \u001b[0m\u001b[2mSYM_TAG_1104\u001b[0m\u001b[2m \u001b[0m│\u001b[32m \u001b[0m\u001b[32m龜裂 (Fruit/Grain Cracking)                                                          \u001b[0m\u001b[32m \u001b[0m│\u001b[36m \u001b[0m\u001b[36m      78\u001b[0m\u001b[36m \u001b[0m│\n",
       "│\u001b[2m \u001b[0m\u001b[2mSYM_TAG_0905\u001b[0m\u001b[2m \u001b[0m│\u001b[32m \u001b[0m\u001b[32m枝條黑色菌索/絲狀物 (Black Mycelial Strands/Rhizomorphs on Shoot)                    \u001b[0m\u001b[32m \u001b[0m│\u001b[36m \u001b[0m\u001b[36m      73\u001b[0m\u001b[36m \u001b[0m│\n",
       "│\u001b[2m \u001b[0m\u001b[2mSYM_TAG_1103\u001b[0m\u001b[2m \u001b[0m│\u001b[32m \u001b[0m\u001b[32m乾枯/木乃伊化 (Fruit Shriveling/Mummification)                                       \u001b[0m\u001b[32m \u001b[0m│\u001b[36m \u001b[0m\u001b[36m      68\u001b[0m\u001b[36m \u001b[0m│\n",
       "│\u001b[2m \u001b[0m\u001b[2mSYM_TAG_0801\u001b[0m\u001b[2m \u001b[0m│\u001b[32m \u001b[0m\u001b[32m葉鞘水浸狀/灰綠/灰白褐邊病斑 (Sheath Water-soaked/Grayish-Green/Gray-White           \u001b[0m\u001b[32m \u001b[0m│\u001b[36m \u001b[0m\u001b[36m      61\u001b[0m\u001b[36m \u001b[0m│\n",
       "│\u001b[2m              \u001b[0m│\u001b[32m \u001b[0m\u001b[32mBrown-Border Lesion)                                                                 \u001b[0m\u001b[32m \u001b[0m│\u001b[36m          \u001b[0m│\n",
       "│\u001b[2m \u001b[0m\u001b[2mSYM_TAG_1102\u001b[0m\u001b[2m \u001b[0m│\u001b[32m \u001b[0m\u001b[32m褐腐 (Fruit Brown Rot)                                                               \u001b[0m\u001b[32m \u001b[0m│\u001b[36m \u001b[0m\u001b[36m      58\u001b[0m\u001b[36m \u001b[0m│\n",
       "│\u001b[2m \u001b[0m\u001b[2mSYM_TAG_0802\u001b[0m\u001b[2m \u001b[0m│\u001b[32m \u001b[0m\u001b[32m葉鞘褐變/枯死 (Sheath Browning/Necrosis)                                             \u001b[0m\u001b[32m \u001b[0m│\u001b[36m \u001b[0m\u001b[36m      55\u001b[0m\u001b[36m \u001b[0m│\n",
       "└──────────────┴───────────────────────────────────────────────────────────────────────────────────────┴──────────┘\n"
      ]
     },
     "metadata": {},
     "output_type": "display_data"
    },
    {
     "data": {
      "text/html": [
       "<pre style=\"white-space:pre;overflow-x:auto;line-height:normal;font-family:Menlo,'DejaVu Sans Mono',consolas,'Courier New',monospace\"><span style=\"font-style: italic\">共 </span><span style=\"color: #008080; text-decoration-color: #008080; font-weight: bold; font-style: italic\">15</span><span style=\"font-style: italic\"> 個medium類標籤</span>\n",
       "\n",
       "</pre>\n"
      ],
      "text/plain": [
       "\u001b[3m共 \u001b[0m\u001b[1;3;36m15\u001b[0m\u001b[3m 個medium類標籤\u001b[0m\n",
       "\n"
      ]
     },
     "metadata": {},
     "output_type": "display_data"
    },
    {
     "data": {
      "text/html": [
       "<pre style=\"white-space:pre;overflow-x:auto;line-height:normal;font-family:Menlo,'DejaVu Sans Mono',consolas,'Courier New',monospace\"><span style=\"font-style: italic\">                                 symptomTags - TAIL                                 </span>\n",
       "┏━━━━━━━━━━━━━━┳━━━━━━━━━━━━━━━━━━━━━━━━━━━━━━━━━━━━━━━━━━━━━━━━━━━━━━━━┳━━━━━━━━━━┓\n",
       "┃<span style=\"font-weight: bold\"> ID           </span>┃<span style=\"font-weight: bold\"> 描述                                                   </span>┃<span style=\"font-weight: bold\"> 出現次數 </span>┃\n",
       "┡━━━━━━━━━━━━━━╇━━━━━━━━━━━━━━━━━━━━━━━━━━━━━━━━━━━━━━━━━━━━━━━━━━━━━━━━╇━━━━━━━━━━┩\n",
       "│<span style=\"color: #7f7f7f; text-decoration-color: #7f7f7f\"> SYM_TAG_0303 </span>│<span style=\"color: #008000; text-decoration-color: #008000\"> 葉尖黃白/蒼白 (Leaf Tip Yellowish-White/Pale)          </span>│<span style=\"color: #008080; text-decoration-color: #008080\">       51 </span>│\n",
       "│<span style=\"color: #7f7f7f; text-decoration-color: #7f7f7f\"> SYM_TAG_0406 </span>│<span style=\"color: #008000; text-decoration-color: #008000\"> 葉尖斷裂/脫落 (Leaf Tip Breakage/Shedding)             </span>│<span style=\"color: #008080; text-decoration-color: #008080\">       48 </span>│\n",
       "│<span style=\"color: #7f7f7f; text-decoration-color: #7f7f7f\"> SYM_TAG_0604 </span>│<span style=\"color: #008000; text-decoration-color: #008000\"> 橘紅色/黃色柵狀物 (Orange/Yellow Palisade-like Growth) </span>│<span style=\"color: #008080; text-decoration-color: #008080\">       45 </span>│\n",
       "│<span style=\"color: #7f7f7f; text-decoration-color: #7f7f7f\"> SYM_TAG_0112 </span>│<span style=\"color: #008000; text-decoration-color: #008000\"> 條斑狀病斑 (Stripe/Streak Lesion)                      </span>│<span style=\"color: #008080; text-decoration-color: #008080\">       39 </span>│\n",
       "│<span style=\"color: #7f7f7f; text-decoration-color: #7f7f7f\"> SYM_TAG_0101 </span>│<span style=\"color: #008000; text-decoration-color: #008000\"> 白色病斑 (White Lesion/Spot)                           </span>│<span style=\"color: #008080; text-decoration-color: #008080\">       36 </span>│\n",
       "│<span style=\"color: #7f7f7f; text-decoration-color: #7f7f7f\"> SYM_TAG_0707 </span>│<span style=\"color: #008000; text-decoration-color: #008000\"> 枝條枯死 (Shoot Dieback)                               </span>│<span style=\"color: #008080; text-decoration-color: #008080\">       36 </span>│\n",
       "│<span style=\"color: #7f7f7f; text-decoration-color: #7f7f7f\"> SYM_TAG_1002 </span>│<span style=\"color: #008000; text-decoration-color: #008000\"> 黑色壞疽斑/瘡痂 (Fruit/Grain Black Necrotic Spot/Scab) </span>│<span style=\"color: #008080; text-decoration-color: #008080\">       32 </span>│\n",
       "│<span style=\"color: #7f7f7f; text-decoration-color: #7f7f7f\"> SYM_TAG_0106 </span>│<span style=\"color: #008000; text-decoration-color: #008000\"> 水浸狀病斑 (Water-soaked Lesion)                       </span>│<span style=\"color: #008080; text-decoration-color: #008080\">       31 </span>│\n",
       "│<span style=\"color: #7f7f7f; text-decoration-color: #7f7f7f\"> SYM_TAG_0302 </span>│<span style=\"color: #008000; text-decoration-color: #008000\"> 葉片白化 (Leaf Whitening)                              </span>│<span style=\"color: #008080; text-decoration-color: #008080\">       31 </span>│\n",
       "│<span style=\"color: #7f7f7f; text-decoration-color: #7f7f7f\"> SYM_TAG_0404 </span>│<span style=\"color: #008000; text-decoration-color: #008000\"> 葉片大面積壞死 (Leaf Blight)                           </span>│<span style=\"color: #008080; text-decoration-color: #008080\">       27 </span>│\n",
       "│<span style=\"color: #7f7f7f; text-decoration-color: #7f7f7f\"> SYM_TAG_0702 </span>│<span style=\"color: #008000; text-decoration-color: #008000\"> 穗頸/枝梗病斑 (Panicle Neck/Branch Lesion)             </span>│<span style=\"color: #008080; text-decoration-color: #008080\">       25 </span>│\n",
       "│<span style=\"color: #7f7f7f; text-decoration-color: #7f7f7f\"> SYM_TAG_1101 </span>│<span style=\"color: #008000; text-decoration-color: #008000\"> 軟腐 (Fruit Soft Rot)                                  </span>│<span style=\"color: #008080; text-decoration-color: #008080\">       18 </span>│\n",
       "│<span style=\"color: #7f7f7f; text-decoration-color: #7f7f7f\"> SYM_TAG_0111 </span>│<span style=\"color: #008000; text-decoration-color: #008000\"> 塊狀病斑 (Patchy Lesion)                               </span>│<span style=\"color: #008080; text-decoration-color: #008080\">       18 </span>│\n",
       "│<span style=\"color: #7f7f7f; text-decoration-color: #7f7f7f\"> SYM_TAG_1004 </span>│<span style=\"color: #008000; text-decoration-color: #008000\"> 網紋狀病斑 (Fruit Reticulated/Net-like Lesion)         </span>│<span style=\"color: #008080; text-decoration-color: #008080\">       18 </span>│\n",
       "│<span style=\"color: #7f7f7f; text-decoration-color: #7f7f7f\"> SYM_TAG_0502 </span>│<span style=\"color: #008000; text-decoration-color: #008000\"> 葉片短小 (Leaf Shortening)                             </span>│<span style=\"color: #008080; text-decoration-color: #008080\">       12 </span>│\n",
       "│<span style=\"color: #7f7f7f; text-decoration-color: #7f7f7f\"> SYM_TAG_0503 </span>│<span style=\"color: #008000; text-decoration-color: #008000\"> 葉幅變小 (Narrow Leaf Blade)                           </span>│<span style=\"color: #008080; text-decoration-color: #008080\">       12 </span>│\n",
       "└──────────────┴────────────────────────────────────────────────────────┴──────────┘\n",
       "</pre>\n"
      ],
      "text/plain": [
       "\u001b[3m                                 symptomTags - TAIL                                 \u001b[0m\n",
       "┏━━━━━━━━━━━━━━┳━━━━━━━━━━━━━━━━━━━━━━━━━━━━━━━━━━━━━━━━━━━━━━━━━━━━━━━━┳━━━━━━━━━━┓\n",
       "┃\u001b[1m \u001b[0m\u001b[1mID          \u001b[0m\u001b[1m \u001b[0m┃\u001b[1m \u001b[0m\u001b[1m描述                                                  \u001b[0m\u001b[1m \u001b[0m┃\u001b[1m \u001b[0m\u001b[1m出現次數\u001b[0m\u001b[1m \u001b[0m┃\n",
       "┡━━━━━━━━━━━━━━╇━━━━━━━━━━━━━━━━━━━━━━━━━━━━━━━━━━━━━━━━━━━━━━━━━━━━━━━━╇━━━━━━━━━━┩\n",
       "│\u001b[2m \u001b[0m\u001b[2mSYM_TAG_0303\u001b[0m\u001b[2m \u001b[0m│\u001b[32m \u001b[0m\u001b[32m葉尖黃白/蒼白 (Leaf Tip Yellowish-White/Pale)         \u001b[0m\u001b[32m \u001b[0m│\u001b[36m \u001b[0m\u001b[36m      51\u001b[0m\u001b[36m \u001b[0m│\n",
       "│\u001b[2m \u001b[0m\u001b[2mSYM_TAG_0406\u001b[0m\u001b[2m \u001b[0m│\u001b[32m \u001b[0m\u001b[32m葉尖斷裂/脫落 (Leaf Tip Breakage/Shedding)            \u001b[0m\u001b[32m \u001b[0m│\u001b[36m \u001b[0m\u001b[36m      48\u001b[0m\u001b[36m \u001b[0m│\n",
       "│\u001b[2m \u001b[0m\u001b[2mSYM_TAG_0604\u001b[0m\u001b[2m \u001b[0m│\u001b[32m \u001b[0m\u001b[32m橘紅色/黃色柵狀物 (Orange/Yellow Palisade-like Growth)\u001b[0m\u001b[32m \u001b[0m│\u001b[36m \u001b[0m\u001b[36m      45\u001b[0m\u001b[36m \u001b[0m│\n",
       "│\u001b[2m \u001b[0m\u001b[2mSYM_TAG_0112\u001b[0m\u001b[2m \u001b[0m│\u001b[32m \u001b[0m\u001b[32m條斑狀病斑 (Stripe/Streak Lesion)                     \u001b[0m\u001b[32m \u001b[0m│\u001b[36m \u001b[0m\u001b[36m      39\u001b[0m\u001b[36m \u001b[0m│\n",
       "│\u001b[2m \u001b[0m\u001b[2mSYM_TAG_0101\u001b[0m\u001b[2m \u001b[0m│\u001b[32m \u001b[0m\u001b[32m白色病斑 (White Lesion/Spot)                          \u001b[0m\u001b[32m \u001b[0m│\u001b[36m \u001b[0m\u001b[36m      36\u001b[0m\u001b[36m \u001b[0m│\n",
       "│\u001b[2m \u001b[0m\u001b[2mSYM_TAG_0707\u001b[0m\u001b[2m \u001b[0m│\u001b[32m \u001b[0m\u001b[32m枝條枯死 (Shoot Dieback)                              \u001b[0m\u001b[32m \u001b[0m│\u001b[36m \u001b[0m\u001b[36m      36\u001b[0m\u001b[36m \u001b[0m│\n",
       "│\u001b[2m \u001b[0m\u001b[2mSYM_TAG_1002\u001b[0m\u001b[2m \u001b[0m│\u001b[32m \u001b[0m\u001b[32m黑色壞疽斑/瘡痂 (Fruit/Grain Black Necrotic Spot/Scab)\u001b[0m\u001b[32m \u001b[0m│\u001b[36m \u001b[0m\u001b[36m      32\u001b[0m\u001b[36m \u001b[0m│\n",
       "│\u001b[2m \u001b[0m\u001b[2mSYM_TAG_0106\u001b[0m\u001b[2m \u001b[0m│\u001b[32m \u001b[0m\u001b[32m水浸狀病斑 (Water-soaked Lesion)                      \u001b[0m\u001b[32m \u001b[0m│\u001b[36m \u001b[0m\u001b[36m      31\u001b[0m\u001b[36m \u001b[0m│\n",
       "│\u001b[2m \u001b[0m\u001b[2mSYM_TAG_0302\u001b[0m\u001b[2m \u001b[0m│\u001b[32m \u001b[0m\u001b[32m葉片白化 (Leaf Whitening)                             \u001b[0m\u001b[32m \u001b[0m│\u001b[36m \u001b[0m\u001b[36m      31\u001b[0m\u001b[36m \u001b[0m│\n",
       "│\u001b[2m \u001b[0m\u001b[2mSYM_TAG_0404\u001b[0m\u001b[2m \u001b[0m│\u001b[32m \u001b[0m\u001b[32m葉片大面積壞死 (Leaf Blight)                          \u001b[0m\u001b[32m \u001b[0m│\u001b[36m \u001b[0m\u001b[36m      27\u001b[0m\u001b[36m \u001b[0m│\n",
       "│\u001b[2m \u001b[0m\u001b[2mSYM_TAG_0702\u001b[0m\u001b[2m \u001b[0m│\u001b[32m \u001b[0m\u001b[32m穗頸/枝梗病斑 (Panicle Neck/Branch Lesion)            \u001b[0m\u001b[32m \u001b[0m│\u001b[36m \u001b[0m\u001b[36m      25\u001b[0m\u001b[36m \u001b[0m│\n",
       "│\u001b[2m \u001b[0m\u001b[2mSYM_TAG_1101\u001b[0m\u001b[2m \u001b[0m│\u001b[32m \u001b[0m\u001b[32m軟腐 (Fruit Soft Rot)                                 \u001b[0m\u001b[32m \u001b[0m│\u001b[36m \u001b[0m\u001b[36m      18\u001b[0m\u001b[36m \u001b[0m│\n",
       "│\u001b[2m \u001b[0m\u001b[2mSYM_TAG_0111\u001b[0m\u001b[2m \u001b[0m│\u001b[32m \u001b[0m\u001b[32m塊狀病斑 (Patchy Lesion)                              \u001b[0m\u001b[32m \u001b[0m│\u001b[36m \u001b[0m\u001b[36m      18\u001b[0m\u001b[36m \u001b[0m│\n",
       "│\u001b[2m \u001b[0m\u001b[2mSYM_TAG_1004\u001b[0m\u001b[2m \u001b[0m│\u001b[32m \u001b[0m\u001b[32m網紋狀病斑 (Fruit Reticulated/Net-like Lesion)        \u001b[0m\u001b[32m \u001b[0m│\u001b[36m \u001b[0m\u001b[36m      18\u001b[0m\u001b[36m \u001b[0m│\n",
       "│\u001b[2m \u001b[0m\u001b[2mSYM_TAG_0502\u001b[0m\u001b[2m \u001b[0m│\u001b[32m \u001b[0m\u001b[32m葉片短小 (Leaf Shortening)                            \u001b[0m\u001b[32m \u001b[0m│\u001b[36m \u001b[0m\u001b[36m      12\u001b[0m\u001b[36m \u001b[0m│\n",
       "│\u001b[2m \u001b[0m\u001b[2mSYM_TAG_0503\u001b[0m\u001b[2m \u001b[0m│\u001b[32m \u001b[0m\u001b[32m葉幅變小 (Narrow Leaf Blade)                          \u001b[0m\u001b[32m \u001b[0m│\u001b[36m \u001b[0m\u001b[36m      12\u001b[0m\u001b[36m \u001b[0m│\n",
       "└──────────────┴────────────────────────────────────────────────────────┴──────────┘\n"
      ]
     },
     "metadata": {},
     "output_type": "display_data"
    },
    {
     "data": {
      "text/html": [
       "<pre style=\"white-space:pre;overflow-x:auto;line-height:normal;font-family:Menlo,'DejaVu Sans Mono',consolas,'Courier New',monospace\"><span style=\"font-style: italic\">共 </span><span style=\"color: #008080; text-decoration-color: #008080; font-weight: bold; font-style: italic\">16</span><span style=\"font-style: italic\"> 個tail類標籤</span>\n",
       "\n",
       "</pre>\n"
      ],
      "text/plain": [
       "\u001b[3m共 \u001b[0m\u001b[1;3;36m16\u001b[0m\u001b[3m 個tail類標籤\u001b[0m\n",
       "\n"
      ]
     },
     "metadata": {},
     "output_type": "display_data"
    },
    {
     "data": {
      "text/html": [
       "<pre style=\"white-space:pre;overflow-x:auto;line-height:normal;font-family:Menlo,'DejaVu Sans Mono',consolas,'Courier New',monospace\"><span style=\"color: #008000; text-decoration-color: #008000; font-weight: bold\">分析完成!</span>\n",
       "</pre>\n"
      ],
      "text/plain": [
       "\u001b[1;32m分析完成!\u001b[0m\n"
      ]
     },
     "metadata": {},
     "output_type": "display_data"
    }
   ],
   "source": [
    "import json\n",
    "from data_utils import compute_head_medium_tail, load_index\n",
    "from rich.console import Console\n",
    "from rich.table import Table\n",
    "\n",
    "console = Console()\n",
    "\n",
    "def display_head_medium_tail_distribution():\n",
    "    \"\"\"\n",
    "    計算並顯示NCHU_sorted_data.json內各個SymCat和SymTags的head/medium/tail分佈\n",
    "    \"\"\"\n",
    "    # 獲取頭尾分佈數據\n",
    "    head_tail_info = compute_head_medium_tail('NCHU_sorted_data.json')\n",
    "    \n",
    "    # 加載索引數據以獲取標籤的描述信息\n",
    "    label_to_idx_dict, idx_to_label_dict, index_data = load_index('SymCat.json')\n",
    "    \n",
    "    # 創建標籤ID到描述的映射\n",
    "    id_to_desc = {}\n",
    "    \n",
    "    # 處理 symptomCategories\n",
    "    for category in index_data['symptomCategories']:\n",
    "        id_to_desc[category['id']] = category['description']\n",
    "        \n",
    "        # 處理每個類別下的標籤\n",
    "        for tag in category['tags']:\n",
    "            id_to_desc[tag['id']] = tag['description']\n",
    "    \n",
    "    # 顯示 SymCat 的頭尾分佈\n",
    "    display_category_distribution('symptomCategories', head_tail_info, id_to_desc)\n",
    "    \n",
    "    # 顯示 SymTags 的頭尾分佈\n",
    "    display_category_distribution('symptomTags', head_tail_info, id_to_desc)\n",
    "\n",
    "def display_category_distribution(category_type, head_tail_info, id_to_desc):\n",
    "    \"\"\"\n",
    "    顯示特定類別的頭尾分佈\n",
    "    \n",
    "    Args:\n",
    "        category_type: 'symptomCategories' 或 'symptomTags'\n",
    "        head_tail_info: 從compute_head_medium_tail獲取的頭尾分佈數據\n",
    "        id_to_desc: ID到描述的映射\n",
    "    \"\"\"\n",
    "    if category_type not in head_tail_info:\n",
    "        console.print(f\"[red]錯誤: {category_type} 在head_tail_info中不存在[/red]\")\n",
    "        return\n",
    "    \n",
    "    category_info = head_tail_info[category_type]\n",
    "    \n",
    "    # 顯示閾值信息\n",
    "    console.print(f\"\\n[bold cyan]== {category_type} 分佈 ==[/bold cyan]\")\n",
    "    console.print(f\"33% 百分位數: {category_info['33_percentile']}\")\n",
    "    console.print(f\"67% 百分位數: {category_info['67_percentile']}\")\n",
    "    \n",
    "    # 為每個分組創建表格\n",
    "    for group in ['head', 'medium', 'tail']:\n",
    "        table = Table(title=f\"{category_type} - {group.upper()}\")\n",
    "        table.add_column(\"ID\", style=\"dim\")\n",
    "        table.add_column(\"描述\", style=\"green\")\n",
    "        table.add_column(\"出現次數\", justify=\"right\", style=\"cyan\")\n",
    "        \n",
    "        # 按出現次數降序排序\n",
    "        sorted_items = sorted(category_info[group].items(), key=lambda x: x[1], reverse=True)\n",
    "        \n",
    "        for label_id, count in sorted_items:\n",
    "            description = id_to_desc.get(label_id, \"未知描述\")\n",
    "            table.add_row(label_id, description, str(count))\n",
    "        \n",
    "        console.print(table)\n",
    "        console.print(f\"[italic]共 {len(sorted_items)} 個{group}類標籤[/italic]\\n\")\n",
    "\n",
    "def main():\n",
    "    try:\n",
    "        console.print(\"[bold]開始分析NCHU_sorted_data.json中的SymCat和SymTags分佈...[/bold]\")\n",
    "        display_head_medium_tail_distribution()\n",
    "        console.print(\"[bold green]分析完成![/bold green]\")\n",
    "    except FileNotFoundError as e:\n",
    "        console.print(f\"[bold red]錯誤: 找不到文件 - {e}[/bold red]\")\n",
    "    except json.JSONDecodeError as e:\n",
    "        console.print(f\"[bold red]錯誤: JSON解析失敗 - {e}[/bold red]\")\n",
    "    except Exception as e:\n",
    "        console.print(f\"[bold red]錯誤: {e}[/bold red]\")\n",
    "\n",
    "if __name__ == \"__main__\":\n",
    "    main()"
   ]
  },
  {
   "cell_type": "code",
   "execution_count": 2,
   "metadata": {},
   "outputs": [
    {
     "data": {
      "text/html": [
       "<pre style=\"white-space:pre;overflow-x:auto;line-height:normal;font-family:Menlo,'DejaVu Sans Mono',consolas,'Courier New',monospace\"><span style=\"font-weight: bold\">開始分析NCHU_sorted_data.json中的SymCat和SymTags分佈</span><span style=\"color: #808000; text-decoration-color: #808000; font-weight: bold\">...</span>\n",
       "</pre>\n"
      ],
      "text/plain": [
       "\u001b[1m開始分析NCHU_sorted_data.json中的SymCat和SymTags分佈\u001b[0m\u001b[1;33m...\u001b[0m\n"
      ]
     },
     "metadata": {},
     "output_type": "display_data"
    },
    {
     "data": {
      "text/html": [
       "<pre style=\"white-space:pre;overflow-x:auto;line-height:normal;font-family:Menlo,'DejaVu Sans Mono',consolas,'Courier New',monospace\">\n",
       "<span style=\"color: #008080; text-decoration-color: #008080; font-weight: bold\">== symptomCategories 分佈 ==</span>\n",
       "</pre>\n"
      ],
      "text/plain": [
       "\n",
       "\u001b[1;36m== symptomCategories 分佈 ==\u001b[0m\n"
      ]
     },
     "metadata": {},
     "output_type": "display_data"
    },
    {
     "data": {
      "text/html": [
       "<pre style=\"white-space:pre;overflow-x:auto;line-height:normal;font-family:Menlo,'DejaVu Sans Mono',consolas,'Courier New',monospace\"><span style=\"color: #008080; text-decoration-color: #008080; font-weight: bold\">33</span>% 百分位數: <span style=\"color: #008080; text-decoration-color: #008080; font-weight: bold\">86.44</span>\n",
       "</pre>\n"
      ],
      "text/plain": [
       "\u001b[1;36m33\u001b[0m% 百分位數: \u001b[1;36m86.44\u001b[0m\n"
      ]
     },
     "metadata": {},
     "output_type": "display_data"
    },
    {
     "data": {
      "text/html": [
       "<pre style=\"white-space:pre;overflow-x:auto;line-height:normal;font-family:Menlo,'DejaVu Sans Mono',consolas,'Courier New',monospace\"><span style=\"color: #008080; text-decoration-color: #008080; font-weight: bold\">67</span>% 百分位數: <span style=\"color: #008080; text-decoration-color: #008080; font-weight: bold\">422.20000000000005</span>\n",
       "</pre>\n"
      ],
      "text/plain": [
       "\u001b[1;36m67\u001b[0m% 百分位數: \u001b[1;36m422.20000000000005\u001b[0m\n"
      ]
     },
     "metadata": {},
     "output_type": "display_data"
    },
    {
     "data": {
      "text/html": [
       "<pre style=\"white-space:pre;overflow-x:auto;line-height:normal;font-family:Menlo,'DejaVu Sans Mono',consolas,'Courier New',monospace\"><span style=\"font-style: italic\">                             symptomCategories - HEAD                             </span>\n",
       "┏━━━━━━━━━━━━┳━━━━━━━━━━━━━━━━━━━━━━━━━━━━━━━━━━━━━━━━━━━━━━━━━━━━━━━━┳━━━━━━━━━━┓\n",
       "┃<span style=\"font-weight: bold\"> ID         </span>┃<span style=\"font-weight: bold\"> 描述                                                   </span>┃<span style=\"font-weight: bold\"> 出現次數 </span>┃\n",
       "┡━━━━━━━━━━━━╇━━━━━━━━━━━━━━━━━━━━━━━━━━━━━━━━━━━━━━━━━━━━━━━━━━━━━━━━╇━━━━━━━━━━┩\n",
       "│<span style=\"color: #7f7f7f; text-decoration-color: #7f7f7f\"> SYM_CAT_01 </span>│<span style=\"color: #008000; text-decoration-color: #008000\"> 葉斑/病斑 (Leaf Spot/Lesion)                           </span>│<span style=\"color: #008080; text-decoration-color: #008080\">     1328 </span>│\n",
       "│<span style=\"color: #7f7f7f; text-decoration-color: #7f7f7f\"> SYM_CAT_04 </span>│<span style=\"color: #008000; text-decoration-color: #008000\"> 葉片組織損傷 (Leaf Tissue Damage)                      </span>│<span style=\"color: #008080; text-decoration-color: #008080\">      851 </span>│\n",
       "│<span style=\"color: #7f7f7f; text-decoration-color: #7f7f7f\"> SYM_CAT_02 </span>│<span style=\"color: #008000; text-decoration-color: #008000\"> 病斑周圍特徵 (Lesion Borders/Halos)                    </span>│<span style=\"color: #008080; text-decoration-color: #008080\">      542 </span>│\n",
       "│<span style=\"color: #7f7f7f; text-decoration-color: #7f7f7f\"> SYM_CAT_06 </span>│<span style=\"color: #008000; text-decoration-color: #008000\"> 葉面附著物/生長物 (Substances/Growths on Leaf Surface) </span>│<span style=\"color: #008080; text-decoration-color: #008080\">      499 </span>│\n",
       "└────────────┴────────────────────────────────────────────────────────┴──────────┘\n",
       "</pre>\n"
      ],
      "text/plain": [
       "\u001b[3m                             symptomCategories - HEAD                             \u001b[0m\n",
       "┏━━━━━━━━━━━━┳━━━━━━━━━━━━━━━━━━━━━━━━━━━━━━━━━━━━━━━━━━━━━━━━━━━━━━━━┳━━━━━━━━━━┓\n",
       "┃\u001b[1m \u001b[0m\u001b[1mID        \u001b[0m\u001b[1m \u001b[0m┃\u001b[1m \u001b[0m\u001b[1m描述                                                  \u001b[0m\u001b[1m \u001b[0m┃\u001b[1m \u001b[0m\u001b[1m出現次數\u001b[0m\u001b[1m \u001b[0m┃\n",
       "┡━━━━━━━━━━━━╇━━━━━━━━━━━━━━━━━━━━━━━━━━━━━━━━━━━━━━━━━━━━━━━━━━━━━━━━╇━━━━━━━━━━┩\n",
       "│\u001b[2m \u001b[0m\u001b[2mSYM_CAT_01\u001b[0m\u001b[2m \u001b[0m│\u001b[32m \u001b[0m\u001b[32m葉斑/病斑 (Leaf Spot/Lesion)                          \u001b[0m\u001b[32m \u001b[0m│\u001b[36m \u001b[0m\u001b[36m    1328\u001b[0m\u001b[36m \u001b[0m│\n",
       "│\u001b[2m \u001b[0m\u001b[2mSYM_CAT_04\u001b[0m\u001b[2m \u001b[0m│\u001b[32m \u001b[0m\u001b[32m葉片組織損傷 (Leaf Tissue Damage)                     \u001b[0m\u001b[32m \u001b[0m│\u001b[36m \u001b[0m\u001b[36m     851\u001b[0m\u001b[36m \u001b[0m│\n",
       "│\u001b[2m \u001b[0m\u001b[2mSYM_CAT_02\u001b[0m\u001b[2m \u001b[0m│\u001b[32m \u001b[0m\u001b[32m病斑周圍特徵 (Lesion Borders/Halos)                   \u001b[0m\u001b[32m \u001b[0m│\u001b[36m \u001b[0m\u001b[36m     542\u001b[0m\u001b[36m \u001b[0m│\n",
       "│\u001b[2m \u001b[0m\u001b[2mSYM_CAT_06\u001b[0m\u001b[2m \u001b[0m│\u001b[32m \u001b[0m\u001b[32m葉面附著物/生長物 (Substances/Growths on Leaf Surface)\u001b[0m\u001b[32m \u001b[0m│\u001b[36m \u001b[0m\u001b[36m     499\u001b[0m\u001b[36m \u001b[0m│\n",
       "└────────────┴────────────────────────────────────────────────────────┴──────────┘\n"
      ]
     },
     "metadata": {},
     "output_type": "display_data"
    },
    {
     "data": {
      "text/html": [
       "<pre style=\"white-space:pre;overflow-x:auto;line-height:normal;font-family:Menlo,'DejaVu Sans Mono',consolas,'Courier New',monospace\"><span style=\"font-style: italic\">共 </span><span style=\"color: #008080; text-decoration-color: #008080; font-weight: bold; font-style: italic\">4</span><span style=\"font-style: italic\"> 個head類標籤</span>\n",
       "\n",
       "</pre>\n"
      ],
      "text/plain": [
       "\u001b[3m共 \u001b[0m\u001b[1;3;36m4\u001b[0m\u001b[3m 個head類標籤\u001b[0m\n",
       "\n"
      ]
     },
     "metadata": {},
     "output_type": "display_data"
    },
    {
     "data": {
      "text/html": [
       "<pre style=\"white-space:pre;overflow-x:auto;line-height:normal;font-family:Menlo,'DejaVu Sans Mono',consolas,'Courier New',monospace\"><span style=\"font-style: italic\">                              symptomCategories - MEDIUM                              </span>\n",
       "┏━━━━━━━━━━━━┳━━━━━━━━━━━━━━━━━━━━━━━━━━━━━━━━━━━━━━━━━━━━━━━━━━━━━━━━━━━━┳━━━━━━━━━━┓\n",
       "┃<span style=\"font-weight: bold\"> ID         </span>┃<span style=\"font-weight: bold\"> 描述                                                       </span>┃<span style=\"font-weight: bold\"> 出現次數 </span>┃\n",
       "┡━━━━━━━━━━━━╇━━━━━━━━━━━━━━━━━━━━━━━━━━━━━━━━━━━━━━━━━━━━━━━━━━━━━━━━━━━━╇━━━━━━━━━━┩\n",
       "│<span style=\"color: #7f7f7f; text-decoration-color: #7f7f7f\"> SYM_CAT_03 </span>│<span style=\"color: #008000; text-decoration-color: #008000\"> 葉色變化 (Leaf Color Change)                               </span>│<span style=\"color: #008080; text-decoration-color: #008080\">      419 </span>│\n",
       "│<span style=\"color: #7f7f7f; text-decoration-color: #7f7f7f\"> SYM_CAT_10 </span>│<span style=\"color: #008000; text-decoration-color: #008000\"> 果實/穀粒斑點/病斑 (Fruit/Grain Spot/Lesion)               </span>│<span style=\"color: #008080; text-decoration-color: #008080\">      289 </span>│\n",
       "│<span style=\"color: #7f7f7f; text-decoration-color: #7f7f7f\"> SYM_CAT_11 </span>│<span style=\"color: #008000; text-decoration-color: #008000\"> 果實/穀粒腐爛/變質 (Fruit Rot/Deterioration)               </span>│<span style=\"color: #008080; text-decoration-color: #008080\">      240 </span>│\n",
       "│<span style=\"color: #7f7f7f; text-decoration-color: #7f7f7f\"> SYM_CAT_12 </span>│<span style=\"color: #008000; text-decoration-color: #008000\"> 果實/穀粒附著物/生長物 (Substances/Growths on Fruit/Grain) </span>│<span style=\"color: #008080; text-decoration-color: #008080\">      106 </span>│\n",
       "│<span style=\"color: #7f7f7f; text-decoration-color: #7f7f7f\"> SYM_CAT_05 </span>│<span style=\"color: #008000; text-decoration-color: #008000\"> 葉片變形 (Leaf Deformation)                                </span>│<span style=\"color: #008080; text-decoration-color: #008080\">       87 </span>│\n",
       "└────────────┴────────────────────────────────────────────────────────────┴──────────┘\n",
       "</pre>\n"
      ],
      "text/plain": [
       "\u001b[3m                              symptomCategories - MEDIUM                              \u001b[0m\n",
       "┏━━━━━━━━━━━━┳━━━━━━━━━━━━━━━━━━━━━━━━━━━━━━━━━━━━━━━━━━━━━━━━━━━━━━━━━━━━┳━━━━━━━━━━┓\n",
       "┃\u001b[1m \u001b[0m\u001b[1mID        \u001b[0m\u001b[1m \u001b[0m┃\u001b[1m \u001b[0m\u001b[1m描述                                                      \u001b[0m\u001b[1m \u001b[0m┃\u001b[1m \u001b[0m\u001b[1m出現次數\u001b[0m\u001b[1m \u001b[0m┃\n",
       "┡━━━━━━━━━━━━╇━━━━━━━━━━━━━━━━━━━━━━━━━━━━━━━━━━━━━━━━━━━━━━━━━━━━━━━━━━━━╇━━━━━━━━━━┩\n",
       "│\u001b[2m \u001b[0m\u001b[2mSYM_CAT_03\u001b[0m\u001b[2m \u001b[0m│\u001b[32m \u001b[0m\u001b[32m葉色變化 (Leaf Color Change)                              \u001b[0m\u001b[32m \u001b[0m│\u001b[36m \u001b[0m\u001b[36m     419\u001b[0m\u001b[36m \u001b[0m│\n",
       "│\u001b[2m \u001b[0m\u001b[2mSYM_CAT_10\u001b[0m\u001b[2m \u001b[0m│\u001b[32m \u001b[0m\u001b[32m果實/穀粒斑點/病斑 (Fruit/Grain Spot/Lesion)              \u001b[0m\u001b[32m \u001b[0m│\u001b[36m \u001b[0m\u001b[36m     289\u001b[0m\u001b[36m \u001b[0m│\n",
       "│\u001b[2m \u001b[0m\u001b[2mSYM_CAT_11\u001b[0m\u001b[2m \u001b[0m│\u001b[32m \u001b[0m\u001b[32m果實/穀粒腐爛/變質 (Fruit Rot/Deterioration)              \u001b[0m\u001b[32m \u001b[0m│\u001b[36m \u001b[0m\u001b[36m     240\u001b[0m\u001b[36m \u001b[0m│\n",
       "│\u001b[2m \u001b[0m\u001b[2mSYM_CAT_12\u001b[0m\u001b[2m \u001b[0m│\u001b[32m \u001b[0m\u001b[32m果實/穀粒附著物/生長物 (Substances/Growths on Fruit/Grain)\u001b[0m\u001b[32m \u001b[0m│\u001b[36m \u001b[0m\u001b[36m     106\u001b[0m\u001b[36m \u001b[0m│\n",
       "│\u001b[2m \u001b[0m\u001b[2mSYM_CAT_05\u001b[0m\u001b[2m \u001b[0m│\u001b[32m \u001b[0m\u001b[32m葉片變形 (Leaf Deformation)                               \u001b[0m\u001b[32m \u001b[0m│\u001b[36m \u001b[0m\u001b[36m      87\u001b[0m\u001b[36m \u001b[0m│\n",
       "└────────────┴────────────────────────────────────────────────────────────┴──────────┘\n"
      ]
     },
     "metadata": {},
     "output_type": "display_data"
    },
    {
     "data": {
      "text/html": [
       "<pre style=\"white-space:pre;overflow-x:auto;line-height:normal;font-family:Menlo,'DejaVu Sans Mono',consolas,'Courier New',monospace\"><span style=\"font-style: italic\">共 </span><span style=\"color: #008080; text-decoration-color: #008080; font-weight: bold; font-style: italic\">5</span><span style=\"font-style: italic\"> 個medium類標籤</span>\n",
       "\n",
       "</pre>\n"
      ],
      "text/plain": [
       "\u001b[3m共 \u001b[0m\u001b[1;3;36m5\u001b[0m\u001b[3m 個medium類標籤\u001b[0m\n",
       "\n"
      ]
     },
     "metadata": {},
     "output_type": "display_data"
    },
    {
     "data": {
      "text/html": [
       "<pre style=\"white-space:pre;overflow-x:auto;line-height:normal;font-family:Menlo,'DejaVu Sans Mono',consolas,'Courier New',monospace\"><span style=\"font-style: italic\">                             symptomCategories - TAIL                              </span>\n",
       "┏━━━━━━━━━━━━┳━━━━━━━━━━━━━━━━━━━━━━━━━━━━━━━━━━━━━━━━━━━━━━━━━━━━━━━━━┳━━━━━━━━━━┓\n",
       "┃<span style=\"font-weight: bold\"> ID         </span>┃<span style=\"font-weight: bold\"> 描述                                                    </span>┃<span style=\"font-weight: bold\"> 出現次數 </span>┃\n",
       "┡━━━━━━━━━━━━╇━━━━━━━━━━━━━━━━━━━━━━━━━━━━━━━━━━━━━━━━━━━━━━━━━━━━━━━━━╇━━━━━━━━━━┩\n",
       "│<span style=\"color: #7f7f7f; text-decoration-color: #7f7f7f\"> SYM_CAT_09 </span>│<span style=\"color: #008000; text-decoration-color: #008000\"> 莖/枝條附著物/生長物 (Substances/Growths on Stem/Shoot) </span>│<span style=\"color: #008080; text-decoration-color: #008080\">       73 </span>│\n",
       "│<span style=\"color: #7f7f7f; text-decoration-color: #7f7f7f\"> SYM_CAT_07 </span>│<span style=\"color: #008000; text-decoration-color: #008000\"> 莖節/穗頸/枝條病變 (Node/Neck/Shoot Lesion)             </span>│<span style=\"color: #008080; text-decoration-color: #008080\">       68 </span>│\n",
       "│<span style=\"color: #7f7f7f; text-decoration-color: #7f7f7f\"> SYM_CAT_08 </span>│<span style=\"color: #008000; text-decoration-color: #008000\"> 葉鞘病變 (Sheath Lesion)                                </span>│<span style=\"color: #008080; text-decoration-color: #008080\">       63 </span>│\n",
       "│<span style=\"color: #7f7f7f; text-decoration-color: #7f7f7f\"> SYM_CAT_13 </span>│<span style=\"color: #008000; text-decoration-color: #008000\"> 生長異常 (Growth Abnormalities)                         </span>│<span style=\"color: #008080; text-decoration-color: #008080\">        2 </span>│\n",
       "└────────────┴─────────────────────────────────────────────────────────┴──────────┘\n",
       "</pre>\n"
      ],
      "text/plain": [
       "\u001b[3m                             symptomCategories - TAIL                              \u001b[0m\n",
       "┏━━━━━━━━━━━━┳━━━━━━━━━━━━━━━━━━━━━━━━━━━━━━━━━━━━━━━━━━━━━━━━━━━━━━━━━┳━━━━━━━━━━┓\n",
       "┃\u001b[1m \u001b[0m\u001b[1mID        \u001b[0m\u001b[1m \u001b[0m┃\u001b[1m \u001b[0m\u001b[1m描述                                                   \u001b[0m\u001b[1m \u001b[0m┃\u001b[1m \u001b[0m\u001b[1m出現次數\u001b[0m\u001b[1m \u001b[0m┃\n",
       "┡━━━━━━━━━━━━╇━━━━━━━━━━━━━━━━━━━━━━━━━━━━━━━━━━━━━━━━━━━━━━━━━━━━━━━━━╇━━━━━━━━━━┩\n",
       "│\u001b[2m \u001b[0m\u001b[2mSYM_CAT_09\u001b[0m\u001b[2m \u001b[0m│\u001b[32m \u001b[0m\u001b[32m莖/枝條附著物/生長物 (Substances/Growths on Stem/Shoot)\u001b[0m\u001b[32m \u001b[0m│\u001b[36m \u001b[0m\u001b[36m      73\u001b[0m\u001b[36m \u001b[0m│\n",
       "│\u001b[2m \u001b[0m\u001b[2mSYM_CAT_07\u001b[0m\u001b[2m \u001b[0m│\u001b[32m \u001b[0m\u001b[32m莖節/穗頸/枝條病變 (Node/Neck/Shoot Lesion)            \u001b[0m\u001b[32m \u001b[0m│\u001b[36m \u001b[0m\u001b[36m      68\u001b[0m\u001b[36m \u001b[0m│\n",
       "│\u001b[2m \u001b[0m\u001b[2mSYM_CAT_08\u001b[0m\u001b[2m \u001b[0m│\u001b[32m \u001b[0m\u001b[32m葉鞘病變 (Sheath Lesion)                               \u001b[0m\u001b[32m \u001b[0m│\u001b[36m \u001b[0m\u001b[36m      63\u001b[0m\u001b[36m \u001b[0m│\n",
       "│\u001b[2m \u001b[0m\u001b[2mSYM_CAT_13\u001b[0m\u001b[2m \u001b[0m│\u001b[32m \u001b[0m\u001b[32m生長異常 (Growth Abnormalities)                        \u001b[0m\u001b[32m \u001b[0m│\u001b[36m \u001b[0m\u001b[36m       2\u001b[0m\u001b[36m \u001b[0m│\n",
       "└────────────┴─────────────────────────────────────────────────────────┴──────────┘\n"
      ]
     },
     "metadata": {},
     "output_type": "display_data"
    },
    {
     "data": {
      "text/html": [
       "<pre style=\"white-space:pre;overflow-x:auto;line-height:normal;font-family:Menlo,'DejaVu Sans Mono',consolas,'Courier New',monospace\"><span style=\"font-style: italic\">共 </span><span style=\"color: #008080; text-decoration-color: #008080; font-weight: bold; font-style: italic\">4</span><span style=\"font-style: italic\"> 個tail類標籤</span>\n",
       "\n",
       "</pre>\n"
      ],
      "text/plain": [
       "\u001b[3m共 \u001b[0m\u001b[1;3;36m4\u001b[0m\u001b[3m 個tail類標籤\u001b[0m\n",
       "\n"
      ]
     },
     "metadata": {},
     "output_type": "display_data"
    },
    {
     "data": {
      "text/html": [
       "<pre style=\"white-space:pre;overflow-x:auto;line-height:normal;font-family:Menlo,'DejaVu Sans Mono',consolas,'Courier New',monospace\">\n",
       "<span style=\"color: #008080; text-decoration-color: #008080; font-weight: bold\">== symptomTags 分佈 ==</span>\n",
       "</pre>\n"
      ],
      "text/plain": [
       "\n",
       "\u001b[1;36m== symptomTags 分佈 ==\u001b[0m\n"
      ]
     },
     "metadata": {},
     "output_type": "display_data"
    },
    {
     "data": {
      "text/html": [
       "<pre style=\"white-space:pre;overflow-x:auto;line-height:normal;font-family:Menlo,'DejaVu Sans Mono',consolas,'Courier New',monospace\"><span style=\"color: #008080; text-decoration-color: #008080; font-weight: bold\">33</span>% 百分位數: <span style=\"color: #008080; text-decoration-color: #008080; font-weight: bold\">25.260000000000005</span>\n",
       "</pre>\n"
      ],
      "text/plain": [
       "\u001b[1;36m33\u001b[0m% 百分位數: \u001b[1;36m25.260000000000005\u001b[0m\n"
      ]
     },
     "metadata": {},
     "output_type": "display_data"
    },
    {
     "data": {
      "text/html": [
       "<pre style=\"white-space:pre;overflow-x:auto;line-height:normal;font-family:Menlo,'DejaVu Sans Mono',consolas,'Courier New',monospace\"><span style=\"color: #008080; text-decoration-color: #008080; font-weight: bold\">67</span>% 百分位數: <span style=\"color: #008080; text-decoration-color: #008080; font-weight: bold\">91.74000000000001</span>\n",
       "</pre>\n"
      ],
      "text/plain": [
       "\u001b[1;36m67\u001b[0m% 百分位數: \u001b[1;36m91.74000000000001\u001b[0m\n"
      ]
     },
     "metadata": {},
     "output_type": "display_data"
    },
    {
     "data": {
      "text/html": [
       "<pre style=\"white-space:pre;overflow-x:auto;line-height:normal;font-family:Menlo,'DejaVu Sans Mono',consolas,'Courier New',monospace\"><span style=\"font-style: italic\">                                       symptomTags - HEAD                                        </span>\n",
       "┏━━━━━━━━━━━━━━┳━━━━━━━━━━━━━━━━━━━━━━━━━━━━━━━━━━━━━━━━━━━━━━━━━━━━━━━━━━━━━━━━━━━━━┳━━━━━━━━━━┓\n",
       "┃<span style=\"font-weight: bold\"> ID           </span>┃<span style=\"font-weight: bold\"> 描述                                                                </span>┃<span style=\"font-weight: bold\"> 出現次數 </span>┃\n",
       "┡━━━━━━━━━━━━━━╇━━━━━━━━━━━━━━━━━━━━━━━━━━━━━━━━━━━━━━━━━━━━━━━━━━━━━━━━━━━━━━━━━━━━━╇━━━━━━━━━━┩\n",
       "│<span style=\"color: #7f7f7f; text-decoration-color: #7f7f7f\"> SYM_TAG_0103 </span>│<span style=\"color: #008000; text-decoration-color: #008000\"> 褐色/紅褐色/暗褐色病斑 (Brown/Reddish-Brown/Dark Brown Lesion/Spot) </span>│<span style=\"color: #008080; text-decoration-color: #008080\">     1049 </span>│\n",
       "│<span style=\"color: #7f7f7f; text-decoration-color: #7f7f7f\"> SYM_TAG_0401 </span>│<span style=\"color: #008000; text-decoration-color: #008000\"> 葉片枯萎/乾枯 (Leaf Wilting/Drying/Necrosis)                        </span>│<span style=\"color: #008080; text-decoration-color: #008080\">      673 </span>│\n",
       "│<span style=\"color: #7f7f7f; text-decoration-color: #7f7f7f\"> SYM_TAG_0201 </span>│<span style=\"color: #008000; text-decoration-color: #008000\"> 病斑邊緣褐化/深色 (Lesion Border Browning/Darkening)                </span>│<span style=\"color: #008080; text-decoration-color: #008080\">      473 </span>│\n",
       "│<span style=\"color: #7f7f7f; text-decoration-color: #7f7f7f\"> SYM_TAG_0110 </span>│<span style=\"color: #008000; text-decoration-color: #008000\"> 圓形病斑 (Round Lesion)                                             </span>│<span style=\"color: #008080; text-decoration-color: #008080\">      401 </span>│\n",
       "│<span style=\"color: #7f7f7f; text-decoration-color: #7f7f7f\"> SYM_TAG_0301 </span>│<span style=\"color: #008000; text-decoration-color: #008000\"> 葉片黃化 (Leaf Yellowing/Chlorosis)                                 </span>│<span style=\"color: #008080; text-decoration-color: #008080\">      371 </span>│\n",
       "│<span style=\"color: #7f7f7f; text-decoration-color: #7f7f7f\"> SYM_TAG_0102 </span>│<span style=\"color: #008000; text-decoration-color: #008000\"> 黃色/黃綠色病斑 (Yellow/Yellowish-Green Lesion/Spot)                </span>│<span style=\"color: #008080; text-decoration-color: #008080\">      332 </span>│\n",
       "│<span style=\"color: #7f7f7f; text-decoration-color: #7f7f7f\"> SYM_TAG_0203 </span>│<span style=\"color: #008000; text-decoration-color: #008000\"> 病斑中央灰白/壞死 (Lesion Center Grayish-White/Necrotic)            </span>│<span style=\"color: #008080; text-decoration-color: #008080\">      301 </span>│\n",
       "│<span style=\"color: #7f7f7f; text-decoration-color: #7f7f7f\"> SYM_TAG_1003 </span>│<span style=\"color: #008000; text-decoration-color: #008000\"> 暗褐色/黑褐色斑點 (Fruit/Grain Dark Brown/Blackish-Brown Spot)      </span>│<span style=\"color: #008080; text-decoration-color: #008080\">      274 </span>│\n",
       "│<span style=\"color: #7f7f7f; text-decoration-color: #7f7f7f\"> SYM_TAG_0114 </span>│<span style=\"color: #008000; text-decoration-color: #008000\"> 雲紋狀/虎斑狀/不規則病斑 (Cloud-like/Tiger-stripe/Irregular Lesion) </span>│<span style=\"color: #008080; text-decoration-color: #008080\">      246 </span>│\n",
       "│<span style=\"color: #7f7f7f; text-decoration-color: #7f7f7f\"> SYM_TAG_0601 </span>│<span style=\"color: #008000; text-decoration-color: #008000\"> 白色黴狀物/粉狀物 (White Moldy/Powdery Growth)                      </span>│<span style=\"color: #008080; text-decoration-color: #008080\">      243 </span>│\n",
       "│<span style=\"color: #7f7f7f; text-decoration-color: #7f7f7f\"> SYM_TAG_0402 </span>│<span style=\"color: #008000; text-decoration-color: #008000\"> 葉片穿孔/破裂 (Leaf Shot Hole/Perforation)                          </span>│<span style=\"color: #008080; text-decoration-color: #008080\">      223 </span>│\n",
       "│<span style=\"color: #7f7f7f; text-decoration-color: #7f7f7f\"> SYM_TAG_0104 </span>│<span style=\"color: #008000; text-decoration-color: #008000\"> 灰白色病斑 (Grayish-White Lesion/Spot)                              </span>│<span style=\"color: #008080; text-decoration-color: #008080\">      157 </span>│\n",
       "│<span style=\"color: #7f7f7f; text-decoration-color: #7f7f7f\"> SYM_TAG_1005 </span>│<span style=\"color: #008000; text-decoration-color: #008000\"> 鳥眼狀病斑 (Fruit Bird's Eye Lesion)                                </span>│<span style=\"color: #008080; text-decoration-color: #008080\">      143 </span>│\n",
       "│<span style=\"color: #7f7f7f; text-decoration-color: #7f7f7f\"> SYM_TAG_1107 </span>│<span style=\"color: #008000; text-decoration-color: #008000\"> 變色 (Grain Discoloration)                                          </span>│<span style=\"color: #008080; text-decoration-color: #008080\">      130 </span>│\n",
       "│<span style=\"color: #7f7f7f; text-decoration-color: #7f7f7f\"> SYM_TAG_1106 </span>│<span style=\"color: #008000; text-decoration-color: #008000\"> 畸形/不飽滿/空粒 (Grain Deformed/Unfilled/Empty)                    </span>│<span style=\"color: #008080; text-decoration-color: #008080\">      120 </span>│\n",
       "│<span style=\"color: #7f7f7f; text-decoration-color: #7f7f7f\"> SYM_TAG_0115 </span>│<span style=\"color: #008000; text-decoration-color: #008000\"> 鳥眼狀病斑 (Bird's Eye Lesion)                                      </span>│<span style=\"color: #008080; text-decoration-color: #008080\">      116 </span>│\n",
       "│<span style=\"color: #7f7f7f; text-decoration-color: #7f7f7f\"> SYM_TAG_0602 </span>│<span style=\"color: #008000; text-decoration-color: #008000\"> 黃色粉狀物 (Yellow Powdery Growth)                                  </span>│<span style=\"color: #008080; text-decoration-color: #008080\">      110 </span>│\n",
       "│<span style=\"color: #7f7f7f; text-decoration-color: #7f7f7f\"> SYM_TAG_1207 </span>│<span style=\"color: #008000; text-decoration-color: #008000\"> 穀粒橘孢子 (Orange Spores on Grain)                                 </span>│<span style=\"color: #008080; text-decoration-color: #008080\">      104 </span>│\n",
       "│<span style=\"color: #7f7f7f; text-decoration-color: #7f7f7f\"> SYM_TAG_0603 </span>│<span style=\"color: #008000; text-decoration-color: #008000\"> 黑色黴狀物/絨毛狀/煤煙狀 (Black Moldy/Velvety/Sooty Growth)         </span>│<span style=\"color: #008080; text-decoration-color: #008080\">      101 </span>│\n",
       "│<span style=\"color: #7f7f7f; text-decoration-color: #7f7f7f\"> SYM_TAG_0109 </span>│<span style=\"color: #008000; text-decoration-color: #008000\"> 紡錘形病斑 (Spindle-shaped Lesion)                                  </span>│<span style=\"color: #008080; text-decoration-color: #008080\">       93 </span>│\n",
       "│<span style=\"color: #7f7f7f; text-decoration-color: #7f7f7f\"> SYM_TAG_0113 </span>│<span style=\"color: #008000; text-decoration-color: #008000\"> 網紋狀病斑 (Net-like/Reticulated Lesion)                            </span>│<span style=\"color: #008080; text-decoration-color: #008080\">       92 </span>│\n",
       "└──────────────┴─────────────────────────────────────────────────────────────────────┴──────────┘\n",
       "</pre>\n"
      ],
      "text/plain": [
       "\u001b[3m                                       symptomTags - HEAD                                        \u001b[0m\n",
       "┏━━━━━━━━━━━━━━┳━━━━━━━━━━━━━━━━━━━━━━━━━━━━━━━━━━━━━━━━━━━━━━━━━━━━━━━━━━━━━━━━━━━━━┳━━━━━━━━━━┓\n",
       "┃\u001b[1m \u001b[0m\u001b[1mID          \u001b[0m\u001b[1m \u001b[0m┃\u001b[1m \u001b[0m\u001b[1m描述                                                               \u001b[0m\u001b[1m \u001b[0m┃\u001b[1m \u001b[0m\u001b[1m出現次數\u001b[0m\u001b[1m \u001b[0m┃\n",
       "┡━━━━━━━━━━━━━━╇━━━━━━━━━━━━━━━━━━━━━━━━━━━━━━━━━━━━━━━━━━━━━━━━━━━━━━━━━━━━━━━━━━━━━╇━━━━━━━━━━┩\n",
       "│\u001b[2m \u001b[0m\u001b[2mSYM_TAG_0103\u001b[0m\u001b[2m \u001b[0m│\u001b[32m \u001b[0m\u001b[32m褐色/紅褐色/暗褐色病斑 (Brown/Reddish-Brown/Dark Brown Lesion/Spot)\u001b[0m\u001b[32m \u001b[0m│\u001b[36m \u001b[0m\u001b[36m    1049\u001b[0m\u001b[36m \u001b[0m│\n",
       "│\u001b[2m \u001b[0m\u001b[2mSYM_TAG_0401\u001b[0m\u001b[2m \u001b[0m│\u001b[32m \u001b[0m\u001b[32m葉片枯萎/乾枯 (Leaf Wilting/Drying/Necrosis)                       \u001b[0m\u001b[32m \u001b[0m│\u001b[36m \u001b[0m\u001b[36m     673\u001b[0m\u001b[36m \u001b[0m│\n",
       "│\u001b[2m \u001b[0m\u001b[2mSYM_TAG_0201\u001b[0m\u001b[2m \u001b[0m│\u001b[32m \u001b[0m\u001b[32m病斑邊緣褐化/深色 (Lesion Border Browning/Darkening)               \u001b[0m\u001b[32m \u001b[0m│\u001b[36m \u001b[0m\u001b[36m     473\u001b[0m\u001b[36m \u001b[0m│\n",
       "│\u001b[2m \u001b[0m\u001b[2mSYM_TAG_0110\u001b[0m\u001b[2m \u001b[0m│\u001b[32m \u001b[0m\u001b[32m圓形病斑 (Round Lesion)                                            \u001b[0m\u001b[32m \u001b[0m│\u001b[36m \u001b[0m\u001b[36m     401\u001b[0m\u001b[36m \u001b[0m│\n",
       "│\u001b[2m \u001b[0m\u001b[2mSYM_TAG_0301\u001b[0m\u001b[2m \u001b[0m│\u001b[32m \u001b[0m\u001b[32m葉片黃化 (Leaf Yellowing/Chlorosis)                                \u001b[0m\u001b[32m \u001b[0m│\u001b[36m \u001b[0m\u001b[36m     371\u001b[0m\u001b[36m \u001b[0m│\n",
       "│\u001b[2m \u001b[0m\u001b[2mSYM_TAG_0102\u001b[0m\u001b[2m \u001b[0m│\u001b[32m \u001b[0m\u001b[32m黃色/黃綠色病斑 (Yellow/Yellowish-Green Lesion/Spot)               \u001b[0m\u001b[32m \u001b[0m│\u001b[36m \u001b[0m\u001b[36m     332\u001b[0m\u001b[36m \u001b[0m│\n",
       "│\u001b[2m \u001b[0m\u001b[2mSYM_TAG_0203\u001b[0m\u001b[2m \u001b[0m│\u001b[32m \u001b[0m\u001b[32m病斑中央灰白/壞死 (Lesion Center Grayish-White/Necrotic)           \u001b[0m\u001b[32m \u001b[0m│\u001b[36m \u001b[0m\u001b[36m     301\u001b[0m\u001b[36m \u001b[0m│\n",
       "│\u001b[2m \u001b[0m\u001b[2mSYM_TAG_1003\u001b[0m\u001b[2m \u001b[0m│\u001b[32m \u001b[0m\u001b[32m暗褐色/黑褐色斑點 (Fruit/Grain Dark Brown/Blackish-Brown Spot)     \u001b[0m\u001b[32m \u001b[0m│\u001b[36m \u001b[0m\u001b[36m     274\u001b[0m\u001b[36m \u001b[0m│\n",
       "│\u001b[2m \u001b[0m\u001b[2mSYM_TAG_0114\u001b[0m\u001b[2m \u001b[0m│\u001b[32m \u001b[0m\u001b[32m雲紋狀/虎斑狀/不規則病斑 (Cloud-like/Tiger-stripe/Irregular Lesion)\u001b[0m\u001b[32m \u001b[0m│\u001b[36m \u001b[0m\u001b[36m     246\u001b[0m\u001b[36m \u001b[0m│\n",
       "│\u001b[2m \u001b[0m\u001b[2mSYM_TAG_0601\u001b[0m\u001b[2m \u001b[0m│\u001b[32m \u001b[0m\u001b[32m白色黴狀物/粉狀物 (White Moldy/Powdery Growth)                     \u001b[0m\u001b[32m \u001b[0m│\u001b[36m \u001b[0m\u001b[36m     243\u001b[0m\u001b[36m \u001b[0m│\n",
       "│\u001b[2m \u001b[0m\u001b[2mSYM_TAG_0402\u001b[0m\u001b[2m \u001b[0m│\u001b[32m \u001b[0m\u001b[32m葉片穿孔/破裂 (Leaf Shot Hole/Perforation)                         \u001b[0m\u001b[32m \u001b[0m│\u001b[36m \u001b[0m\u001b[36m     223\u001b[0m\u001b[36m \u001b[0m│\n",
       "│\u001b[2m \u001b[0m\u001b[2mSYM_TAG_0104\u001b[0m\u001b[2m \u001b[0m│\u001b[32m \u001b[0m\u001b[32m灰白色病斑 (Grayish-White Lesion/Spot)                             \u001b[0m\u001b[32m \u001b[0m│\u001b[36m \u001b[0m\u001b[36m     157\u001b[0m\u001b[36m \u001b[0m│\n",
       "│\u001b[2m \u001b[0m\u001b[2mSYM_TAG_1005\u001b[0m\u001b[2m \u001b[0m│\u001b[32m \u001b[0m\u001b[32m鳥眼狀病斑 (Fruit Bird's Eye Lesion)                               \u001b[0m\u001b[32m \u001b[0m│\u001b[36m \u001b[0m\u001b[36m     143\u001b[0m\u001b[36m \u001b[0m│\n",
       "│\u001b[2m \u001b[0m\u001b[2mSYM_TAG_1107\u001b[0m\u001b[2m \u001b[0m│\u001b[32m \u001b[0m\u001b[32m變色 (Grain Discoloration)                                         \u001b[0m\u001b[32m \u001b[0m│\u001b[36m \u001b[0m\u001b[36m     130\u001b[0m\u001b[36m \u001b[0m│\n",
       "│\u001b[2m \u001b[0m\u001b[2mSYM_TAG_1106\u001b[0m\u001b[2m \u001b[0m│\u001b[32m \u001b[0m\u001b[32m畸形/不飽滿/空粒 (Grain Deformed/Unfilled/Empty)                   \u001b[0m\u001b[32m \u001b[0m│\u001b[36m \u001b[0m\u001b[36m     120\u001b[0m\u001b[36m \u001b[0m│\n",
       "│\u001b[2m \u001b[0m\u001b[2mSYM_TAG_0115\u001b[0m\u001b[2m \u001b[0m│\u001b[32m \u001b[0m\u001b[32m鳥眼狀病斑 (Bird's Eye Lesion)                                     \u001b[0m\u001b[32m \u001b[0m│\u001b[36m \u001b[0m\u001b[36m     116\u001b[0m\u001b[36m \u001b[0m│\n",
       "│\u001b[2m \u001b[0m\u001b[2mSYM_TAG_0602\u001b[0m\u001b[2m \u001b[0m│\u001b[32m \u001b[0m\u001b[32m黃色粉狀物 (Yellow Powdery Growth)                                 \u001b[0m\u001b[32m \u001b[0m│\u001b[36m \u001b[0m\u001b[36m     110\u001b[0m\u001b[36m \u001b[0m│\n",
       "│\u001b[2m \u001b[0m\u001b[2mSYM_TAG_1207\u001b[0m\u001b[2m \u001b[0m│\u001b[32m \u001b[0m\u001b[32m穀粒橘孢子 (Orange Spores on Grain)                                \u001b[0m\u001b[32m \u001b[0m│\u001b[36m \u001b[0m\u001b[36m     104\u001b[0m\u001b[36m \u001b[0m│\n",
       "│\u001b[2m \u001b[0m\u001b[2mSYM_TAG_0603\u001b[0m\u001b[2m \u001b[0m│\u001b[32m \u001b[0m\u001b[32m黑色黴狀物/絨毛狀/煤煙狀 (Black Moldy/Velvety/Sooty Growth)        \u001b[0m\u001b[32m \u001b[0m│\u001b[36m \u001b[0m\u001b[36m     101\u001b[0m\u001b[36m \u001b[0m│\n",
       "│\u001b[2m \u001b[0m\u001b[2mSYM_TAG_0109\u001b[0m\u001b[2m \u001b[0m│\u001b[32m \u001b[0m\u001b[32m紡錘形病斑 (Spindle-shaped Lesion)                                 \u001b[0m\u001b[32m \u001b[0m│\u001b[36m \u001b[0m\u001b[36m      93\u001b[0m\u001b[36m \u001b[0m│\n",
       "│\u001b[2m \u001b[0m\u001b[2mSYM_TAG_0113\u001b[0m\u001b[2m \u001b[0m│\u001b[32m \u001b[0m\u001b[32m網紋狀病斑 (Net-like/Reticulated Lesion)                           \u001b[0m\u001b[32m \u001b[0m│\u001b[36m \u001b[0m\u001b[36m      92\u001b[0m\u001b[36m \u001b[0m│\n",
       "└──────────────┴─────────────────────────────────────────────────────────────────────┴──────────┘\n"
      ]
     },
     "metadata": {},
     "output_type": "display_data"
    },
    {
     "data": {
      "text/html": [
       "<pre style=\"white-space:pre;overflow-x:auto;line-height:normal;font-family:Menlo,'DejaVu Sans Mono',consolas,'Courier New',monospace\"><span style=\"font-style: italic\">共 </span><span style=\"color: #008080; text-decoration-color: #008080; font-weight: bold; font-style: italic\">21</span><span style=\"font-style: italic\"> 個head類標籤</span>\n",
       "\n",
       "</pre>\n"
      ],
      "text/plain": [
       "\u001b[3m共 \u001b[0m\u001b[1;3;36m21\u001b[0m\u001b[3m 個head類標籤\u001b[0m\n",
       "\n"
      ]
     },
     "metadata": {},
     "output_type": "display_data"
    },
    {
     "data": {
      "text/html": [
       "<pre style=\"white-space:pre;overflow-x:auto;line-height:normal;font-family:Menlo,'DejaVu Sans Mono',consolas,'Courier New',monospace\"><span style=\"font-style: italic\">                                               symptomTags - MEDIUM                                                </span>\n",
       "┏━━━━━━━━━━━━━━┳━━━━━━━━━━━━━━━━━━━━━━━━━━━━━━━━━━━━━━━━━━━━━━━━━━━━━━━━━━━━━━━━━━━━━━━━━━━━━━━━━━━━━━━┳━━━━━━━━━━┓\n",
       "┃<span style=\"font-weight: bold\"> ID           </span>┃<span style=\"font-weight: bold\"> 描述                                                                                  </span>┃<span style=\"font-weight: bold\"> 出現次數 </span>┃\n",
       "┡━━━━━━━━━━━━━━╇━━━━━━━━━━━━━━━━━━━━━━━━━━━━━━━━━━━━━━━━━━━━━━━━━━━━━━━━━━━━━━━━━━━━━━━━━━━━━━━━━━━━━━━╇━━━━━━━━━━┩\n",
       "│<span style=\"color: #7f7f7f; text-decoration-color: #7f7f7f\"> SYM_TAG_0202 </span>│<span style=\"color: #008000; text-decoration-color: #008000\"> 病斑周圍黃暈 (Yellow Halo around Lesion)                                              </span>│<span style=\"color: #008080; text-decoration-color: #008080\">       90 </span>│\n",
       "│<span style=\"color: #7f7f7f; text-decoration-color: #7f7f7f\"> SYM_TAG_0403 </span>│<span style=\"color: #008000; text-decoration-color: #008000\"> 葉緣焦枯 (Leaf Margin Scorch)                                                         </span>│<span style=\"color: #008080; text-decoration-color: #008080\">       87 </span>│\n",
       "│<span style=\"color: #7f7f7f; text-decoration-color: #7f7f7f\"> SYM_TAG_0501 </span>│<span style=\"color: #008000; text-decoration-color: #008000\"> 葉片扭曲/變形 (Leaf Distortion/Twisting)                                              </span>│<span style=\"color: #008080; text-decoration-color: #008080\">       86 </span>│\n",
       "│<span style=\"color: #7f7f7f; text-decoration-color: #7f7f7f\"> SYM_TAG_0108 </span>│<span style=\"color: #008000; text-decoration-color: #008000\"> 細點狀/針點狀病斑 (Speckled/Pinpoint Lesion)                                          </span>│<span style=\"color: #008080; text-decoration-color: #008080\">       85 </span>│\n",
       "│<span style=\"color: #7f7f7f; text-decoration-color: #7f7f7f\"> SYM_TAG_1104 </span>│<span style=\"color: #008000; text-decoration-color: #008000\"> 龜裂 (Fruit/Grain Cracking)                                                           </span>│<span style=\"color: #008080; text-decoration-color: #008080\">       79 </span>│\n",
       "│<span style=\"color: #7f7f7f; text-decoration-color: #7f7f7f\"> SYM_TAG_0905 </span>│<span style=\"color: #008000; text-decoration-color: #008000\"> 枝條黑色菌索/絲狀物 (Black Mycelial Strands/Rhizomorphs on Shoot)                     </span>│<span style=\"color: #008080; text-decoration-color: #008080\">       73 </span>│\n",
       "│<span style=\"color: #7f7f7f; text-decoration-color: #7f7f7f\"> SYM_TAG_1103 </span>│<span style=\"color: #008000; text-decoration-color: #008000\"> 乾枯/木乃伊化 (Fruit Shriveling/Mummification)                                        </span>│<span style=\"color: #008080; text-decoration-color: #008080\">       68 </span>│\n",
       "│<span style=\"color: #7f7f7f; text-decoration-color: #7f7f7f\"> SYM_TAG_0801 </span>│<span style=\"color: #008000; text-decoration-color: #008000\"> 葉鞘水浸狀/灰綠/灰白褐邊病斑 (Sheath Water-soaked/Grayish-Green/Gray-White            </span>│<span style=\"color: #008080; text-decoration-color: #008080\">       61 </span>│\n",
       "│<span style=\"color: #7f7f7f; text-decoration-color: #7f7f7f\">              </span>│<span style=\"color: #008000; text-decoration-color: #008000\"> Brown-Border Lesion)                                                                  </span>│<span style=\"color: #008080; text-decoration-color: #008080\">          </span>│\n",
       "│<span style=\"color: #7f7f7f; text-decoration-color: #7f7f7f\"> SYM_TAG_1102 </span>│<span style=\"color: #008000; text-decoration-color: #008000\"> 褐腐 (Fruit Brown Rot)                                                                </span>│<span style=\"color: #008080; text-decoration-color: #008080\">       59 </span>│\n",
       "│<span style=\"color: #7f7f7f; text-decoration-color: #7f7f7f\"> SYM_TAG_0802 </span>│<span style=\"color: #008000; text-decoration-color: #008000\"> 葉鞘褐變/枯死 (Sheath Browning/Necrosis)                                              </span>│<span style=\"color: #008080; text-decoration-color: #008080\">       55 </span>│\n",
       "│<span style=\"color: #7f7f7f; text-decoration-color: #7f7f7f\"> SYM_TAG_0303 </span>│<span style=\"color: #008000; text-decoration-color: #008000\"> 葉尖黃白/蒼白 (Leaf Tip Yellowish-White/Pale)                                         </span>│<span style=\"color: #008080; text-decoration-color: #008080\">       51 </span>│\n",
       "│<span style=\"color: #7f7f7f; text-decoration-color: #7f7f7f\"> SYM_TAG_0406 </span>│<span style=\"color: #008000; text-decoration-color: #008000\"> 葉尖斷裂/脫落 (Leaf Tip Breakage/Shedding)                                            </span>│<span style=\"color: #008080; text-decoration-color: #008080\">       48 </span>│\n",
       "│<span style=\"color: #7f7f7f; text-decoration-color: #7f7f7f\"> SYM_TAG_0604 </span>│<span style=\"color: #008000; text-decoration-color: #008000\"> 橘紅色/黃色柵狀物 (Orange/Yellow Palisade-like Growth)                                </span>│<span style=\"color: #008080; text-decoration-color: #008080\">       45 </span>│\n",
       "│<span style=\"color: #7f7f7f; text-decoration-color: #7f7f7f\"> SYM_TAG_0112 </span>│<span style=\"color: #008000; text-decoration-color: #008000\"> 條斑狀病斑 (Stripe/Streak Lesion)                                                     </span>│<span style=\"color: #008080; text-decoration-color: #008080\">       39 </span>│\n",
       "│<span style=\"color: #7f7f7f; text-decoration-color: #7f7f7f\"> SYM_TAG_0101 </span>│<span style=\"color: #008000; text-decoration-color: #008000\"> 白色病斑 (White Lesion/Spot)                                                          </span>│<span style=\"color: #008080; text-decoration-color: #008080\">       36 </span>│\n",
       "│<span style=\"color: #7f7f7f; text-decoration-color: #7f7f7f\"> SYM_TAG_0707 </span>│<span style=\"color: #008000; text-decoration-color: #008000\"> 枝條枯死 (Shoot Dieback)                                                              </span>│<span style=\"color: #008080; text-decoration-color: #008080\">       36 </span>│\n",
       "│<span style=\"color: #7f7f7f; text-decoration-color: #7f7f7f\"> SYM_TAG_1002 </span>│<span style=\"color: #008000; text-decoration-color: #008000\"> 黑色壞疽斑/瘡痂 (Fruit/Grain Black Necrotic Spot/Scab)                                </span>│<span style=\"color: #008080; text-decoration-color: #008080\">       32 </span>│\n",
       "│<span style=\"color: #7f7f7f; text-decoration-color: #7f7f7f\"> SYM_TAG_0106 </span>│<span style=\"color: #008000; text-decoration-color: #008000\"> 水浸狀病斑 (Water-soaked Lesion)                                                      </span>│<span style=\"color: #008080; text-decoration-color: #008080\">       31 </span>│\n",
       "│<span style=\"color: #7f7f7f; text-decoration-color: #7f7f7f\"> SYM_TAG_0302 </span>│<span style=\"color: #008000; text-decoration-color: #008000\"> 葉片白化 (Leaf Whitening)                                                             </span>│<span style=\"color: #008080; text-decoration-color: #008080\">       31 </span>│\n",
       "│<span style=\"color: #7f7f7f; text-decoration-color: #7f7f7f\"> SYM_TAG_0404 </span>│<span style=\"color: #008000; text-decoration-color: #008000\"> 葉片大面積壞死 (Leaf Blight)                                                          </span>│<span style=\"color: #008080; text-decoration-color: #008080\">       27 </span>│\n",
       "└──────────────┴───────────────────────────────────────────────────────────────────────────────────────┴──────────┘\n",
       "</pre>\n"
      ],
      "text/plain": [
       "\u001b[3m                                               symptomTags - MEDIUM                                                \u001b[0m\n",
       "┏━━━━━━━━━━━━━━┳━━━━━━━━━━━━━━━━━━━━━━━━━━━━━━━━━━━━━━━━━━━━━━━━━━━━━━━━━━━━━━━━━━━━━━━━━━━━━━━━━━━━━━━┳━━━━━━━━━━┓\n",
       "┃\u001b[1m \u001b[0m\u001b[1mID          \u001b[0m\u001b[1m \u001b[0m┃\u001b[1m \u001b[0m\u001b[1m描述                                                                                 \u001b[0m\u001b[1m \u001b[0m┃\u001b[1m \u001b[0m\u001b[1m出現次數\u001b[0m\u001b[1m \u001b[0m┃\n",
       "┡━━━━━━━━━━━━━━╇━━━━━━━━━━━━━━━━━━━━━━━━━━━━━━━━━━━━━━━━━━━━━━━━━━━━━━━━━━━━━━━━━━━━━━━━━━━━━━━━━━━━━━━╇━━━━━━━━━━┩\n",
       "│\u001b[2m \u001b[0m\u001b[2mSYM_TAG_0202\u001b[0m\u001b[2m \u001b[0m│\u001b[32m \u001b[0m\u001b[32m病斑周圍黃暈 (Yellow Halo around Lesion)                                             \u001b[0m\u001b[32m \u001b[0m│\u001b[36m \u001b[0m\u001b[36m      90\u001b[0m\u001b[36m \u001b[0m│\n",
       "│\u001b[2m \u001b[0m\u001b[2mSYM_TAG_0403\u001b[0m\u001b[2m \u001b[0m│\u001b[32m \u001b[0m\u001b[32m葉緣焦枯 (Leaf Margin Scorch)                                                        \u001b[0m\u001b[32m \u001b[0m│\u001b[36m \u001b[0m\u001b[36m      87\u001b[0m\u001b[36m \u001b[0m│\n",
       "│\u001b[2m \u001b[0m\u001b[2mSYM_TAG_0501\u001b[0m\u001b[2m \u001b[0m│\u001b[32m \u001b[0m\u001b[32m葉片扭曲/變形 (Leaf Distortion/Twisting)                                             \u001b[0m\u001b[32m \u001b[0m│\u001b[36m \u001b[0m\u001b[36m      86\u001b[0m\u001b[36m \u001b[0m│\n",
       "│\u001b[2m \u001b[0m\u001b[2mSYM_TAG_0108\u001b[0m\u001b[2m \u001b[0m│\u001b[32m \u001b[0m\u001b[32m細點狀/針點狀病斑 (Speckled/Pinpoint Lesion)                                         \u001b[0m\u001b[32m \u001b[0m│\u001b[36m \u001b[0m\u001b[36m      85\u001b[0m\u001b[36m \u001b[0m│\n",
       "│\u001b[2m \u001b[0m\u001b[2mSYM_TAG_1104\u001b[0m\u001b[2m \u001b[0m│\u001b[32m \u001b[0m\u001b[32m龜裂 (Fruit/Grain Cracking)                                                          \u001b[0m\u001b[32m \u001b[0m│\u001b[36m \u001b[0m\u001b[36m      79\u001b[0m\u001b[36m \u001b[0m│\n",
       "│\u001b[2m \u001b[0m\u001b[2mSYM_TAG_0905\u001b[0m\u001b[2m \u001b[0m│\u001b[32m \u001b[0m\u001b[32m枝條黑色菌索/絲狀物 (Black Mycelial Strands/Rhizomorphs on Shoot)                    \u001b[0m\u001b[32m \u001b[0m│\u001b[36m \u001b[0m\u001b[36m      73\u001b[0m\u001b[36m \u001b[0m│\n",
       "│\u001b[2m \u001b[0m\u001b[2mSYM_TAG_1103\u001b[0m\u001b[2m \u001b[0m│\u001b[32m \u001b[0m\u001b[32m乾枯/木乃伊化 (Fruit Shriveling/Mummification)                                       \u001b[0m\u001b[32m \u001b[0m│\u001b[36m \u001b[0m\u001b[36m      68\u001b[0m\u001b[36m \u001b[0m│\n",
       "│\u001b[2m \u001b[0m\u001b[2mSYM_TAG_0801\u001b[0m\u001b[2m \u001b[0m│\u001b[32m \u001b[0m\u001b[32m葉鞘水浸狀/灰綠/灰白褐邊病斑 (Sheath Water-soaked/Grayish-Green/Gray-White           \u001b[0m\u001b[32m \u001b[0m│\u001b[36m \u001b[0m\u001b[36m      61\u001b[0m\u001b[36m \u001b[0m│\n",
       "│\u001b[2m              \u001b[0m│\u001b[32m \u001b[0m\u001b[32mBrown-Border Lesion)                                                                 \u001b[0m\u001b[32m \u001b[0m│\u001b[36m          \u001b[0m│\n",
       "│\u001b[2m \u001b[0m\u001b[2mSYM_TAG_1102\u001b[0m\u001b[2m \u001b[0m│\u001b[32m \u001b[0m\u001b[32m褐腐 (Fruit Brown Rot)                                                               \u001b[0m\u001b[32m \u001b[0m│\u001b[36m \u001b[0m\u001b[36m      59\u001b[0m\u001b[36m \u001b[0m│\n",
       "│\u001b[2m \u001b[0m\u001b[2mSYM_TAG_0802\u001b[0m\u001b[2m \u001b[0m│\u001b[32m \u001b[0m\u001b[32m葉鞘褐變/枯死 (Sheath Browning/Necrosis)                                             \u001b[0m\u001b[32m \u001b[0m│\u001b[36m \u001b[0m\u001b[36m      55\u001b[0m\u001b[36m \u001b[0m│\n",
       "│\u001b[2m \u001b[0m\u001b[2mSYM_TAG_0303\u001b[0m\u001b[2m \u001b[0m│\u001b[32m \u001b[0m\u001b[32m葉尖黃白/蒼白 (Leaf Tip Yellowish-White/Pale)                                        \u001b[0m\u001b[32m \u001b[0m│\u001b[36m \u001b[0m\u001b[36m      51\u001b[0m\u001b[36m \u001b[0m│\n",
       "│\u001b[2m \u001b[0m\u001b[2mSYM_TAG_0406\u001b[0m\u001b[2m \u001b[0m│\u001b[32m \u001b[0m\u001b[32m葉尖斷裂/脫落 (Leaf Tip Breakage/Shedding)                                           \u001b[0m\u001b[32m \u001b[0m│\u001b[36m \u001b[0m\u001b[36m      48\u001b[0m\u001b[36m \u001b[0m│\n",
       "│\u001b[2m \u001b[0m\u001b[2mSYM_TAG_0604\u001b[0m\u001b[2m \u001b[0m│\u001b[32m \u001b[0m\u001b[32m橘紅色/黃色柵狀物 (Orange/Yellow Palisade-like Growth)                               \u001b[0m\u001b[32m \u001b[0m│\u001b[36m \u001b[0m\u001b[36m      45\u001b[0m\u001b[36m \u001b[0m│\n",
       "│\u001b[2m \u001b[0m\u001b[2mSYM_TAG_0112\u001b[0m\u001b[2m \u001b[0m│\u001b[32m \u001b[0m\u001b[32m條斑狀病斑 (Stripe/Streak Lesion)                                                    \u001b[0m\u001b[32m \u001b[0m│\u001b[36m \u001b[0m\u001b[36m      39\u001b[0m\u001b[36m \u001b[0m│\n",
       "│\u001b[2m \u001b[0m\u001b[2mSYM_TAG_0101\u001b[0m\u001b[2m \u001b[0m│\u001b[32m \u001b[0m\u001b[32m白色病斑 (White Lesion/Spot)                                                         \u001b[0m\u001b[32m \u001b[0m│\u001b[36m \u001b[0m\u001b[36m      36\u001b[0m\u001b[36m \u001b[0m│\n",
       "│\u001b[2m \u001b[0m\u001b[2mSYM_TAG_0707\u001b[0m\u001b[2m \u001b[0m│\u001b[32m \u001b[0m\u001b[32m枝條枯死 (Shoot Dieback)                                                             \u001b[0m\u001b[32m \u001b[0m│\u001b[36m \u001b[0m\u001b[36m      36\u001b[0m\u001b[36m \u001b[0m│\n",
       "│\u001b[2m \u001b[0m\u001b[2mSYM_TAG_1002\u001b[0m\u001b[2m \u001b[0m│\u001b[32m \u001b[0m\u001b[32m黑色壞疽斑/瘡痂 (Fruit/Grain Black Necrotic Spot/Scab)                               \u001b[0m\u001b[32m \u001b[0m│\u001b[36m \u001b[0m\u001b[36m      32\u001b[0m\u001b[36m \u001b[0m│\n",
       "│\u001b[2m \u001b[0m\u001b[2mSYM_TAG_0106\u001b[0m\u001b[2m \u001b[0m│\u001b[32m \u001b[0m\u001b[32m水浸狀病斑 (Water-soaked Lesion)                                                     \u001b[0m\u001b[32m \u001b[0m│\u001b[36m \u001b[0m\u001b[36m      31\u001b[0m\u001b[36m \u001b[0m│\n",
       "│\u001b[2m \u001b[0m\u001b[2mSYM_TAG_0302\u001b[0m\u001b[2m \u001b[0m│\u001b[32m \u001b[0m\u001b[32m葉片白化 (Leaf Whitening)                                                            \u001b[0m\u001b[32m \u001b[0m│\u001b[36m \u001b[0m\u001b[36m      31\u001b[0m\u001b[36m \u001b[0m│\n",
       "│\u001b[2m \u001b[0m\u001b[2mSYM_TAG_0404\u001b[0m\u001b[2m \u001b[0m│\u001b[32m \u001b[0m\u001b[32m葉片大面積壞死 (Leaf Blight)                                                         \u001b[0m\u001b[32m \u001b[0m│\u001b[36m \u001b[0m\u001b[36m      27\u001b[0m\u001b[36m \u001b[0m│\n",
       "└──────────────┴───────────────────────────────────────────────────────────────────────────────────────┴──────────┘\n"
      ]
     },
     "metadata": {},
     "output_type": "display_data"
    },
    {
     "data": {
      "text/html": [
       "<pre style=\"white-space:pre;overflow-x:auto;line-height:normal;font-family:Menlo,'DejaVu Sans Mono',consolas,'Courier New',monospace\"><span style=\"font-style: italic\">共 </span><span style=\"color: #008080; text-decoration-color: #008080; font-weight: bold; font-style: italic\">20</span><span style=\"font-style: italic\"> 個medium類標籤</span>\n",
       "\n",
       "</pre>\n"
      ],
      "text/plain": [
       "\u001b[3m共 \u001b[0m\u001b[1;3;36m20\u001b[0m\u001b[3m 個medium類標籤\u001b[0m\n",
       "\n"
      ]
     },
     "metadata": {},
     "output_type": "display_data"
    },
    {
     "data": {
      "text/html": [
       "<pre style=\"white-space:pre;overflow-x:auto;line-height:normal;font-family:Menlo,'DejaVu Sans Mono',consolas,'Courier New',monospace\"><span style=\"font-style: italic\">                                    symptomTags - TAIL                                    </span>\n",
       "┏━━━━━━━━━━━━━━┳━━━━━━━━━━━━━━━━━━━━━━━━━━━━━━━━━━━━━━━━━━━━━━━━━━━━━━━━━━━━━━┳━━━━━━━━━━┓\n",
       "┃<span style=\"font-weight: bold\"> ID           </span>┃<span style=\"font-weight: bold\"> 描述                                                         </span>┃<span style=\"font-weight: bold\"> 出現次數 </span>┃\n",
       "┡━━━━━━━━━━━━━━╇━━━━━━━━━━━━━━━━━━━━━━━━━━━━━━━━━━━━━━━━━━━━━━━━━━━━━━━━━━━━━━╇━━━━━━━━━━┩\n",
       "│<span style=\"color: #7f7f7f; text-decoration-color: #7f7f7f\"> SYM_TAG_0702 </span>│<span style=\"color: #008000; text-decoration-color: #008000\"> 穗頸/枝梗病斑 (Panicle Neck/Branch Lesion)                   </span>│<span style=\"color: #008080; text-decoration-color: #008080\">       25 </span>│\n",
       "│<span style=\"color: #7f7f7f; text-decoration-color: #7f7f7f\"> SYM_TAG_1101 </span>│<span style=\"color: #008000; text-decoration-color: #008000\"> 軟腐 (Fruit Soft Rot)                                        </span>│<span style=\"color: #008080; text-decoration-color: #008080\">       19 </span>│\n",
       "│<span style=\"color: #7f7f7f; text-decoration-color: #7f7f7f\"> SYM_TAG_0111 </span>│<span style=\"color: #008000; text-decoration-color: #008000\"> 塊狀病斑 (Patchy Lesion)                                     </span>│<span style=\"color: #008080; text-decoration-color: #008080\">       18 </span>│\n",
       "│<span style=\"color: #7f7f7f; text-decoration-color: #7f7f7f\"> SYM_TAG_1004 </span>│<span style=\"color: #008000; text-decoration-color: #008000\"> 網紋狀病斑 (Fruit Reticulated/Net-like Lesion)               </span>│<span style=\"color: #008080; text-decoration-color: #008080\">       18 </span>│\n",
       "│<span style=\"color: #7f7f7f; text-decoration-color: #7f7f7f\"> SYM_TAG_0502 </span>│<span style=\"color: #008000; text-decoration-color: #008000\"> 葉片短小 (Leaf Shortening)                                   </span>│<span style=\"color: #008080; text-decoration-color: #008080\">       12 </span>│\n",
       "│<span style=\"color: #7f7f7f; text-decoration-color: #7f7f7f\"> SYM_TAG_0503 </span>│<span style=\"color: #008000; text-decoration-color: #008000\"> 葉幅變小 (Narrow Leaf Blade)                                 </span>│<span style=\"color: #008080; text-decoration-color: #008080\">       12 </span>│\n",
       "│<span style=\"color: #7f7f7f; text-decoration-color: #7f7f7f\"> SYM_TAG_0701 </span>│<span style=\"color: #008000; text-decoration-color: #008000\"> 莖節褐變/黑變 (Stem Node Browning/Blackening)                </span>│<span style=\"color: #008080; text-decoration-color: #008080\">        5 </span>│\n",
       "│<span style=\"color: #7f7f7f; text-decoration-color: #7f7f7f\"> SYM_TAG_0703 </span>│<span style=\"color: #008000; text-decoration-color: #008000\"> 枝條瘡痂狀凹陷 (Shoot Scab-like Sunken Lesion)               </span>│<span style=\"color: #008080; text-decoration-color: #008080\">        4 </span>│\n",
       "│<span style=\"color: #7f7f7f; text-decoration-color: #7f7f7f\"> SYM_TAG_0704 </span>│<span style=\"color: #008000; text-decoration-color: #008000\"> 枝條變色 (Shoot Discoloration)                               </span>│<span style=\"color: #008080; text-decoration-color: #008080\">        4 </span>│\n",
       "│<span style=\"color: #7f7f7f; text-decoration-color: #7f7f7f\"> SYM_TAG_0405 </span>│<span style=\"color: #008000; text-decoration-color: #008000\"> 葉片皺縮 (Leaf Crinkling/Wrinkling)                          </span>│<span style=\"color: #008080; text-decoration-color: #008080\">        4 </span>│\n",
       "│<span style=\"color: #7f7f7f; text-decoration-color: #7f7f7f\"> SYM_TAG_1001 </span>│<span style=\"color: #008000; text-decoration-color: #008000\"> 黑色細點/針點 (Fruit/Grain Black Specks/Pinpoints)           </span>│<span style=\"color: #008080; text-decoration-color: #008080\">        3 </span>│\n",
       "│<span style=\"color: #7f7f7f; text-decoration-color: #7f7f7f\"> SYM_TAG_0107 </span>│<span style=\"color: #008000; text-decoration-color: #008000\"> 油狀斑 (Oily Spot)                                           </span>│<span style=\"color: #008080; text-decoration-color: #008080\">        3 </span>│\n",
       "│<span style=\"color: #7f7f7f; text-decoration-color: #7f7f7f\"> SYM_TAG_0607 </span>│<span style=\"color: #008000; text-decoration-color: #008000\"> 黑色小點/孢子堆 (Black Dots/Spore Clusters)                  </span>│<span style=\"color: #008080; text-decoration-color: #008080\">        3 </span>│\n",
       "│<span style=\"color: #7f7f7f; text-decoration-color: #7f7f7f\"> SYM_TAG_1204 </span>│<span style=\"color: #008000; text-decoration-color: #008000\"> 黑色孢子堆/黏狀物 (Black Spore Clusters/Slimy Mass on Fruit) </span>│<span style=\"color: #008080; text-decoration-color: #008080\">        3 </span>│\n",
       "│<span style=\"color: #7f7f7f; text-decoration-color: #7f7f7f\"> SYM_TAG_1007 </span>│<span style=\"color: #008000; text-decoration-color: #008000\"> 未知描述                                                     </span>│<span style=\"color: #008080; text-decoration-color: #008080\">        3 </span>│\n",
       "│<span style=\"color: #7f7f7f; text-decoration-color: #7f7f7f\"> SYM_TAG_1303 </span>│<span style=\"color: #008000; text-decoration-color: #008000\"> 植株枯死 (Plant Death)                                       </span>│<span style=\"color: #008080; text-decoration-color: #008080\">        2 </span>│\n",
       "│<span style=\"color: #7f7f7f; text-decoration-color: #7f7f7f\"> SYM_TAG_0705 </span>│<span style=\"color: #008000; text-decoration-color: #008000\"> 枝條潰瘍/開裂 (Shoot Canker/Cracking)                        </span>│<span style=\"color: #008080; text-decoration-color: #008080\">        1 </span>│\n",
       "│<span style=\"color: #7f7f7f; text-decoration-color: #7f7f7f\"> SYM_TAG_1105 </span>│<span style=\"color: #008000; text-decoration-color: #008000\"> 流汁 (Fruit Oozing)                                          </span>│<span style=\"color: #008080; text-decoration-color: #008080\">        1 </span>│\n",
       "│<span style=\"color: #7f7f7f; text-decoration-color: #7f7f7f\"> SYM_TAG_1201 </span>│<span style=\"color: #008000; text-decoration-color: #008000\"> 粉紅/橘紅色孢子堆 (Pink/Orange Spore Masses on Fruit)        </span>│<span style=\"color: #008080; text-decoration-color: #008080\">        1 </span>│\n",
       "│<span style=\"color: #7f7f7f; text-decoration-color: #7f7f7f\"> SYM_TAG_0105 </span>│<span style=\"color: #008000; text-decoration-color: #008000\"> 灰綠色/墨綠色病斑 (Grayish-Green/Dark Green Lesion/Spot)     </span>│<span style=\"color: #008080; text-decoration-color: #008080\">        1 </span>│\n",
       "│<span style=\"color: #7f7f7f; text-decoration-color: #7f7f7f\"> SYM_TAG_0505 </span>│<span style=\"color: #008000; text-decoration-color: #008000\"> 未知描述                                                     </span>│<span style=\"color: #008080; text-decoration-color: #008080\">        1 </span>│\n",
       "└──────────────┴──────────────────────────────────────────────────────────────┴──────────┘\n",
       "</pre>\n"
      ],
      "text/plain": [
       "\u001b[3m                                    symptomTags - TAIL                                    \u001b[0m\n",
       "┏━━━━━━━━━━━━━━┳━━━━━━━━━━━━━━━━━━━━━━━━━━━━━━━━━━━━━━━━━━━━━━━━━━━━━━━━━━━━━━┳━━━━━━━━━━┓\n",
       "┃\u001b[1m \u001b[0m\u001b[1mID          \u001b[0m\u001b[1m \u001b[0m┃\u001b[1m \u001b[0m\u001b[1m描述                                                        \u001b[0m\u001b[1m \u001b[0m┃\u001b[1m \u001b[0m\u001b[1m出現次數\u001b[0m\u001b[1m \u001b[0m┃\n",
       "┡━━━━━━━━━━━━━━╇━━━━━━━━━━━━━━━━━━━━━━━━━━━━━━━━━━━━━━━━━━━━━━━━━━━━━━━━━━━━━━╇━━━━━━━━━━┩\n",
       "│\u001b[2m \u001b[0m\u001b[2mSYM_TAG_0702\u001b[0m\u001b[2m \u001b[0m│\u001b[32m \u001b[0m\u001b[32m穗頸/枝梗病斑 (Panicle Neck/Branch Lesion)                  \u001b[0m\u001b[32m \u001b[0m│\u001b[36m \u001b[0m\u001b[36m      25\u001b[0m\u001b[36m \u001b[0m│\n",
       "│\u001b[2m \u001b[0m\u001b[2mSYM_TAG_1101\u001b[0m\u001b[2m \u001b[0m│\u001b[32m \u001b[0m\u001b[32m軟腐 (Fruit Soft Rot)                                       \u001b[0m\u001b[32m \u001b[0m│\u001b[36m \u001b[0m\u001b[36m      19\u001b[0m\u001b[36m \u001b[0m│\n",
       "│\u001b[2m \u001b[0m\u001b[2mSYM_TAG_0111\u001b[0m\u001b[2m \u001b[0m│\u001b[32m \u001b[0m\u001b[32m塊狀病斑 (Patchy Lesion)                                    \u001b[0m\u001b[32m \u001b[0m│\u001b[36m \u001b[0m\u001b[36m      18\u001b[0m\u001b[36m \u001b[0m│\n",
       "│\u001b[2m \u001b[0m\u001b[2mSYM_TAG_1004\u001b[0m\u001b[2m \u001b[0m│\u001b[32m \u001b[0m\u001b[32m網紋狀病斑 (Fruit Reticulated/Net-like Lesion)              \u001b[0m\u001b[32m \u001b[0m│\u001b[36m \u001b[0m\u001b[36m      18\u001b[0m\u001b[36m \u001b[0m│\n",
       "│\u001b[2m \u001b[0m\u001b[2mSYM_TAG_0502\u001b[0m\u001b[2m \u001b[0m│\u001b[32m \u001b[0m\u001b[32m葉片短小 (Leaf Shortening)                                  \u001b[0m\u001b[32m \u001b[0m│\u001b[36m \u001b[0m\u001b[36m      12\u001b[0m\u001b[36m \u001b[0m│\n",
       "│\u001b[2m \u001b[0m\u001b[2mSYM_TAG_0503\u001b[0m\u001b[2m \u001b[0m│\u001b[32m \u001b[0m\u001b[32m葉幅變小 (Narrow Leaf Blade)                                \u001b[0m\u001b[32m \u001b[0m│\u001b[36m \u001b[0m\u001b[36m      12\u001b[0m\u001b[36m \u001b[0m│\n",
       "│\u001b[2m \u001b[0m\u001b[2mSYM_TAG_0701\u001b[0m\u001b[2m \u001b[0m│\u001b[32m \u001b[0m\u001b[32m莖節褐變/黑變 (Stem Node Browning/Blackening)               \u001b[0m\u001b[32m \u001b[0m│\u001b[36m \u001b[0m\u001b[36m       5\u001b[0m\u001b[36m \u001b[0m│\n",
       "│\u001b[2m \u001b[0m\u001b[2mSYM_TAG_0703\u001b[0m\u001b[2m \u001b[0m│\u001b[32m \u001b[0m\u001b[32m枝條瘡痂狀凹陷 (Shoot Scab-like Sunken Lesion)              \u001b[0m\u001b[32m \u001b[0m│\u001b[36m \u001b[0m\u001b[36m       4\u001b[0m\u001b[36m \u001b[0m│\n",
       "│\u001b[2m \u001b[0m\u001b[2mSYM_TAG_0704\u001b[0m\u001b[2m \u001b[0m│\u001b[32m \u001b[0m\u001b[32m枝條變色 (Shoot Discoloration)                              \u001b[0m\u001b[32m \u001b[0m│\u001b[36m \u001b[0m\u001b[36m       4\u001b[0m\u001b[36m \u001b[0m│\n",
       "│\u001b[2m \u001b[0m\u001b[2mSYM_TAG_0405\u001b[0m\u001b[2m \u001b[0m│\u001b[32m \u001b[0m\u001b[32m葉片皺縮 (Leaf Crinkling/Wrinkling)                         \u001b[0m\u001b[32m \u001b[0m│\u001b[36m \u001b[0m\u001b[36m       4\u001b[0m\u001b[36m \u001b[0m│\n",
       "│\u001b[2m \u001b[0m\u001b[2mSYM_TAG_1001\u001b[0m\u001b[2m \u001b[0m│\u001b[32m \u001b[0m\u001b[32m黑色細點/針點 (Fruit/Grain Black Specks/Pinpoints)          \u001b[0m\u001b[32m \u001b[0m│\u001b[36m \u001b[0m\u001b[36m       3\u001b[0m\u001b[36m \u001b[0m│\n",
       "│\u001b[2m \u001b[0m\u001b[2mSYM_TAG_0107\u001b[0m\u001b[2m \u001b[0m│\u001b[32m \u001b[0m\u001b[32m油狀斑 (Oily Spot)                                          \u001b[0m\u001b[32m \u001b[0m│\u001b[36m \u001b[0m\u001b[36m       3\u001b[0m\u001b[36m \u001b[0m│\n",
       "│\u001b[2m \u001b[0m\u001b[2mSYM_TAG_0607\u001b[0m\u001b[2m \u001b[0m│\u001b[32m \u001b[0m\u001b[32m黑色小點/孢子堆 (Black Dots/Spore Clusters)                 \u001b[0m\u001b[32m \u001b[0m│\u001b[36m \u001b[0m\u001b[36m       3\u001b[0m\u001b[36m \u001b[0m│\n",
       "│\u001b[2m \u001b[0m\u001b[2mSYM_TAG_1204\u001b[0m\u001b[2m \u001b[0m│\u001b[32m \u001b[0m\u001b[32m黑色孢子堆/黏狀物 (Black Spore Clusters/Slimy Mass on Fruit)\u001b[0m\u001b[32m \u001b[0m│\u001b[36m \u001b[0m\u001b[36m       3\u001b[0m\u001b[36m \u001b[0m│\n",
       "│\u001b[2m \u001b[0m\u001b[2mSYM_TAG_1007\u001b[0m\u001b[2m \u001b[0m│\u001b[32m \u001b[0m\u001b[32m未知描述                                                    \u001b[0m\u001b[32m \u001b[0m│\u001b[36m \u001b[0m\u001b[36m       3\u001b[0m\u001b[36m \u001b[0m│\n",
       "│\u001b[2m \u001b[0m\u001b[2mSYM_TAG_1303\u001b[0m\u001b[2m \u001b[0m│\u001b[32m \u001b[0m\u001b[32m植株枯死 (Plant Death)                                      \u001b[0m\u001b[32m \u001b[0m│\u001b[36m \u001b[0m\u001b[36m       2\u001b[0m\u001b[36m \u001b[0m│\n",
       "│\u001b[2m \u001b[0m\u001b[2mSYM_TAG_0705\u001b[0m\u001b[2m \u001b[0m│\u001b[32m \u001b[0m\u001b[32m枝條潰瘍/開裂 (Shoot Canker/Cracking)                       \u001b[0m\u001b[32m \u001b[0m│\u001b[36m \u001b[0m\u001b[36m       1\u001b[0m\u001b[36m \u001b[0m│\n",
       "│\u001b[2m \u001b[0m\u001b[2mSYM_TAG_1105\u001b[0m\u001b[2m \u001b[0m│\u001b[32m \u001b[0m\u001b[32m流汁 (Fruit Oozing)                                         \u001b[0m\u001b[32m \u001b[0m│\u001b[36m \u001b[0m\u001b[36m       1\u001b[0m\u001b[36m \u001b[0m│\n",
       "│\u001b[2m \u001b[0m\u001b[2mSYM_TAG_1201\u001b[0m\u001b[2m \u001b[0m│\u001b[32m \u001b[0m\u001b[32m粉紅/橘紅色孢子堆 (Pink/Orange Spore Masses on Fruit)       \u001b[0m\u001b[32m \u001b[0m│\u001b[36m \u001b[0m\u001b[36m       1\u001b[0m\u001b[36m \u001b[0m│\n",
       "│\u001b[2m \u001b[0m\u001b[2mSYM_TAG_0105\u001b[0m\u001b[2m \u001b[0m│\u001b[32m \u001b[0m\u001b[32m灰綠色/墨綠色病斑 (Grayish-Green/Dark Green Lesion/Spot)    \u001b[0m\u001b[32m \u001b[0m│\u001b[36m \u001b[0m\u001b[36m       1\u001b[0m\u001b[36m \u001b[0m│\n",
       "│\u001b[2m \u001b[0m\u001b[2mSYM_TAG_0505\u001b[0m\u001b[2m \u001b[0m│\u001b[32m \u001b[0m\u001b[32m未知描述                                                    \u001b[0m\u001b[32m \u001b[0m│\u001b[36m \u001b[0m\u001b[36m       1\u001b[0m\u001b[36m \u001b[0m│\n",
       "└──────────────┴──────────────────────────────────────────────────────────────┴──────────┘\n"
      ]
     },
     "metadata": {},
     "output_type": "display_data"
    },
    {
     "data": {
      "text/html": [
       "<pre style=\"white-space:pre;overflow-x:auto;line-height:normal;font-family:Menlo,'DejaVu Sans Mono',consolas,'Courier New',monospace\"><span style=\"font-style: italic\">共 </span><span style=\"color: #008080; text-decoration-color: #008080; font-weight: bold; font-style: italic\">21</span><span style=\"font-style: italic\"> 個tail類標籤</span>\n",
       "\n",
       "</pre>\n"
      ],
      "text/plain": [
       "\u001b[3m共 \u001b[0m\u001b[1;3;36m21\u001b[0m\u001b[3m 個tail類標籤\u001b[0m\n",
       "\n"
      ]
     },
     "metadata": {},
     "output_type": "display_data"
    },
    {
     "data": {
      "text/html": [
       "<pre style=\"white-space:pre;overflow-x:auto;line-height:normal;font-family:Menlo,'DejaVu Sans Mono',consolas,'Courier New',monospace\"><span style=\"color: #008000; text-decoration-color: #008000; font-weight: bold\">分析完成!</span>\n",
       "</pre>\n"
      ],
      "text/plain": [
       "\u001b[1;32m分析完成!\u001b[0m\n"
      ]
     },
     "metadata": {},
     "output_type": "display_data"
    }
   ],
   "source": [
    "import json\n",
    "from data_utils import compute_head_medium_tail, load_index\n",
    "from rich.console import Console\n",
    "from rich.table import Table\n",
    "\n",
    "console = Console()\n",
    "\n",
    "def display_head_medium_tail_distribution():\n",
    "    \"\"\"\n",
    "    計算並顯示NCHU_sorted_data.json內各個SymCat和SymTags的head/medium/tail分佈\n",
    "    \"\"\"\n",
    "    # 獲取頭尾分佈數據\n",
    "    head_tail_info = compute_head_medium_tail('NCHU_sorted_data.json')\n",
    "    \n",
    "    # 加載索引數據以獲取標籤的描述信息\n",
    "    label_to_idx_dict, idx_to_label_dict, index_data = load_index('SymCat.json')\n",
    "    \n",
    "    # 創建標籤ID到描述的映射\n",
    "    id_to_desc = {}\n",
    "    \n",
    "    # 處理 symptomCategories\n",
    "    for category in index_data['symptomCategories']:\n",
    "        id_to_desc[category['id']] = category['description']\n",
    "        \n",
    "        # 處理每個類別下的標籤\n",
    "        for tag in category['tags']:\n",
    "            id_to_desc[tag['id']] = tag['description']\n",
    "    \n",
    "    # 顯示 SymCat 的頭尾分佈\n",
    "    display_category_distribution('symptomCategories', head_tail_info, id_to_desc)\n",
    "    \n",
    "    # 顯示 SymTags 的頭尾分佈\n",
    "    display_category_distribution('symptomTags', head_tail_info, id_to_desc)\n",
    "\n",
    "def display_category_distribution(category_type, head_tail_info, id_to_desc):\n",
    "    \"\"\"\n",
    "    顯示特定類別的頭尾分佈\n",
    "    \n",
    "    Args:\n",
    "        category_type: 'symptomCategories' 或 'symptomTags'\n",
    "        head_tail_info: 從compute_head_medium_tail獲取的頭尾分佈數據\n",
    "        id_to_desc: ID到描述的映射\n",
    "    \"\"\"\n",
    "    if category_type not in head_tail_info:\n",
    "        console.print(f\"[red]錯誤: {category_type} 在head_tail_info中不存在[/red]\")\n",
    "        return\n",
    "    \n",
    "    category_info = head_tail_info[category_type]\n",
    "    \n",
    "    # 顯示閾值信息\n",
    "    console.print(f\"\\n[bold cyan]== {category_type} 分佈 ==[/bold cyan]\")\n",
    "    console.print(f\"33% 百分位數: {category_info['33_percentile']}\")\n",
    "    console.print(f\"67% 百分位數: {category_info['67_percentile']}\")\n",
    "    \n",
    "    # 為每個分組創建表格\n",
    "    for group in ['head', 'medium', 'tail']:\n",
    "        table = Table(title=f\"{category_type} - {group.upper()}\")\n",
    "        table.add_column(\"ID\", style=\"dim\")\n",
    "        table.add_column(\"描述\", style=\"green\")\n",
    "        table.add_column(\"出現次數\", justify=\"right\", style=\"cyan\")\n",
    "        \n",
    "        # 按出現次數降序排序\n",
    "        sorted_items = sorted(category_info[group].items(), key=lambda x: x[1], reverse=True)\n",
    "        \n",
    "        for label_id, count in sorted_items:\n",
    "            description = id_to_desc.get(label_id, \"未知描述\")\n",
    "            table.add_row(label_id, description, str(count))\n",
    "        \n",
    "        console.print(table)\n",
    "        console.print(f\"[italic]共 {len(sorted_items)} 個{group}類標籤[/italic]\\n\")\n",
    "\n",
    "def main():\n",
    "    try:\n",
    "        console.print(\"[bold]開始分析NCHU_sorted_data.json中的SymCat和SymTags分佈...[/bold]\")\n",
    "        display_head_medium_tail_distribution()\n",
    "        console.print(\"[bold green]分析完成![/bold green]\")\n",
    "    except FileNotFoundError as e:\n",
    "        console.print(f\"[bold red]錯誤: 找不到文件 - {e}[/bold red]\")\n",
    "    except json.JSONDecodeError as e:\n",
    "        console.print(f\"[bold red]錯誤: JSON解析失敗 - {e}[/bold red]\")\n",
    "    except Exception as e:\n",
    "        console.print(f\"[bold red]錯誤: {e}[/bold red]\")\n",
    "\n",
    "if __name__ == \"__main__\":\n",
    "    main()"
   ]
  }
 ],
 "metadata": {
  "kernelspec": {
   "display_name": "llm",
   "language": "python",
   "name": "python3"
  },
  "language_info": {
   "codemirror_mode": {
    "name": "ipython",
    "version": 3
   },
   "file_extension": ".py",
   "mimetype": "text/x-python",
   "name": "python",
   "nbconvert_exporter": "python",
   "pygments_lexer": "ipython3",
   "version": "3.10.14"
  }
 },
 "nbformat": 4,
 "nbformat_minor": 2
}
