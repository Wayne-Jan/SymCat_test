{
 "cells": [
  {
   "cell_type": "code",
   "execution_count": 1,
   "metadata": {},
   "outputs": [
    {
     "data": {
      "text/html": [
       "<pre style=\"white-space:pre;overflow-x:auto;line-height:normal;font-family:Menlo,'DejaVu Sans Mono',consolas,'Courier New',monospace\">\n",
       "<span style=\"color: #00ffff; text-decoration-color: #00ffff; font-weight: bold\">跨設定平均指標比較 (含標準差，行列互換)</span>\n",
       "</pre>\n"
      ],
      "text/plain": [
       "\n",
       "\u001b[1;96m跨設定平均指標比較 (含標準差，行列互換)\u001b[0m\n"
      ]
     },
     "metadata": {},
     "output_type": "display_data"
    },
    {
     "data": {
      "text/html": [
       "<pre style=\"white-space:pre;overflow-x:auto;line-height:normal;font-family:Menlo,'DejaVu Sans Mono',consolas,'Courier New',monospace\">\n",
       "<span style=\"color: #00ff00; text-decoration-color: #00ff00; font-weight: bold\">--- Crop 數據類型 ---</span>\n",
       "</pre>\n"
      ],
      "text/plain": [
       "\n",
       "\u001b[1;92m--- Crop 數據類型 ---\u001b[0m\n"
      ]
     },
     "metadata": {},
     "output_type": "display_data"
    },
    {
     "data": {
      "text/html": [
       "<pre style=\"white-space:pre;overflow-x:auto;line-height:normal;font-family:Menlo,'DejaVu Sans Mono',consolas,'Courier New',monospace\"><span style=\"color: #00ffff; text-decoration-color: #00ffff; font-weight: bold\">                                       跨設定 Crop 平均指標比較 (Mean ± Std)                                       </span>\n",
       "<span style=\"color: #ffffff; text-decoration-color: #ffffff\">┏━━━━━━━━━━━━┳━━━━━━━━━━━┳━━━━━━━━━━━┳━━━━━━━━━━┳━━━━━━━━━━━┳━━━━━━━━━━┳━━━━━━━━━┳━━━━━━━━━━━┳━━━━━━━━━┳━━━━━━━━━━━</span>\n",
       "<span style=\"color: #ffffff; text-decoration-color: #ffffff\">┃</span><span style=\"color: #ff00ff; text-decoration-color: #ff00ff; font-weight: bold\"> Fusion     </span><span style=\"color: #ffffff; text-decoration-color: #ffffff\">┃</span><span style=\"color: #ffff00; text-decoration-color: #ffff00; font-weight: bold\">   Overall </span><span style=\"color: #ffffff; text-decoration-color: #ffffff\">┃</span><span style=\"color: #ffff00; text-decoration-color: #ffff00; font-weight: bold\">   Overall </span><span style=\"color: #ffffff; text-decoration-color: #ffffff\">┃</span><span style=\"color: #ffff00; text-decoration-color: #ffff00; font-weight: bold\">          </span><span style=\"color: #ffffff; text-decoration-color: #ffffff\">┃</span><span style=\"color: #ffff00; text-decoration-color: #ffff00; font-weight: bold\">    Medium </span><span style=\"color: #ffffff; text-decoration-color: #ffffff\">┃</span><span style=\"color: #ffff00; text-decoration-color: #ffff00; font-weight: bold\">          </span><span style=\"color: #ffffff; text-decoration-color: #ffffff\">┃</span><span style=\"color: #ffff00; text-decoration-color: #ffff00; font-weight: bold\">         </span><span style=\"color: #ffffff; text-decoration-color: #ffffff\">┃</span><span style=\"color: #ffff00; text-decoration-color: #ffff00; font-weight: bold\">           </span><span style=\"color: #ffffff; text-decoration-color: #ffffff\">┃</span><span style=\"color: #ffff00; text-decoration-color: #ffff00; font-weight: bold\">         </span><span style=\"color: #ffffff; text-decoration-color: #ffffff\">┃</span><span style=\"color: #ffff00; text-decoration-color: #ffff00; font-weight: bold\">   Overall </span>\n",
       "<span style=\"color: #ffffff; text-decoration-color: #ffffff\">┃</span><span style=\"color: #ff00ff; text-decoration-color: #ff00ff; font-weight: bold\"> Mode       </span><span style=\"color: #ffffff; text-decoration-color: #ffffff\">┃</span><span style=\"color: #ffff00; text-decoration-color: #ffff00; font-weight: bold\">       mAP </span><span style=\"color: #ffffff; text-decoration-color: #ffffff\">┃</span><span style=\"color: #ffff00; text-decoration-color: #ffff00; font-weight: bold\">        F1 </span><span style=\"color: #ffffff; text-decoration-color: #ffffff\">┃</span><span style=\"color: #ffff00; text-decoration-color: #ffff00; font-weight: bold\"> Head mAP </span><span style=\"color: #ffffff; text-decoration-color: #ffffff\">┃</span><span style=\"color: #ffff00; text-decoration-color: #ffff00; font-weight: bold\">       mAP </span><span style=\"color: #ffffff; text-decoration-color: #ffffff\">┃</span><span style=\"color: #ffff00; text-decoration-color: #ffff00; font-weight: bold\"> Tail mAP </span><span style=\"color: #ffffff; text-decoration-color: #ffffff\">┃</span><span style=\"color: #ffff00; text-decoration-color: #ffff00; font-weight: bold\"> Head F1 </span><span style=\"color: #ffffff; text-decoration-color: #ffffff\">┃</span><span style=\"color: #ffff00; text-decoration-color: #ffff00; font-weight: bold\"> Medium F1 </span><span style=\"color: #ffffff; text-decoration-color: #ffffff\">┃</span><span style=\"color: #ffff00; text-decoration-color: #ffff00; font-weight: bold\"> Tail F1 </span><span style=\"color: #ffffff; text-decoration-color: #ffffff\">┃</span><span style=\"color: #ffff00; text-decoration-color: #ffff00; font-weight: bold\">       Acc </span>\n",
       "<span style=\"color: #ffffff; text-decoration-color: #ffffff\">┡━━━━━━━━━━━━╇━━━━━━━━━━━╇━━━━━━━━━━━╇━━━━━━━━━━╇━━━━━━━━━━━╇━━━━━━━━━━╇━━━━━━━━━╇━━━━━━━━━━━╇━━━━━━━━━╇━━━━━━━━━━━</span>\n",
       "<span style=\"color: #ffffff; text-decoration-color: #ffffff\">│</span><span style=\"color: #00ffff; text-decoration-color: #00ffff; font-weight: bold\"> film       </span><span style=\"color: #ffffff; text-decoration-color: #ffffff\">│</span>   100.00% <span style=\"color: #ffffff; text-decoration-color: #ffffff\">│</span>   100.00% <span style=\"color: #ffffff; text-decoration-color: #ffffff\">│</span>  100.00% <span style=\"color: #ffffff; text-decoration-color: #ffffff\">│</span>   100.00% <span style=\"color: #ffffff; text-decoration-color: #ffffff\">│</span>  100.00% <span style=\"color: #ffffff; text-decoration-color: #ffffff\">│</span> 100.00% <span style=\"color: #ffffff; text-decoration-color: #ffffff\">│</span>   100.00% <span style=\"color: #ffffff; text-decoration-color: #ffffff\">│</span> 100.00% <span style=\"color: #ffffff; text-decoration-color: #ffffff\">│</span>   100.00% \n",
       "<span style=\"color: #ffffff; text-decoration-color: #ffffff\">└────────────┴───────────┴───────────┴──────────┴───────────┴──────────┴─────────┴───────────┴─────────┴───────────</span>\n",
       "</pre>\n"
      ],
      "text/plain": [
       "\u001b[1;96m                                       跨設定 Crop 平均指標比較 (Mean ± Std)                                       \u001b[0m\n",
       "\u001b[97m┏━━━━━━━━━━━━┳━━━━━━━━━━━┳━━━━━━━━━━━┳━━━━━━━━━━┳━━━━━━━━━━━┳━━━━━━━━━━┳━━━━━━━━━┳━━━━━━━━━━━┳━━━━━━━━━┳━━━━━━━━━━━\u001b[0m\n",
       "\u001b[97m┃\u001b[0m\u001b[1;95m \u001b[0m\u001b[1;95mFusion    \u001b[0m\u001b[1;95m \u001b[0m\u001b[97m┃\u001b[0m\u001b[1;93m \u001b[0m\u001b[1;93m  Overall\u001b[0m\u001b[1;93m \u001b[0m\u001b[97m┃\u001b[0m\u001b[1;93m \u001b[0m\u001b[1;93m  Overall\u001b[0m\u001b[1;93m \u001b[0m\u001b[97m┃\u001b[0m\u001b[1;93m          \u001b[0m\u001b[97m┃\u001b[0m\u001b[1;93m \u001b[0m\u001b[1;93m   Medium\u001b[0m\u001b[1;93m \u001b[0m\u001b[97m┃\u001b[0m\u001b[1;93m          \u001b[0m\u001b[97m┃\u001b[0m\u001b[1;93m         \u001b[0m\u001b[97m┃\u001b[0m\u001b[1;93m           \u001b[0m\u001b[97m┃\u001b[0m\u001b[1;93m         \u001b[0m\u001b[97m┃\u001b[0m\u001b[1;93m \u001b[0m\u001b[1;93m  Overall\u001b[0m\u001b[1;93m \u001b[0m\n",
       "\u001b[97m┃\u001b[0m\u001b[1;95m \u001b[0m\u001b[1;95mMode      \u001b[0m\u001b[1;95m \u001b[0m\u001b[97m┃\u001b[0m\u001b[1;93m \u001b[0m\u001b[1;93m      mAP\u001b[0m\u001b[1;93m \u001b[0m\u001b[97m┃\u001b[0m\u001b[1;93m \u001b[0m\u001b[1;93m       F1\u001b[0m\u001b[1;93m \u001b[0m\u001b[97m┃\u001b[0m\u001b[1;93m \u001b[0m\u001b[1;93mHead mAP\u001b[0m\u001b[1;93m \u001b[0m\u001b[97m┃\u001b[0m\u001b[1;93m \u001b[0m\u001b[1;93m      mAP\u001b[0m\u001b[1;93m \u001b[0m\u001b[97m┃\u001b[0m\u001b[1;93m \u001b[0m\u001b[1;93mTail mAP\u001b[0m\u001b[1;93m \u001b[0m\u001b[97m┃\u001b[0m\u001b[1;93m \u001b[0m\u001b[1;93mHead F1\u001b[0m\u001b[1;93m \u001b[0m\u001b[97m┃\u001b[0m\u001b[1;93m \u001b[0m\u001b[1;93mMedium F1\u001b[0m\u001b[1;93m \u001b[0m\u001b[97m┃\u001b[0m\u001b[1;93m \u001b[0m\u001b[1;93mTail F1\u001b[0m\u001b[1;93m \u001b[0m\u001b[97m┃\u001b[0m\u001b[1;93m \u001b[0m\u001b[1;93m      Acc\u001b[0m\u001b[1;93m \u001b[0m\n",
       "\u001b[97m┡━━━━━━━━━━━━╇━━━━━━━━━━━╇━━━━━━━━━━━╇━━━━━━━━━━╇━━━━━━━━━━━╇━━━━━━━━━━╇━━━━━━━━━╇━━━━━━━━━━━╇━━━━━━━━━╇━━━━━━━━━━━\u001b[0m\n",
       "\u001b[97m│\u001b[0m\u001b[1;96m \u001b[0m\u001b[1;96mfilm      \u001b[0m\u001b[1;96m \u001b[0m\u001b[97m│\u001b[0m   100.00% \u001b[97m│\u001b[0m   100.00% \u001b[97m│\u001b[0m  100.00% \u001b[97m│\u001b[0m   100.00% \u001b[97m│\u001b[0m  100.00% \u001b[97m│\u001b[0m 100.00% \u001b[97m│\u001b[0m   100.00% \u001b[97m│\u001b[0m 100.00% \u001b[97m│\u001b[0m   100.00% \n",
       "\u001b[97m└────────────┴───────────┴───────────┴──────────┴───────────┴──────────┴─────────┴───────────┴─────────┴───────────\u001b[0m\n"
      ]
     },
     "metadata": {},
     "output_type": "display_data"
    },
    {
     "data": {
      "text/html": [
       "<pre style=\"white-space:pre;overflow-x:auto;line-height:normal;font-family:Menlo,'DejaVu Sans Mono',consolas,'Courier New',monospace\"><span style=\"color: #ffffff; text-decoration-color: #ffffff\">================================================================================</span>\n",
       "</pre>\n"
      ],
      "text/plain": [
       "\u001b[97m================================================================================\u001b[0m\n"
      ]
     },
     "metadata": {},
     "output_type": "display_data"
    },
    {
     "data": {
      "text/html": [
       "<pre style=\"white-space:pre;overflow-x:auto;line-height:normal;font-family:Menlo,'DejaVu Sans Mono',consolas,'Courier New',monospace\">\n",
       "<span style=\"color: #00ff00; text-decoration-color: #00ff00; font-weight: bold\">--- Part 數據類型 ---</span>\n",
       "</pre>\n"
      ],
      "text/plain": [
       "\n",
       "\u001b[1;92m--- Part 數據類型 ---\u001b[0m\n"
      ]
     },
     "metadata": {},
     "output_type": "display_data"
    },
    {
     "data": {
      "text/html": [
       "<pre style=\"white-space:pre;overflow-x:auto;line-height:normal;font-family:Menlo,'DejaVu Sans Mono',consolas,'Courier New',monospace\"><span style=\"color: #00ffff; text-decoration-color: #00ffff; font-weight: bold\">                                       跨設定 Part 平均指標比較 (Mean ± Std)                                       </span>\n",
       "<span style=\"color: #ffffff; text-decoration-color: #ffffff\">┏━━━━━━━━━━━━┳━━━━━━━━━━━┳━━━━━━━━━━━┳━━━━━━━━━━━┳━━━━━━━━━━━┳━━━━━━━━━━┳━━━━━━━━━┳━━━━━━━━━━━┳━━━━━━━━━┳━━━━━━━━━━</span>\n",
       "<span style=\"color: #ffffff; text-decoration-color: #ffffff\">┃</span><span style=\"color: #ff00ff; text-decoration-color: #ff00ff; font-weight: bold\"> Fusion     </span><span style=\"color: #ffffff; text-decoration-color: #ffffff\">┃</span><span style=\"color: #ffff00; text-decoration-color: #ffff00; font-weight: bold\">   Overall </span><span style=\"color: #ffffff; text-decoration-color: #ffffff\">┃</span><span style=\"color: #ffff00; text-decoration-color: #ffff00; font-weight: bold\">   Overall </span><span style=\"color: #ffffff; text-decoration-color: #ffffff\">┃</span><span style=\"color: #ffff00; text-decoration-color: #ffff00; font-weight: bold\">           </span><span style=\"color: #ffffff; text-decoration-color: #ffffff\">┃</span><span style=\"color: #ffff00; text-decoration-color: #ffff00; font-weight: bold\">    Medium </span><span style=\"color: #ffffff; text-decoration-color: #ffffff\">┃</span><span style=\"color: #ffff00; text-decoration-color: #ffff00; font-weight: bold\">          </span><span style=\"color: #ffffff; text-decoration-color: #ffffff\">┃</span><span style=\"color: #ffff00; text-decoration-color: #ffff00; font-weight: bold\">         </span><span style=\"color: #ffffff; text-decoration-color: #ffffff\">┃</span><span style=\"color: #ffff00; text-decoration-color: #ffff00; font-weight: bold\">           </span><span style=\"color: #ffffff; text-decoration-color: #ffffff\">┃</span><span style=\"color: #ffff00; text-decoration-color: #ffff00; font-weight: bold\">         </span><span style=\"color: #ffffff; text-decoration-color: #ffffff\">┃</span><span style=\"color: #ffff00; text-decoration-color: #ffff00; font-weight: bold\">  Overall </span>\n",
       "<span style=\"color: #ffffff; text-decoration-color: #ffffff\">┃</span><span style=\"color: #ff00ff; text-decoration-color: #ff00ff; font-weight: bold\"> Mode       </span><span style=\"color: #ffffff; text-decoration-color: #ffffff\">┃</span><span style=\"color: #ffff00; text-decoration-color: #ffff00; font-weight: bold\">       mAP </span><span style=\"color: #ffffff; text-decoration-color: #ffffff\">┃</span><span style=\"color: #ffff00; text-decoration-color: #ffff00; font-weight: bold\">        F1 </span><span style=\"color: #ffffff; text-decoration-color: #ffffff\">┃</span><span style=\"color: #ffff00; text-decoration-color: #ffff00; font-weight: bold\">  Head mAP </span><span style=\"color: #ffffff; text-decoration-color: #ffffff\">┃</span><span style=\"color: #ffff00; text-decoration-color: #ffff00; font-weight: bold\">       mAP </span><span style=\"color: #ffffff; text-decoration-color: #ffffff\">┃</span><span style=\"color: #ffff00; text-decoration-color: #ffff00; font-weight: bold\"> Tail mAP </span><span style=\"color: #ffffff; text-decoration-color: #ffffff\">┃</span><span style=\"color: #ffff00; text-decoration-color: #ffff00; font-weight: bold\"> Head F1 </span><span style=\"color: #ffffff; text-decoration-color: #ffffff\">┃</span><span style=\"color: #ffff00; text-decoration-color: #ffff00; font-weight: bold\"> Medium F1 </span><span style=\"color: #ffffff; text-decoration-color: #ffffff\">┃</span><span style=\"color: #ffff00; text-decoration-color: #ffff00; font-weight: bold\"> Tail F1 </span><span style=\"color: #ffffff; text-decoration-color: #ffffff\">┃</span><span style=\"color: #ffff00; text-decoration-color: #ffff00; font-weight: bold\">      Acc </span>\n",
       "<span style=\"color: #ffffff; text-decoration-color: #ffffff\">┡━━━━━━━━━━━━╇━━━━━━━━━━━╇━━━━━━━━━━━╇━━━━━━━━━━━╇━━━━━━━━━━━╇━━━━━━━━━━╇━━━━━━━━━╇━━━━━━━━━━━╇━━━━━━━━━╇━━━━━━━━━━</span>\n",
       "<span style=\"color: #ffffff; text-decoration-color: #ffffff\">│</span><span style=\"color: #00ffff; text-decoration-color: #00ffff; font-weight: bold\"> film       </span><span style=\"color: #ffffff; text-decoration-color: #ffffff\">│</span>    <span style=\"color: #ffffff; text-decoration-color: #ffffff\">98.13%</span> <span style=\"color: #ffffff; text-decoration-color: #ffffff\">│</span>    97.23% <span style=\"color: #ffffff; text-decoration-color: #ffffff\">│</span>   <span style=\"color: #ffffff; text-decoration-color: #ffffff\">100.00%</span> <span style=\"color: #ffffff; text-decoration-color: #ffffff\">│</span>    <span style=\"color: #ffffff; text-decoration-color: #ffffff\">99.55%</span> <span style=\"color: #ffffff; text-decoration-color: #ffffff\">│</span>   <span style=\"color: #ffffff; text-decoration-color: #ffffff\">95.56%</span> <span style=\"color: #ffffff; text-decoration-color: #ffffff\">│</span>  99.91% <span style=\"color: #ffffff; text-decoration-color: #ffffff\">│</span>    97.44% <span style=\"color: #ffffff; text-decoration-color: #ffffff\">│</span>  94.44% <span style=\"color: #ffffff; text-decoration-color: #ffffff\">│</span>   99.86% \n",
       "<span style=\"color: #ffffff; text-decoration-color: #ffffff\">│</span><span style=\"color: #00ffff; text-decoration-color: #00ffff; font-weight: bold\">            </span><span style=\"color: #ffffff; text-decoration-color: #ffffff\">│</span>     <span style=\"color: #ffffff; text-decoration-color: #ffffff\">±0.30</span> <span style=\"color: #ffffff; text-decoration-color: #ffffff\">│</span>           <span style=\"color: #ffffff; text-decoration-color: #ffffff\">│</span>     <span style=\"color: #ffffff; text-decoration-color: #ffffff\">±0.00</span> <span style=\"color: #ffffff; text-decoration-color: #ffffff\">│</span>     <span style=\"color: #ffffff; text-decoration-color: #ffffff\">±0.13</span> <span style=\"color: #ffffff; text-decoration-color: #ffffff\">│</span>    <span style=\"color: #ffffff; text-decoration-color: #ffffff\">±0.69</span> <span style=\"color: #ffffff; text-decoration-color: #ffffff\">│</span>         <span style=\"color: #ffffff; text-decoration-color: #ffffff\">│</span>           <span style=\"color: #ffffff; text-decoration-color: #ffffff\">│</span>         <span style=\"color: #ffffff; text-decoration-color: #ffffff\">│</span>          \n",
       "<span style=\"color: #ffffff; text-decoration-color: #ffffff\">└────────────┴───────────┴───────────┴───────────┴───────────┴──────────┴─────────┴───────────┴─────────┴──────────</span>\n",
       "</pre>\n"
      ],
      "text/plain": [
       "\u001b[1;96m                                       跨設定 Part 平均指標比較 (Mean ± Std)                                       \u001b[0m\n",
       "\u001b[97m┏━━━━━━━━━━━━┳━━━━━━━━━━━┳━━━━━━━━━━━┳━━━━━━━━━━━┳━━━━━━━━━━━┳━━━━━━━━━━┳━━━━━━━━━┳━━━━━━━━━━━┳━━━━━━━━━┳━━━━━━━━━━\u001b[0m\n",
       "\u001b[97m┃\u001b[0m\u001b[1;95m \u001b[0m\u001b[1;95mFusion    \u001b[0m\u001b[1;95m \u001b[0m\u001b[97m┃\u001b[0m\u001b[1;93m \u001b[0m\u001b[1;93m  Overall\u001b[0m\u001b[1;93m \u001b[0m\u001b[97m┃\u001b[0m\u001b[1;93m \u001b[0m\u001b[1;93m  Overall\u001b[0m\u001b[1;93m \u001b[0m\u001b[97m┃\u001b[0m\u001b[1;93m           \u001b[0m\u001b[97m┃\u001b[0m\u001b[1;93m \u001b[0m\u001b[1;93m   Medium\u001b[0m\u001b[1;93m \u001b[0m\u001b[97m┃\u001b[0m\u001b[1;93m          \u001b[0m\u001b[97m┃\u001b[0m\u001b[1;93m         \u001b[0m\u001b[97m┃\u001b[0m\u001b[1;93m           \u001b[0m\u001b[97m┃\u001b[0m\u001b[1;93m         \u001b[0m\u001b[97m┃\u001b[0m\u001b[1;93m \u001b[0m\u001b[1;93m Overall\u001b[0m\u001b[1;93m \u001b[0m\n",
       "\u001b[97m┃\u001b[0m\u001b[1;95m \u001b[0m\u001b[1;95mMode      \u001b[0m\u001b[1;95m \u001b[0m\u001b[97m┃\u001b[0m\u001b[1;93m \u001b[0m\u001b[1;93m      mAP\u001b[0m\u001b[1;93m \u001b[0m\u001b[97m┃\u001b[0m\u001b[1;93m \u001b[0m\u001b[1;93m       F1\u001b[0m\u001b[1;93m \u001b[0m\u001b[97m┃\u001b[0m\u001b[1;93m \u001b[0m\u001b[1;93m Head mAP\u001b[0m\u001b[1;93m \u001b[0m\u001b[97m┃\u001b[0m\u001b[1;93m \u001b[0m\u001b[1;93m      mAP\u001b[0m\u001b[1;93m \u001b[0m\u001b[97m┃\u001b[0m\u001b[1;93m \u001b[0m\u001b[1;93mTail mAP\u001b[0m\u001b[1;93m \u001b[0m\u001b[97m┃\u001b[0m\u001b[1;93m \u001b[0m\u001b[1;93mHead F1\u001b[0m\u001b[1;93m \u001b[0m\u001b[97m┃\u001b[0m\u001b[1;93m \u001b[0m\u001b[1;93mMedium F1\u001b[0m\u001b[1;93m \u001b[0m\u001b[97m┃\u001b[0m\u001b[1;93m \u001b[0m\u001b[1;93mTail F1\u001b[0m\u001b[1;93m \u001b[0m\u001b[97m┃\u001b[0m\u001b[1;93m \u001b[0m\u001b[1;93m     Acc\u001b[0m\u001b[1;93m \u001b[0m\n",
       "\u001b[97m┡━━━━━━━━━━━━╇━━━━━━━━━━━╇━━━━━━━━━━━╇━━━━━━━━━━━╇━━━━━━━━━━━╇━━━━━━━━━━╇━━━━━━━━━╇━━━━━━━━━━━╇━━━━━━━━━╇━━━━━━━━━━\u001b[0m\n",
       "\u001b[97m│\u001b[0m\u001b[1;96m \u001b[0m\u001b[1;96mfilm      \u001b[0m\u001b[1;96m \u001b[0m\u001b[97m│\u001b[0m    \u001b[97m98.13%\u001b[0m \u001b[97m│\u001b[0m    97.23% \u001b[97m│\u001b[0m   \u001b[97m100.00%\u001b[0m \u001b[97m│\u001b[0m    \u001b[97m99.55%\u001b[0m \u001b[97m│\u001b[0m   \u001b[97m95.56%\u001b[0m \u001b[97m│\u001b[0m  99.91% \u001b[97m│\u001b[0m    97.44% \u001b[97m│\u001b[0m  94.44% \u001b[97m│\u001b[0m   99.86% \n",
       "\u001b[97m│\u001b[0m\u001b[1;96m            \u001b[0m\u001b[97m│\u001b[0m     \u001b[2;97m±0.30\u001b[0m \u001b[97m│\u001b[0m           \u001b[97m│\u001b[0m     \u001b[2;97m±0.00\u001b[0m \u001b[97m│\u001b[0m     \u001b[2;97m±0.13\u001b[0m \u001b[97m│\u001b[0m    \u001b[2;97m±0.69\u001b[0m \u001b[97m│\u001b[0m         \u001b[97m│\u001b[0m           \u001b[97m│\u001b[0m         \u001b[97m│\u001b[0m          \n",
       "\u001b[97m└────────────┴───────────┴───────────┴───────────┴───────────┴──────────┴─────────┴───────────┴─────────┴──────────\u001b[0m\n"
      ]
     },
     "metadata": {},
     "output_type": "display_data"
    },
    {
     "data": {
      "text/html": [
       "<pre style=\"white-space:pre;overflow-x:auto;line-height:normal;font-family:Menlo,'DejaVu Sans Mono',consolas,'Courier New',monospace\"><span style=\"color: #ffffff; text-decoration-color: #ffffff\">================================================================================</span>\n",
       "</pre>\n"
      ],
      "text/plain": [
       "\u001b[97m================================================================================\u001b[0m\n"
      ]
     },
     "metadata": {},
     "output_type": "display_data"
    },
    {
     "data": {
      "text/html": [
       "<pre style=\"white-space:pre;overflow-x:auto;line-height:normal;font-family:Menlo,'DejaVu Sans Mono',consolas,'Courier New',monospace\">\n",
       "<span style=\"color: #00ff00; text-decoration-color: #00ff00; font-weight: bold\">--- Symptomcategories 數據類型 ---</span>\n",
       "</pre>\n"
      ],
      "text/plain": [
       "\n",
       "\u001b[1;92m--- Symptomcategories 數據類型 ---\u001b[0m\n"
      ]
     },
     "metadata": {},
     "output_type": "display_data"
    },
    {
     "data": {
      "text/html": [
       "<pre style=\"white-space:pre;overflow-x:auto;line-height:normal;font-family:Menlo,'DejaVu Sans Mono',consolas,'Courier New',monospace\"><span style=\"color: #00ffff; text-decoration-color: #00ffff; font-weight: bold\">                                 跨設定 Symptomcategories 平均指標比較 (Mean ± Std)                                </span>\n",
       "<span style=\"color: #ffffff; text-decoration-color: #ffffff\">┏━━━━━━━━━━━━┳━━━━━━━━━━┳━━━━━━━━━━━┳━━━━━━━━━━┳━━━━━━━━━━━┳━━━━━━━━━━┳━━━━━━━━━━━┳━━━━━━━━━━┳━━━━━━━━━━━┳━━━━━━━━━</span>\n",
       "<span style=\"color: #ffffff; text-decoration-color: #ffffff\">┃</span><span style=\"color: #ff00ff; text-decoration-color: #ff00ff; font-weight: bold\"> Fusion     </span><span style=\"color: #ffffff; text-decoration-color: #ffffff\">┃</span><span style=\"color: #ffff00; text-decoration-color: #ffff00; font-weight: bold\">  Overall </span><span style=\"color: #ffffff; text-decoration-color: #ffffff\">┃</span><span style=\"color: #ffff00; text-decoration-color: #ffff00; font-weight: bold\">   Overall </span><span style=\"color: #ffffff; text-decoration-color: #ffffff\">┃</span><span style=\"color: #ffff00; text-decoration-color: #ffff00; font-weight: bold\">          </span><span style=\"color: #ffffff; text-decoration-color: #ffffff\">┃</span><span style=\"color: #ffff00; text-decoration-color: #ffff00; font-weight: bold\">    Medium </span><span style=\"color: #ffffff; text-decoration-color: #ffffff\">┃</span><span style=\"color: #ffff00; text-decoration-color: #ffff00; font-weight: bold\">          </span><span style=\"color: #ffffff; text-decoration-color: #ffffff\">┃</span><span style=\"color: #ffff00; text-decoration-color: #ffff00; font-weight: bold\">           </span><span style=\"color: #ffffff; text-decoration-color: #ffffff\">┃</span><span style=\"color: #ffff00; text-decoration-color: #ffff00; font-weight: bold\">   Medium </span><span style=\"color: #ffffff; text-decoration-color: #ffffff\">┃</span><span style=\"color: #ffff00; text-decoration-color: #ffff00; font-weight: bold\">           </span><span style=\"color: #ffffff; text-decoration-color: #ffffff\">┃</span><span style=\"color: #ffff00; text-decoration-color: #ffff00; font-weight: bold\">  Overall</span>\n",
       "<span style=\"color: #ffffff; text-decoration-color: #ffffff\">┃</span><span style=\"color: #ff00ff; text-decoration-color: #ff00ff; font-weight: bold\"> Mode       </span><span style=\"color: #ffffff; text-decoration-color: #ffffff\">┃</span><span style=\"color: #ffff00; text-decoration-color: #ffff00; font-weight: bold\">      mAP </span><span style=\"color: #ffffff; text-decoration-color: #ffffff\">┃</span><span style=\"color: #ffff00; text-decoration-color: #ffff00; font-weight: bold\">        F1 </span><span style=\"color: #ffffff; text-decoration-color: #ffffff\">┃</span><span style=\"color: #ffff00; text-decoration-color: #ffff00; font-weight: bold\"> Head mAP </span><span style=\"color: #ffffff; text-decoration-color: #ffffff\">┃</span><span style=\"color: #ffff00; text-decoration-color: #ffff00; font-weight: bold\">       mAP </span><span style=\"color: #ffffff; text-decoration-color: #ffffff\">┃</span><span style=\"color: #ffff00; text-decoration-color: #ffff00; font-weight: bold\"> Tail mAP </span><span style=\"color: #ffffff; text-decoration-color: #ffffff\">┃</span><span style=\"color: #ffff00; text-decoration-color: #ffff00; font-weight: bold\">   Head F1 </span><span style=\"color: #ffffff; text-decoration-color: #ffffff\">┃</span><span style=\"color: #ffff00; text-decoration-color: #ffff00; font-weight: bold\">       F1 </span><span style=\"color: #ffffff; text-decoration-color: #ffffff\">┃</span><span style=\"color: #ffff00; text-decoration-color: #ffff00; font-weight: bold\">   Tail F1 </span><span style=\"color: #ffffff; text-decoration-color: #ffffff\">┃</span><span style=\"color: #ffff00; text-decoration-color: #ffff00; font-weight: bold\">      Acc</span>\n",
       "<span style=\"color: #ffffff; text-decoration-color: #ffffff\">┡━━━━━━━━━━━━╇━━━━━━━━━━╇━━━━━━━━━━━╇━━━━━━━━━━╇━━━━━━━━━━━╇━━━━━━━━━━╇━━━━━━━━━━━╇━━━━━━━━━━╇━━━━━━━━━━━╇━━━━━━━━━</span>\n",
       "<span style=\"color: #ffffff; text-decoration-color: #ffffff\">│</span><span style=\"color: #00ffff; text-decoration-color: #00ffff; font-weight: bold\"> film       </span><span style=\"color: #ffffff; text-decoration-color: #ffffff\">│</span>   <span style=\"color: #ffffff; text-decoration-color: #ffffff\">84.91%</span> <span style=\"color: #ffffff; text-decoration-color: #ffffff\">│</span>    <span style=\"color: #ffffff; text-decoration-color: #ffffff\">76.67%</span> <span style=\"color: #ffffff; text-decoration-color: #ffffff\">│</span>   <span style=\"color: #ffffff; text-decoration-color: #ffffff\">94.91%</span> <span style=\"color: #ffffff; text-decoration-color: #ffffff\">│</span>    <span style=\"color: #ffffff; text-decoration-color: #ffffff\">91.07%</span> <span style=\"color: #ffffff; text-decoration-color: #ffffff\">│</span>   <span style=\"color: #ffffff; text-decoration-color: #ffffff\">67.21%</span> <span style=\"color: #ffffff; text-decoration-color: #ffffff\">│</span>    <span style=\"color: #ffffff; text-decoration-color: #ffffff\">88.13%</span> <span style=\"color: #ffffff; text-decoration-color: #ffffff\">│</span>   <span style=\"color: #ffffff; text-decoration-color: #ffffff\">85.69%</span> <span style=\"color: #ffffff; text-decoration-color: #ffffff\">│</span>    <span style=\"color: #ffffff; text-decoration-color: #ffffff\">53.92%</span> <span style=\"color: #ffffff; text-decoration-color: #ffffff\">│</span>   <span style=\"color: #ffffff; text-decoration-color: #ffffff\">95.85%</span>\n",
       "<span style=\"color: #ffffff; text-decoration-color: #ffffff\">│</span><span style=\"color: #00ffff; text-decoration-color: #00ffff; font-weight: bold\">            </span><span style=\"color: #ffffff; text-decoration-color: #ffffff\">│</span>    <span style=\"color: #ffffff; text-decoration-color: #ffffff\">±0.43</span> <span style=\"color: #ffffff; text-decoration-color: #ffffff\">│</span>     <span style=\"color: #ffffff; text-decoration-color: #ffffff\">±1.89</span> <span style=\"color: #ffffff; text-decoration-color: #ffffff\">│</span>    <span style=\"color: #ffffff; text-decoration-color: #ffffff\">±0.05</span> <span style=\"color: #ffffff; text-decoration-color: #ffffff\">│</span>     <span style=\"color: #ffffff; text-decoration-color: #ffffff\">±0.36</span> <span style=\"color: #ffffff; text-decoration-color: #ffffff\">│</span>    <span style=\"color: #ffffff; text-decoration-color: #ffffff\">±1.61</span> <span style=\"color: #ffffff; text-decoration-color: #ffffff\">│</span>     <span style=\"color: #ffffff; text-decoration-color: #ffffff\">±0.17</span> <span style=\"color: #ffffff; text-decoration-color: #ffffff\">│</span>    <span style=\"color: #ffffff; text-decoration-color: #ffffff\">±0.39</span> <span style=\"color: #ffffff; text-decoration-color: #ffffff\">│</span>     <span style=\"color: #ffffff; text-decoration-color: #ffffff\">±5.59</span> <span style=\"color: #ffffff; text-decoration-color: #ffffff\">│</span>    <span style=\"color: #ffffff; text-decoration-color: #ffffff\">±0.04</span>\n",
       "<span style=\"color: #ffffff; text-decoration-color: #ffffff\">└────────────┴──────────┴───────────┴──────────┴───────────┴──────────┴───────────┴──────────┴───────────┴─────────</span>\n",
       "</pre>\n"
      ],
      "text/plain": [
       "\u001b[1;96m                                 跨設定 Symptomcategories 平均指標比較 (Mean ± Std)                                \u001b[0m\n",
       "\u001b[97m┏━━━━━━━━━━━━┳━━━━━━━━━━┳━━━━━━━━━━━┳━━━━━━━━━━┳━━━━━━━━━━━┳━━━━━━━━━━┳━━━━━━━━━━━┳━━━━━━━━━━┳━━━━━━━━━━━┳━━━━━━━━━\u001b[0m\n",
       "\u001b[97m┃\u001b[0m\u001b[1;95m \u001b[0m\u001b[1;95mFusion    \u001b[0m\u001b[1;95m \u001b[0m\u001b[97m┃\u001b[0m\u001b[1;93m \u001b[0m\u001b[1;93m Overall\u001b[0m\u001b[1;93m \u001b[0m\u001b[97m┃\u001b[0m\u001b[1;93m \u001b[0m\u001b[1;93m  Overall\u001b[0m\u001b[1;93m \u001b[0m\u001b[97m┃\u001b[0m\u001b[1;93m          \u001b[0m\u001b[97m┃\u001b[0m\u001b[1;93m \u001b[0m\u001b[1;93m   Medium\u001b[0m\u001b[1;93m \u001b[0m\u001b[97m┃\u001b[0m\u001b[1;93m          \u001b[0m\u001b[97m┃\u001b[0m\u001b[1;93m           \u001b[0m\u001b[97m┃\u001b[0m\u001b[1;93m \u001b[0m\u001b[1;93m  Medium\u001b[0m\u001b[1;93m \u001b[0m\u001b[97m┃\u001b[0m\u001b[1;93m           \u001b[0m\u001b[97m┃\u001b[0m\u001b[1;93m \u001b[0m\u001b[1;93m Overall\u001b[0m\n",
       "\u001b[97m┃\u001b[0m\u001b[1;95m \u001b[0m\u001b[1;95mMode      \u001b[0m\u001b[1;95m \u001b[0m\u001b[97m┃\u001b[0m\u001b[1;93m \u001b[0m\u001b[1;93m     mAP\u001b[0m\u001b[1;93m \u001b[0m\u001b[97m┃\u001b[0m\u001b[1;93m \u001b[0m\u001b[1;93m       F1\u001b[0m\u001b[1;93m \u001b[0m\u001b[97m┃\u001b[0m\u001b[1;93m \u001b[0m\u001b[1;93mHead mAP\u001b[0m\u001b[1;93m \u001b[0m\u001b[97m┃\u001b[0m\u001b[1;93m \u001b[0m\u001b[1;93m      mAP\u001b[0m\u001b[1;93m \u001b[0m\u001b[97m┃\u001b[0m\u001b[1;93m \u001b[0m\u001b[1;93mTail mAP\u001b[0m\u001b[1;93m \u001b[0m\u001b[97m┃\u001b[0m\u001b[1;93m \u001b[0m\u001b[1;93m  Head F1\u001b[0m\u001b[1;93m \u001b[0m\u001b[97m┃\u001b[0m\u001b[1;93m \u001b[0m\u001b[1;93m      F1\u001b[0m\u001b[1;93m \u001b[0m\u001b[97m┃\u001b[0m\u001b[1;93m \u001b[0m\u001b[1;93m  Tail F1\u001b[0m\u001b[1;93m \u001b[0m\u001b[97m┃\u001b[0m\u001b[1;93m \u001b[0m\u001b[1;93m     Acc\u001b[0m\n",
       "\u001b[97m┡━━━━━━━━━━━━╇━━━━━━━━━━╇━━━━━━━━━━━╇━━━━━━━━━━╇━━━━━━━━━━━╇━━━━━━━━━━╇━━━━━━━━━━━╇━━━━━━━━━━╇━━━━━━━━━━━╇━━━━━━━━━\u001b[0m\n",
       "\u001b[97m│\u001b[0m\u001b[1;96m \u001b[0m\u001b[1;96mfilm      \u001b[0m\u001b[1;96m \u001b[0m\u001b[97m│\u001b[0m   \u001b[97m84.91%\u001b[0m \u001b[97m│\u001b[0m    \u001b[97m76.67%\u001b[0m \u001b[97m│\u001b[0m   \u001b[97m94.91%\u001b[0m \u001b[97m│\u001b[0m    \u001b[97m91.07%\u001b[0m \u001b[97m│\u001b[0m   \u001b[97m67.21%\u001b[0m \u001b[97m│\u001b[0m    \u001b[97m88.13%\u001b[0m \u001b[97m│\u001b[0m   \u001b[97m85.69%\u001b[0m \u001b[97m│\u001b[0m    \u001b[97m53.92%\u001b[0m \u001b[97m│\u001b[0m   \u001b[97m95.85%\u001b[0m\n",
       "\u001b[97m│\u001b[0m\u001b[1;96m            \u001b[0m\u001b[97m│\u001b[0m    \u001b[2;97m±0.43\u001b[0m \u001b[97m│\u001b[0m     \u001b[2;97m±1.89\u001b[0m \u001b[97m│\u001b[0m    \u001b[2;97m±0.05\u001b[0m \u001b[97m│\u001b[0m     \u001b[2;97m±0.36\u001b[0m \u001b[97m│\u001b[0m    \u001b[2;97m±1.61\u001b[0m \u001b[97m│\u001b[0m     \u001b[2;97m±0.17\u001b[0m \u001b[97m│\u001b[0m    \u001b[2;97m±0.39\u001b[0m \u001b[97m│\u001b[0m     \u001b[2;97m±5.59\u001b[0m \u001b[97m│\u001b[0m    \u001b[2;97m±0.04\u001b[0m\n",
       "\u001b[97m└────────────┴──────────┴───────────┴──────────┴───────────┴──────────┴───────────┴──────────┴───────────┴─────────\u001b[0m\n"
      ]
     },
     "metadata": {},
     "output_type": "display_data"
    },
    {
     "data": {
      "text/html": [
       "<pre style=\"white-space:pre;overflow-x:auto;line-height:normal;font-family:Menlo,'DejaVu Sans Mono',consolas,'Courier New',monospace\"><span style=\"color: #ffffff; text-decoration-color: #ffffff\">================================================================================</span>\n",
       "</pre>\n"
      ],
      "text/plain": [
       "\u001b[97m================================================================================\u001b[0m\n"
      ]
     },
     "metadata": {},
     "output_type": "display_data"
    },
    {
     "data": {
      "text/html": [
       "<pre style=\"white-space:pre;overflow-x:auto;line-height:normal;font-family:Menlo,'DejaVu Sans Mono',consolas,'Courier New',monospace\">\n",
       "<span style=\"color: #00ff00; text-decoration-color: #00ff00; font-weight: bold\">--- Symptomtags 數據類型 ---</span>\n",
       "</pre>\n"
      ],
      "text/plain": [
       "\n",
       "\u001b[1;92m--- Symptomtags 數據類型 ---\u001b[0m\n"
      ]
     },
     "metadata": {},
     "output_type": "display_data"
    },
    {
     "data": {
      "text/html": [
       "<pre style=\"white-space:pre;overflow-x:auto;line-height:normal;font-family:Menlo,'DejaVu Sans Mono',consolas,'Courier New',monospace\"><span style=\"color: #00ffff; text-decoration-color: #00ffff; font-weight: bold\">                                    跨設定 Symptomtags 平均指標比較 (Mean ± Std)                                   </span>\n",
       "<span style=\"color: #ffffff; text-decoration-color: #ffffff\">┏━━━━━━━━━━━━┳━━━━━━━━━━┳━━━━━━━━━━━┳━━━━━━━━━━┳━━━━━━━━━━━┳━━━━━━━━━━┳━━━━━━━━━━━┳━━━━━━━━━━┳━━━━━━━━━━━┳━━━━━━━━━</span>\n",
       "<span style=\"color: #ffffff; text-decoration-color: #ffffff\">┃</span><span style=\"color: #ff00ff; text-decoration-color: #ff00ff; font-weight: bold\"> Fusion     </span><span style=\"color: #ffffff; text-decoration-color: #ffffff\">┃</span><span style=\"color: #ffff00; text-decoration-color: #ffff00; font-weight: bold\">  Overall </span><span style=\"color: #ffffff; text-decoration-color: #ffffff\">┃</span><span style=\"color: #ffff00; text-decoration-color: #ffff00; font-weight: bold\">   Overall </span><span style=\"color: #ffffff; text-decoration-color: #ffffff\">┃</span><span style=\"color: #ffff00; text-decoration-color: #ffff00; font-weight: bold\">          </span><span style=\"color: #ffffff; text-decoration-color: #ffffff\">┃</span><span style=\"color: #ffff00; text-decoration-color: #ffff00; font-weight: bold\">    Medium </span><span style=\"color: #ffffff; text-decoration-color: #ffffff\">┃</span><span style=\"color: #ffff00; text-decoration-color: #ffff00; font-weight: bold\">          </span><span style=\"color: #ffffff; text-decoration-color: #ffffff\">┃</span><span style=\"color: #ffff00; text-decoration-color: #ffff00; font-weight: bold\">           </span><span style=\"color: #ffffff; text-decoration-color: #ffffff\">┃</span><span style=\"color: #ffff00; text-decoration-color: #ffff00; font-weight: bold\">   Medium </span><span style=\"color: #ffffff; text-decoration-color: #ffffff\">┃</span><span style=\"color: #ffff00; text-decoration-color: #ffff00; font-weight: bold\">           </span><span style=\"color: #ffffff; text-decoration-color: #ffffff\">┃</span><span style=\"color: #ffff00; text-decoration-color: #ffff00; font-weight: bold\">  Overall</span>\n",
       "<span style=\"color: #ffffff; text-decoration-color: #ffffff\">┃</span><span style=\"color: #ff00ff; text-decoration-color: #ff00ff; font-weight: bold\"> Mode       </span><span style=\"color: #ffffff; text-decoration-color: #ffffff\">┃</span><span style=\"color: #ffff00; text-decoration-color: #ffff00; font-weight: bold\">      mAP </span><span style=\"color: #ffffff; text-decoration-color: #ffffff\">┃</span><span style=\"color: #ffff00; text-decoration-color: #ffff00; font-weight: bold\">        F1 </span><span style=\"color: #ffffff; text-decoration-color: #ffffff\">┃</span><span style=\"color: #ffff00; text-decoration-color: #ffff00; font-weight: bold\"> Head mAP </span><span style=\"color: #ffffff; text-decoration-color: #ffffff\">┃</span><span style=\"color: #ffff00; text-decoration-color: #ffff00; font-weight: bold\">       mAP </span><span style=\"color: #ffffff; text-decoration-color: #ffffff\">┃</span><span style=\"color: #ffff00; text-decoration-color: #ffff00; font-weight: bold\"> Tail mAP </span><span style=\"color: #ffffff; text-decoration-color: #ffffff\">┃</span><span style=\"color: #ffff00; text-decoration-color: #ffff00; font-weight: bold\">   Head F1 </span><span style=\"color: #ffffff; text-decoration-color: #ffffff\">┃</span><span style=\"color: #ffff00; text-decoration-color: #ffff00; font-weight: bold\">       F1 </span><span style=\"color: #ffffff; text-decoration-color: #ffffff\">┃</span><span style=\"color: #ffff00; text-decoration-color: #ffff00; font-weight: bold\">   Tail F1 </span><span style=\"color: #ffffff; text-decoration-color: #ffffff\">┃</span><span style=\"color: #ffff00; text-decoration-color: #ffff00; font-weight: bold\">      Acc</span>\n",
       "<span style=\"color: #ffffff; text-decoration-color: #ffffff\">┡━━━━━━━━━━━━╇━━━━━━━━━━╇━━━━━━━━━━━╇━━━━━━━━━━╇━━━━━━━━━━━╇━━━━━━━━━━╇━━━━━━━━━━━╇━━━━━━━━━━╇━━━━━━━━━━━╇━━━━━━━━━</span>\n",
       "<span style=\"color: #ffffff; text-decoration-color: #ffffff\">│</span><span style=\"color: #00ffff; text-decoration-color: #00ffff; font-weight: bold\"> film       </span><span style=\"color: #ffffff; text-decoration-color: #ffffff\">│</span>   <span style=\"color: #ffffff; text-decoration-color: #ffffff\">66.21%</span> <span style=\"color: #ffffff; text-decoration-color: #ffffff\">│</span>    <span style=\"color: #ffffff; text-decoration-color: #ffffff\">52.79%</span> <span style=\"color: #ffffff; text-decoration-color: #ffffff\">│</span>   <span style=\"color: #ffffff; text-decoration-color: #ffffff\">84.17%</span> <span style=\"color: #ffffff; text-decoration-color: #ffffff\">│</span>    <span style=\"color: #ffffff; text-decoration-color: #ffffff\">74.36%</span> <span style=\"color: #ffffff; text-decoration-color: #ffffff\">│</span>   <span style=\"color: #ffffff; text-decoration-color: #ffffff\">22.87%</span> <span style=\"color: #ffffff; text-decoration-color: #ffffff\">│</span>    <span style=\"color: #ffffff; text-decoration-color: #ffffff\">77.67%</span> <span style=\"color: #ffffff; text-decoration-color: #ffffff\">│</span>   <span style=\"color: #ffffff; text-decoration-color: #ffffff\">56.27%</span> <span style=\"color: #ffffff; text-decoration-color: #ffffff\">│</span>     <span style=\"color: #ffffff; text-decoration-color: #ffffff\">4.17%</span> <span style=\"color: #ffffff; text-decoration-color: #ffffff\">│</span>   <span style=\"color: #ffffff; text-decoration-color: #ffffff\">97.84%</span>\n",
       "<span style=\"color: #ffffff; text-decoration-color: #ffffff\">│</span><span style=\"color: #00ffff; text-decoration-color: #00ffff; font-weight: bold\">            </span><span style=\"color: #ffffff; text-decoration-color: #ffffff\">│</span>    <span style=\"color: #ffffff; text-decoration-color: #ffffff\">±0.76</span> <span style=\"color: #ffffff; text-decoration-color: #ffffff\">│</span>     <span style=\"color: #ffffff; text-decoration-color: #ffffff\">±1.67</span> <span style=\"color: #ffffff; text-decoration-color: #ffffff\">│</span>    <span style=\"color: #ffffff; text-decoration-color: #ffffff\">±0.07</span> <span style=\"color: #ffffff; text-decoration-color: #ffffff\">│</span>     <span style=\"color: #ffffff; text-decoration-color: #ffffff\">±1.56</span> <span style=\"color: #ffffff; text-decoration-color: #ffffff\">│</span>    <span style=\"color: #ffffff; text-decoration-color: #ffffff\">±3.66</span> <span style=\"color: #ffffff; text-decoration-color: #ffffff\">│</span>     <span style=\"color: #ffffff; text-decoration-color: #ffffff\">±0.28</span> <span style=\"color: #ffffff; text-decoration-color: #ffffff\">│</span>    <span style=\"color: #ffffff; text-decoration-color: #ffffff\">±2.37</span> <span style=\"color: #ffffff; text-decoration-color: #ffffff\">│</span>     <span style=\"color: #ffffff; text-decoration-color: #ffffff\">±4.25</span> <span style=\"color: #ffffff; text-decoration-color: #ffffff\">│</span>    <span style=\"color: #ffffff; text-decoration-color: #ffffff\">±0.02</span>\n",
       "<span style=\"color: #ffffff; text-decoration-color: #ffffff\">└────────────┴──────────┴───────────┴──────────┴───────────┴──────────┴───────────┴──────────┴───────────┴─────────</span>\n",
       "</pre>\n"
      ],
      "text/plain": [
       "\u001b[1;96m                                    跨設定 Symptomtags 平均指標比較 (Mean ± Std)                                   \u001b[0m\n",
       "\u001b[97m┏━━━━━━━━━━━━┳━━━━━━━━━━┳━━━━━━━━━━━┳━━━━━━━━━━┳━━━━━━━━━━━┳━━━━━━━━━━┳━━━━━━━━━━━┳━━━━━━━━━━┳━━━━━━━━━━━┳━━━━━━━━━\u001b[0m\n",
       "\u001b[97m┃\u001b[0m\u001b[1;95m \u001b[0m\u001b[1;95mFusion    \u001b[0m\u001b[1;95m \u001b[0m\u001b[97m┃\u001b[0m\u001b[1;93m \u001b[0m\u001b[1;93m Overall\u001b[0m\u001b[1;93m \u001b[0m\u001b[97m┃\u001b[0m\u001b[1;93m \u001b[0m\u001b[1;93m  Overall\u001b[0m\u001b[1;93m \u001b[0m\u001b[97m┃\u001b[0m\u001b[1;93m          \u001b[0m\u001b[97m┃\u001b[0m\u001b[1;93m \u001b[0m\u001b[1;93m   Medium\u001b[0m\u001b[1;93m \u001b[0m\u001b[97m┃\u001b[0m\u001b[1;93m          \u001b[0m\u001b[97m┃\u001b[0m\u001b[1;93m           \u001b[0m\u001b[97m┃\u001b[0m\u001b[1;93m \u001b[0m\u001b[1;93m  Medium\u001b[0m\u001b[1;93m \u001b[0m\u001b[97m┃\u001b[0m\u001b[1;93m           \u001b[0m\u001b[97m┃\u001b[0m\u001b[1;93m \u001b[0m\u001b[1;93m Overall\u001b[0m\n",
       "\u001b[97m┃\u001b[0m\u001b[1;95m \u001b[0m\u001b[1;95mMode      \u001b[0m\u001b[1;95m \u001b[0m\u001b[97m┃\u001b[0m\u001b[1;93m \u001b[0m\u001b[1;93m     mAP\u001b[0m\u001b[1;93m \u001b[0m\u001b[97m┃\u001b[0m\u001b[1;93m \u001b[0m\u001b[1;93m       F1\u001b[0m\u001b[1;93m \u001b[0m\u001b[97m┃\u001b[0m\u001b[1;93m \u001b[0m\u001b[1;93mHead mAP\u001b[0m\u001b[1;93m \u001b[0m\u001b[97m┃\u001b[0m\u001b[1;93m \u001b[0m\u001b[1;93m      mAP\u001b[0m\u001b[1;93m \u001b[0m\u001b[97m┃\u001b[0m\u001b[1;93m \u001b[0m\u001b[1;93mTail mAP\u001b[0m\u001b[1;93m \u001b[0m\u001b[97m┃\u001b[0m\u001b[1;93m \u001b[0m\u001b[1;93m  Head F1\u001b[0m\u001b[1;93m \u001b[0m\u001b[97m┃\u001b[0m\u001b[1;93m \u001b[0m\u001b[1;93m      F1\u001b[0m\u001b[1;93m \u001b[0m\u001b[97m┃\u001b[0m\u001b[1;93m \u001b[0m\u001b[1;93m  Tail F1\u001b[0m\u001b[1;93m \u001b[0m\u001b[97m┃\u001b[0m\u001b[1;93m \u001b[0m\u001b[1;93m     Acc\u001b[0m\n",
       "\u001b[97m┡━━━━━━━━━━━━╇━━━━━━━━━━╇━━━━━━━━━━━╇━━━━━━━━━━╇━━━━━━━━━━━╇━━━━━━━━━━╇━━━━━━━━━━━╇━━━━━━━━━━╇━━━━━━━━━━━╇━━━━━━━━━\u001b[0m\n",
       "\u001b[97m│\u001b[0m\u001b[1;96m \u001b[0m\u001b[1;96mfilm      \u001b[0m\u001b[1;96m \u001b[0m\u001b[97m│\u001b[0m   \u001b[97m66.21%\u001b[0m \u001b[97m│\u001b[0m    \u001b[97m52.79%\u001b[0m \u001b[97m│\u001b[0m   \u001b[97m84.17%\u001b[0m \u001b[97m│\u001b[0m    \u001b[97m74.36%\u001b[0m \u001b[97m│\u001b[0m   \u001b[97m22.87%\u001b[0m \u001b[97m│\u001b[0m    \u001b[97m77.67%\u001b[0m \u001b[97m│\u001b[0m   \u001b[97m56.27%\u001b[0m \u001b[97m│\u001b[0m     \u001b[97m4.17%\u001b[0m \u001b[97m│\u001b[0m   \u001b[97m97.84%\u001b[0m\n",
       "\u001b[97m│\u001b[0m\u001b[1;96m            \u001b[0m\u001b[97m│\u001b[0m    \u001b[2;97m±0.76\u001b[0m \u001b[97m│\u001b[0m     \u001b[2;97m±1.67\u001b[0m \u001b[97m│\u001b[0m    \u001b[2;97m±0.07\u001b[0m \u001b[97m│\u001b[0m     \u001b[2;97m±1.56\u001b[0m \u001b[97m│\u001b[0m    \u001b[2;97m±3.66\u001b[0m \u001b[97m│\u001b[0m     \u001b[2;97m±0.28\u001b[0m \u001b[97m│\u001b[0m    \u001b[2;97m±2.37\u001b[0m \u001b[97m│\u001b[0m     \u001b[2;97m±4.25\u001b[0m \u001b[97m│\u001b[0m    \u001b[2;97m±0.02\u001b[0m\n",
       "\u001b[97m└────────────┴──────────┴───────────┴──────────┴───────────┴──────────┴───────────┴──────────┴───────────┴─────────\u001b[0m\n"
      ]
     },
     "metadata": {},
     "output_type": "display_data"
    },
    {
     "data": {
      "text/html": [
       "<pre style=\"white-space:pre;overflow-x:auto;line-height:normal;font-family:Menlo,'DejaVu Sans Mono',consolas,'Courier New',monospace\"><span style=\"color: #ffffff; text-decoration-color: #ffffff\">================================================================================</span>\n",
       "</pre>\n"
      ],
      "text/plain": [
       "\u001b[97m================================================================================\u001b[0m\n"
      ]
     },
     "metadata": {},
     "output_type": "display_data"
    }
   ],
   "source": [
    "# -*- coding: utf-8 -*-\n",
    "import json\n",
    "from rich.console import Console\n",
    "from rich.table import Table\n",
    "import math\n",
    "import sys\n",
    "from collections import defaultdict\n",
    "\n",
    "# --- Configuration ---\n",
    "FILENAME = \"bce_C0_beta_0.json\"  # 在這裡定義檔案名稱\n",
    "console = Console(highlight=False)  # 關閉自動高亮以使用自訂色彩\n",
    "METRICS_ORDER = [\n",
    "    \"overall_mAP\", \"overall_f1\", \"head_mAP\", \"medium_mAP\", \"tail_mAP\",\n",
    "    \"head_f1\", \"medium_f1\", \"tail_f1\", \"overall_acc\"\n",
    "]\n",
    "METRIC_FRIENDLY_NAMES = {\n",
    "    \"overall_mAP\": \"Overall mAP\", \"overall_f1\": \"Overall F1\",\n",
    "    \"head_mAP\": \"Head mAP\", \"medium_mAP\": \"Medium mAP\", \"tail_mAP\": \"Tail mAP\",\n",
    "    \"head_f1\": \"Head F1\", \"medium_f1\": \"Medium F1\", \"tail_f1\": \"Tail F1\",\n",
    "    \"overall_acc\": \"Overall Acc\"\n",
    "}\n",
    "DATA_TYPES = [\"crop\", \"part\", \"symptomCategories\", \"symptomTags\"]\n",
    "PRECISION = 2\n",
    "# 設定名稱列的最大寬度，現在顯示 fusion 模式，可能不需要太寬\n",
    "SETTING_NAME_MAX_WIDTH = 20 # 可以根據需要調整\n",
    "\n",
    "# --- 深色主題顏色配置 ---\n",
    "COLORS = {\n",
    "    \"title\": \"bright_cyan\",\n",
    "    \"data_type\": \"bright_green\",\n",
    "    \"table_title\": \"bright_magenta\",\n",
    "    \"setting_header\": \"bright_cyan\",   # 行標題（設定名稱）的樣式\n",
    "    \"metric_header\": \"bright_yellow\",  # 列標題（指標名稱）的樣式\n",
    "    \"mean_value\": \"bright_white\",      # 平均值的顏色\n",
    "    \"std_dev\": \"dim bright_white\",     # 標準差的顏色 (dim 表示稍暗)\n",
    "    \"error\": \"bright_red\",\n",
    "    \"warning\": \"bright_yellow\",\n",
    "    \"separator\": \"bright_white\",\n",
    "    \"na\": \"gray50\",\n",
    "}\n",
    "\n",
    "# --- Helper Functions ---\n",
    "def format_value(value, is_percent=True, precision=PRECISION, for_std_dev=False):\n",
    "    \"\"\"格式化數值，處理 None 和 NaN。\"\"\"\n",
    "    if value is None or (isinstance(value, float) and math.isnan(value)):\n",
    "        return f\"[{COLORS['na']}]N/A[/{COLORS['na']}]\"\n",
    "    try:\n",
    "        val_float = float(value)\n",
    "        if for_std_dev and abs(val_float) < 1e-9 and abs(val_float) != 0.0:\n",
    "             return f\"{val_float:.{precision}e}\"\n",
    "        elif is_percent:\n",
    "            return f\"{val_float:.{precision}f}%\"\n",
    "        else:\n",
    "            return f\"{val_float:.{precision}f}\"\n",
    "    except (ValueError, TypeError):\n",
    "        return f\"[{COLORS['na']}]N/A[/{COLORS['na']}]\"\n",
    "\n",
    "def format_mean_std(mean, std, is_percent, precision=PRECISION):\n",
    "    \"\"\"將平均值和標準差格式化為單個字串\"\"\"\n",
    "    mean_str = format_value(mean, is_percent=is_percent, precision=precision)\n",
    "    if std is None or (isinstance(std, float) and math.isnan(std)) or abs(float(std)) < 1e-9:\n",
    "        return mean_str\n",
    "    else:\n",
    "        std_str = format_value(std, is_percent=False, precision=precision, for_std_dev=True)\n",
    "        return f\"[{COLORS['mean_value']}]{mean_str}[/{COLORS['mean_value']}] [{COLORS['std_dev']}]±{std_str}[/{COLORS['std_dev']}]\"\n",
    "\n",
    "def extract_fusion_mode(setting_name):\n",
    "    \"\"\"從完整的設定名稱中提取 Fusion 模式\"\"\"\n",
    "    fusion_prefix = \"Fusion=\"\n",
    "    fusion_start_index = setting_name.find(fusion_prefix)\n",
    "\n",
    "    if fusion_start_index != -1:\n",
    "        start = fusion_start_index + len(fusion_prefix)\n",
    "        next_underscore_index = setting_name.find(\"_\", start)\n",
    "        if next_underscore_index != -1:\n",
    "            return setting_name[start:next_underscore_index]\n",
    "        else:\n",
    "            return setting_name[start:] # 如果後面沒有 _，則取到結尾\n",
    "    return setting_name # 如果找不到 \"Fusion=\"，返回原始名稱\n",
    "\n",
    "# --- Load Data from File ---\n",
    "try:\n",
    "    with open(FILENAME, 'r', encoding='utf-8') as f:\n",
    "        data = json.load(f)\n",
    "except FileNotFoundError:\n",
    "    console.print(f\"[bold {COLORS['error']}]錯誤: 找不到檔案:[/bold {COLORS['error']}] '{FILENAME}'\")\n",
    "    sys.exit(1)\n",
    "except json.JSONDecodeError:\n",
    "    console.print(f\"[bold {COLORS['error']}]錯誤: 檔案中的 JSON 格式無效:[/bold {COLORS['error']}] '{FILENAME}'\")\n",
    "    sys.exit(1)\n",
    "\n",
    "# --- Processing ---\n",
    "if not data or not isinstance(data, dict):\n",
    "    console.print(f\"[bold {COLORS['error']}]錯誤: 載入的 JSON 數據為空或不是預期的字典格式。[/bold {COLORS['error']}]\")\n",
    "    sys.exit(1)\n",
    "\n",
    "# --- 1. 收集所有設定的數據 (包含 std) ---\n",
    "comparison_data = defaultdict(lambda: defaultdict(dict))\n",
    "setting_names = list(data.keys())\n",
    "\n",
    "for setting_name, results_data in data.items():\n",
    "    if not isinstance(results_data, dict):\n",
    "        console.print(f\"[{COLORS['warning']}]跳過項目 '{setting_name}'，因為它不是字典。[/{COLORS['warning']}]\")\n",
    "        continue\n",
    "    avg_metrics_data = results_data.get(\"avg_metrics\", {})\n",
    "    for data_type in DATA_TYPES:\n",
    "        data_type_avg_metrics = avg_metrics_data.get(data_type, {})\n",
    "        for metric_key in METRICS_ORDER:\n",
    "            metric_data = data_type_avg_metrics.get(metric_key)\n",
    "            mean_value = None\n",
    "            std_value = None\n",
    "            if isinstance(metric_data, dict):\n",
    "                 mean_value = metric_data.get(\"mean\")\n",
    "                 std_value = metric_data.get(\"std\")\n",
    "            comparison_data[data_type][setting_name][metric_key] = {\n",
    "                \"mean\": mean_value,\n",
    "                \"std\": std_value\n",
    "            }\n",
    "\n",
    "# --- 2. 為每個 data_type 生成轉置的比較表 ---\n",
    "console.print(f\"\\n[bold {COLORS['title']}]跨設定平均指標比較 (含標準差，行列互換)[/bold {COLORS['title']}]\")\n",
    "\n",
    "for data_type in DATA_TYPES:\n",
    "    has_any_data = False\n",
    "    for setting_name in setting_names:\n",
    "        if data_type in comparison_data and setting_name in comparison_data[data_type]:\n",
    "            if any(metric_key in comparison_data[data_type][setting_name] and\n",
    "                   comparison_data[data_type][setting_name][metric_key].get(\"mean\") is not None\n",
    "                   for metric_key in METRICS_ORDER):\n",
    "                 has_any_data = True\n",
    "                 break\n",
    "    if not has_any_data:\n",
    "        console.print(f\"\\n[{COLORS['warning']}]未找到 '{data_type}' 數據類型的任何平均指標數據，跳過此類型。[/{COLORS['warning']}]\")\n",
    "        continue\n",
    "\n",
    "    console.print(f\"\\n[bold {COLORS['data_type']}]--- {data_type.capitalize()} 數據類型 ---[/bold {COLORS['data_type']}]\")\n",
    "\n",
    "    comparison_table = Table(\n",
    "        title=f\"跨設定 {data_type.capitalize()} 平均指標比較 (Mean ± Std)\",\n",
    "        show_header=True,\n",
    "        header_style=f\"bold {COLORS['table_title']}\",\n",
    "        border_style=COLORS[\"separator\"],\n",
    "        title_style=f\"bold {COLORS['title']}\",\n",
    "        expand=True\n",
    "    )\n",
    "\n",
    "    # 添加第一列：設定名稱 (Fusion Mode)\n",
    "    comparison_table.add_column(\"Fusion Mode\", style=f\"bold {COLORS['setting_header']}\", min_width=10, max_width=SETTING_NAME_MAX_WIDTH, overflow=\"fold\")\n",
    "\n",
    "    # 動態添加每個指標的列\n",
    "    metric_columns_added = []\n",
    "    for metric_key in METRICS_ORDER:\n",
    "         if any(setting_name in comparison_data[data_type] and\n",
    "                metric_key in comparison_data[data_type][setting_name] and\n",
    "                comparison_data[data_type][setting_name][metric_key].get(\"mean\") is not None\n",
    "                for setting_name in setting_names):\n",
    "            friendly_name = METRIC_FRIENDLY_NAMES.get(metric_key, metric_key)\n",
    "            comparison_table.add_column(friendly_name, justify=\"right\", header_style=f\"bold {COLORS['metric_header']}\")\n",
    "            metric_columns_added.append(metric_key)\n",
    "\n",
    "    # 填充表格行 (每個設定為一行)\n",
    "    has_rows = False\n",
    "    for setting_name in setting_names:\n",
    "        # 檢查此設定在此 data_type 下是否有任何數據\n",
    "        if not any(metric_key in comparison_data[data_type].get(setting_name, {}) and\n",
    "                   comparison_data[data_type][setting_name][metric_key].get(\"mean\") is not None\n",
    "                   for metric_key in metric_columns_added):\n",
    "            continue\n",
    "\n",
    "        # *** 修改：提取 Fusion 模式作為顯示名稱 ***\n",
    "        display_name = extract_fusion_mode(setting_name)\n",
    "        # 如果提取後為空，則回退到原始名稱（以防萬一）\n",
    "        if not display_name:\n",
    "            display_name = setting_name\n",
    "\n",
    "        row_data = [display_name] # 第一個元素是提取後的 Fusion Mode\n",
    "\n",
    "        # 按照添加的指標列順序填充數據\n",
    "        for metric_key in metric_columns_added:\n",
    "            metric_values = comparison_data[data_type][setting_name].get(metric_key, {\"mean\": None, \"std\": None})\n",
    "            mean_val = metric_values.get(\"mean\")\n",
    "            std_val = metric_values.get(\"std\")\n",
    "\n",
    "            is_percent = any(sub in metric_key.lower() for sub in ['map', 'f1', 'acc'])\n",
    "            formatted_cell = format_mean_std(mean_val, std_val, is_percent, PRECISION)\n",
    "            row_data.append(formatted_cell)\n",
    "\n",
    "        comparison_table.add_row(*row_data)\n",
    "        has_rows = True\n",
    "\n",
    "    # 僅當表格有行時才打印\n",
    "    if has_rows:\n",
    "        console.print(comparison_table)\n",
    "    else:\n",
    "        console.print(f\"[{COLORS['warning']}]未能為 '{data_type}' 生成任何比較行。[/{COLORS['warning']}]\")\n",
    "\n",
    "    console.print(f\"[{COLORS['separator']}]\" + \"=\" * 80 + f\"[/{COLORS['separator']}]\")\n",
    "\n",
    "# --- End of Script ---"
   ]
  }
 ],
 "metadata": {
  "kernelspec": {
   "display_name": "llm",
   "language": "python",
   "name": "python3"
  },
  "language_info": {
   "codemirror_mode": {
    "name": "ipython",
    "version": 3
   },
   "file_extension": ".py",
   "mimetype": "text/x-python",
   "name": "python",
   "nbconvert_exporter": "python",
   "pygments_lexer": "ipython3",
   "version": "3.10.14"
  }
 },
 "nbformat": 4,
 "nbformat_minor": 2
}
